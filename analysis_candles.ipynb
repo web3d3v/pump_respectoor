{
 "cells": [
  {
   "cell_type": "code",
   "execution_count": 35,
   "outputs": [
    {
     "data": {
      "text/plain": "True"
     },
     "execution_count": 35,
     "metadata": {},
     "output_type": "execute_result"
    }
   ],
   "source": [
    "# Imports\n",
    "from utils import read_json_file, write_json_file, read_json_file_or_empty_list\n",
    "from utils import large_num_short_format\n",
    "from dotenv import load_dotenv\n",
    "from typing import  List, Dict\n",
    "from utils import print_progress\n",
    "import pandas as pd\n",
    "import numpy as np\n",
    "import matplotlib.pyplot as plt\n",
    "import  math\n",
    "\n",
    "load_dotenv()"
   ],
   "metadata": {
    "collapsed": false,
    "ExecuteTime": {
     "end_time": "2023-10-17T06:13:18.113136449Z",
     "start_time": "2023-10-17T06:13:18.078235712Z"
    }
   },
   "id": "8c36a810af648008"
  },
  {
   "cell_type": "markdown",
   "source": [],
   "metadata": {
    "collapsed": false
   },
   "id": "1a8e2ac3794623e"
  },
  {
   "cell_type": "code",
   "execution_count": 36,
   "outputs": [
    {
     "name": "stdout",
     "output_type": "stream",
     "text": [
      " Loading candles_daily idx: 10425 / 10426, 100.0%       \n",
      "Daily candles count: 9796\n",
      " Loading chart_full idx: 10424 / 10425, 100.0%       \n",
      "Charts count: 9887\n"
     ]
    }
   ],
   "source": [
    "# Load AUTO charts and convert them to daily \n",
    "from download_chart_data import ChartInterval\n",
    "from download_chart_data import load_chart_by_interval, chart_data_to_df\n",
    "from download_candles import load_candles_by_interval, CandleInterval\n",
    "\n",
    "\n",
    "daily_candles = load_candles_by_interval(CandleInterval.DAILY)\n",
    "print(\"\\nDaily candles count: {}\".format(len(daily_candles)))\n",
    "charts = load_chart_by_interval(ChartInterval.FULL)\n",
    "print(\"\\nCharts count: {}\".format(len(charts)))"
   ],
   "metadata": {
    "collapsed": false,
    "ExecuteTime": {
     "end_time": "2023-10-17T06:13:37.651495637Z",
     "start_time": "2023-10-17T06:13:18.125688119Z"
    }
   },
   "id": "4536f1c477f8f3c3"
  },
  {
   "cell_type": "code",
   "execution_count": 37,
   "outputs": [
    {
     "name": "stdout",
     "output_type": "stream",
     "text": [
      " Transforming charts to dataframe  idx: 9886 / 9887, 100.0%       "
     ]
    }
   ],
   "source": [
    "# Transform charts to data frame\n",
    "df_charts: Dict[str, pd.DataFrame] = dict()\n",
    "total = len(charts)\n",
    "\n",
    "for idx, key in enumerate(charts):\n",
    "    chart = charts[key]\n",
    "    df_charts[key] = chart_data_to_df(chart)\n",
    "    print_progress(\"Transforming charts to dataframe \", idx, total, True)"
   ],
   "metadata": {
    "collapsed": false,
    "ExecuteTime": {
     "end_time": "2023-10-17T06:14:03.976148365Z",
     "start_time": "2023-10-17T06:13:37.652229587Z"
    }
   },
   "id": "ede4345d387baf61"
  },
  {
   "cell_type": "code",
   "execution_count": 38,
   "outputs": [
    {
     "name": "stdout",
     "output_type": "stream",
     "text": [
      " Searching for pumps idx: 9795 / 9796, 100.0%       "
     ]
    }
   ],
   "source": [
    "from download_candles import daily_candle_data_to_df\n",
    "# Find pumps for candles\n",
    "from download_chart_data import chart_data_to_df\n",
    "from utils import print_progress, year_month_str\n",
    "import pandas as pd\n",
    "import  math\n",
    "\n",
    "\n",
    "def is_pump(\n",
    "    open: float, high: float, pump_ratio: float, min_volume: float, volume: float\n",
    ") -> bool:\n",
    "    if math.isnan(open) or math.isnan(high) or math.isnan(volume):\n",
    "        return False\n",
    "    return high >= open * pump_ratio and volume >= min_volume\n",
    "\n",
    "\n",
    "def daily_candle_pumps_info(\n",
    "    candle_data: List[List[any]], pump_ratio: float, min_volume: float, \n",
    "    chart_df: pd.DataFrame, shift_volume: bool = False\n",
    ") -> pd.DataFrame:\n",
    "    df = daily_candle_data_to_df(candle_data)    \n",
    "    if shift_volume:\n",
    "        chart_df = chart_df.shift(1, axis = 0)\n",
    "    df = df.join(chart_df)\n",
    "    df = df.drop(['price', 'market_cap'], axis=1)    \n",
    "    df['Ym'] = list(map(lambda x: year_month_str(x), df.index))\n",
    "    df['pump'] = df.apply(\n",
    "        lambda x: is_pump(x['open'], x['high'], pump_ratio, min_volume, x['volume']),\n",
    "        axis=1\n",
    "    )\n",
    "    return df.loc[df['pump'] == True]\n",
    "\n",
    "\n",
    "pump_ratio = 1.5\n",
    "min_volume = 500000\n",
    "df_candles_pumps: Dict[str, pd.DataFrame] = dict()\n",
    "\n",
    "# for each chart\n",
    "for idx, key in enumerate(daily_candles):\n",
    "    candles = daily_candles[key]\n",
    "    print_progress(\"Searching for pumps\", idx, len(daily_candles), True)\n",
    "    if key not in df_charts: \n",
    "        continue    \n",
    "    df_chart = df_charts[key]\n",
    "    df_candles_pumps[key] = daily_candle_pumps_info(candles, pump_ratio, min_volume, df_chart)"
   ],
   "metadata": {
    "collapsed": false,
    "ExecuteTime": {
     "end_time": "2023-10-17T06:14:40.552058552Z",
     "start_time": "2023-10-17T06:14:04.032459188Z"
    }
   },
   "id": "b3f304e6cbd9d194"
  },
  {
   "cell_type": "code",
   "execution_count": 39,
   "outputs": [
    {
     "name": "stdout",
     "output_type": "stream",
     "text": [
      " Counting for pumps idx: 6 / 7, 85.7%         year/month  pumps                                            markets\n",
      "2    2023-06  226.0  psyop, wassie, primal-b3099cd0-995a-4311-80d5-...\n",
      "3    2023-07  308.0  psyop, leash, sign, bobo-coin, dede, rook, mic...\n",
      "4    2023-08  269.0  socol, psyop, pepecoin-2, aniverse, alexgo, qr...\n",
      "5    2023-09  194.0  bobo-coin, hifi-finance, klaycity-orb, solarx,...\n",
      "6    2023-10   90.0  barnbridge, ooki, adappter-token, cashtree-tok...\n"
     ]
    }
   ],
   "source": [
    "# Counting pumps per month\n",
    "from utils import year_month_keys\n",
    "\n",
    "pumps_df = df_candles_pumps\n",
    "\n",
    "keys = year_month_keys(list(range(2023, 2024)), list(range(4, 11)))\n",
    "zeros = np.zeros(len(keys))\n",
    "empty_strs = map(lambda x: \"\", zeros)\n",
    "result_df = pd.DataFrame(\n",
    "    data={'year/month': keys, \"pumps\": zeros, \"markets\": empty_strs}\n",
    ")\n",
    "\n",
    "for idx, key in enumerate(keys):\n",
    "    for df_key in pumps_df:\n",
    "        df = pumps_df[df_key]\n",
    "        pump_cnt = df.loc[df['Ym'] == key].shape[0]\n",
    "        if pump_cnt > 0:\n",
    "            result_df.loc[result_df['year/month'] == key, 'pumps'] += pump_cnt\n",
    "            result_df.loc[result_df['year/month'] == key, 'markets'] += \"{}, \".format(df_key)\n",
    "\n",
    "    print_progress(\"Counting for pumps\", idx, len(keys), True)\n",
    "\n",
    "print(result_df.tail())"
   ],
   "metadata": {
    "collapsed": false,
    "ExecuteTime": {
     "end_time": "2023-10-17T06:15:01.792434500Z",
     "start_time": "2023-10-17T06:14:40.654026365Z"
    }
   },
   "id": "c2c91df74dceb744"
  },
  {
   "cell_type": "code",
   "execution_count": 40,
   "outputs": [
    {
     "name": "stdout",
     "output_type": "stream",
     "text": [
      "  year/month  pumps                                            markets legend\n",
      "0    2023-04  119.0  bob-token, nasdex-token, hifi-finance, floki-c...  23-04\n",
      "1    2023-05  497.0  memecoin, psyop, wassie, burn, legends-token, ...  23-05\n",
      "2    2023-06  226.0  psyop, wassie, primal-b3099cd0-995a-4311-80d5-...  23-06\n",
      "3    2023-07  308.0  psyop, leash, sign, bobo-coin, dede, rook, mic...  23-07\n",
      "4    2023-08  269.0  socol, psyop, pepecoin-2, aniverse, alexgo, qr...  23-08\n",
      "5    2023-09  194.0  bobo-coin, hifi-finance, klaycity-orb, solarx,...  23-09\n",
      "6    2023-10   90.0  barnbridge, ooki, adappter-token, cashtree-tok...  23-10\n"
     ]
    },
    {
     "data": {
      "text/plain": "<Figure size 640x480 with 1 Axes>",
      "image/png": "[encoded data removed]"
     },
     "metadata": {},
     "output_type": "display_data"
    }
   ],
   "source": [
    "# Display pumps in last 6 months\n",
    "df = result_df\n",
    "df['legend'] = df.apply(lambda x: x['year/month'][2:], axis=1)\n",
    "print(df.tail(12))\n",
    "\n",
    "fig, ax = plt.subplots()\n",
    "ax.bar(df['legend'], df['pumps'])\n",
    "\n",
    "plt.tight_layout() \n",
    "plt.show()\n",
    "# 42 56 41 18"
   ],
   "metadata": {
    "collapsed": false,
    "ExecuteTime": {
     "end_time": "2023-10-17T06:15:01.869345545Z",
     "start_time": "2023-10-17T06:15:01.792372077Z"
    }
   },
   "id": "6cbb79ad7521b101"
  },
  {
   "cell_type": "code",
   "execution_count": 41,
   "outputs": [
    {
     "name": "stdout",
     "output_type": "stream",
     "text": [
      "Pump ratio: 1.5, Min Volume: 100000\n",
      " Counting for pumps idx: 6 / 7, 85.7%       Pump ratio: 1.5, Min Volume: 500000\n",
      " Counting for pumps idx: 6 / 7, 85.7%       Pump ratio: 1.5, Min Volume: 1000000\n",
      " Counting for pumps idx: 6 / 7, 85.7%       Pump ratio: 1.5, Min Volume: 10000000\n",
      " Counting for pumps idx: 6 / 7, 85.7%       Pump ratio: 2.0, Min Volume: 100000\n",
      " Counting for pumps idx: 6 / 7, 85.7%       Pump ratio: 2.0, Min Volume: 500000\n",
      " Counting for pumps idx: 6 / 7, 85.7%       Pump ratio: 2.0, Min Volume: 1000000\n",
      " Counting for pumps idx: 6 / 7, 85.7%       Pump ratio: 2.0, Min Volume: 10000000\n",
      " Counting for pumps idx: 6 / 7, 85.7%       Pump ratio: 4.0, Min Volume: 100000\n",
      " Counting for pumps idx: 6 / 7, 85.7%       Pump ratio: 4.0, Min Volume: 500000\n",
      " Counting for pumps idx: 6 / 7, 85.7%       Pump ratio: 4.0, Min Volume: 1000000\n",
      " Counting for pumps idx: 6 / 7, 85.7%       Pump ratio: 4.0, Min Volume: 10000000\n",
      " Counting for pumps idx: 6 / 7, 85.7%       Pump ratio: 8.0, Min Volume: 100000\n",
      " Counting for pumps idx: 6 / 7, 85.7%       Pump ratio: 8.0, Min Volume: 500000\n",
      " Counting for pumps idx: 6 / 7, 85.7%       Pump ratio: 8.0, Min Volume: 1000000\n",
      " Counting for pumps idx: 6 / 7, 85.7%       Pump ratio: 8.0, Min Volume: 10000000\n",
      " Counting for pumps idx: 6 / 7, 85.7%       %       "
     ]
    }
   ],
   "source": [
    "# Generate files and charts for variety of configs\n",
    "\n",
    "\n",
    "def get_df_candles_pumps(\n",
    "    daily_candles: Dict[str, List[List[any]]], \n",
    "    df_charts: Dict[str, pd.DataFrame], pump_ratio: float, min_volume: float\n",
    ") -> Dict[str, pd.DataFrame]:\n",
    "    df_candles_pumps: Dict[str, pd.DataFrame] = dict()\n",
    "    for idx, key in enumerate(daily_candles):\n",
    "        candles = daily_candles[key]\n",
    "        print_progress(\"Searching for pumps\", idx, len(daily_candles), True)\n",
    "        if key not in df_charts: \n",
    "            continue    \n",
    "        df_chart = df_charts[key]\n",
    "        df_candles_pumps[key] = daily_candle_pumps_info(candles, pump_ratio, min_volume, df_chart)\n",
    "    return df_candles_pumps\n",
    "\n",
    "\n",
    "def get_df_candles_pumps_plot(df_candles_pumps: Dict[str, pd.DataFrame])-> pd.DataFrame:\n",
    "    keys = year_month_keys(list(range(2023, 2024)), list(range(4, 11)))\n",
    "    df = pd.DataFrame(data={\n",
    "        'year/month': keys, \n",
    "        \"pumps\": np.zeros(len(keys)), \n",
    "        \"markets\": map(lambda x: \"\", np.zeros(len(keys)))\n",
    "    })\n",
    "    for idx, key in enumerate(keys):\n",
    "        for df_key in df_candles_pumps:\n",
    "            df_candles_pump = df_candles_pumps[df_key]\n",
    "            pump_cnt = df_candles_pump.loc[df_candles_pump['Ym'] == key].shape[0]\n",
    "            if pump_cnt > 0:\n",
    "                df.loc[df['year/month'] == key, 'pumps'] += pump_cnt\n",
    "                df.loc[df['year/month'] == key, 'markets'] += \"{}, \".format(df_key)\n",
    "    \n",
    "        print_progress(\"Counting for pumps\", idx, len(keys), True)    \n",
    "    return df\n",
    "\n",
    "\n",
    "def plot_df(df: pd.DataFrame):\n",
    "    df['legend'] = df.apply(lambda x: x['year/month'][2:], axis=1)\n",
    "    print(df.tail(12))\n",
    "    fig, ax = plt.subplots()\n",
    "    ax.bar(df['legend'], df['pumps'])\n",
    "    plt.tight_layout() \n",
    "    plt.show()\n",
    "    \n",
    "    \n",
    "def write_pump_to_file(df: pd.DataFrame, pump_ratio: float, min_volume: float):\n",
    "    results = read_json_file_or_empty_list('results/candle_info.json')\n",
    "    info = dict()\n",
    "    pump_count_for_month = dict()\n",
    "    pump_coins_for_month = dict()\n",
    "    for key in df['year/month'].values:\n",
    "        row = df.loc[df['year/month'] == key]\n",
    "        pump_count_for_month[key] = row['pumps'].values[0]\n",
    "        pump_coins_for_month[key] = row['markets'].values[0].split(', ')[:-1]    \n",
    "    info['pump_ratio'] = pump_ratio \n",
    "    info['min_volume'] = min_volume\n",
    "    info['pump_count_for_month'] = pump_count_for_month\n",
    "    info['pump_coins_for_month'] = pump_coins_for_month\n",
    "    results.append(info)\n",
    "    write_json_file('results/candle_info.json', results)\n",
    "\n",
    "\n",
    "pd.set_option('display.width', 256)\n",
    "pd.set_option('display.max_colwidth', 80)\n",
    "\n",
    "pump_ratios = [1.5, 2.0, 4.0, 8.0]\n",
    "min_volumes = [100000, 500000, 1000000, 10000000]\n",
    "keys = year_month_keys(list(range(2017, 2024)), list(range(1, 13)))\n",
    "ratio_results = dict()\n",
    "\n",
    "for pump_ratio in pump_ratios:\n",
    "    volume_results = dict()\n",
    "    for min_volume in min_volumes:\n",
    "        print(\"Pump ratio: {}, Min Volume: {}\".format(pump_ratio, min_volume))\n",
    "        df_candles_pumps = get_df_candles_pumps(daily_candles, df_charts, pump_ratio, min_volume)\n",
    "        df_candles_pumps_plot = get_df_candles_pumps_plot(df_candles_pumps)\n",
    "        # plot_df(df_candles_pumps_plot)\n",
    "        write_pump_to_file(df_candles_pumps_plot, pump_ratio, min_volume)\n",
    "        volume_results[min_volume] = df_candles_pumps_plot\n",
    "    ratio_results[pump_ratio] = volume_results\n",
    "\n",
    "pd.reset_option('display.width')\n",
    "pd.reset_option('display.max_colwidth')"
   ],
   "metadata": {
    "collapsed": false,
    "ExecuteTime": {
     "end_time": "2023-10-17T06:28:44.412004611Z",
     "start_time": "2023-10-17T06:15:01.868820702Z"
    }
   },
   "id": "e0b511002441b20d"
  },
  {
   "cell_type": "code",
   "execution_count": 42,
   "outputs": [
    {
     "name": "stdout",
     "output_type": "stream",
     "text": [
      "Pump ratio 1.5x\n",
      "                   100K        500K     1M        10M\n",
      "year/month                                           \n",
      "2023-05     1054.000000  497.000000  341.0  70.000000\n",
      "2023-06      621.000000  226.000000  139.0  26.000000\n",
      "2023-07      771.000000  308.000000  202.0  46.000000\n",
      "2023-08      664.000000  269.000000  170.0  31.000000\n",
      "2023-09      582.000000  194.000000  126.0  34.000000\n",
      "2023-10      257.000000   90.000000   60.0  16.000000\n",
      "MEAN         605.571429  243.285714  160.0  34.571429\n",
      "MEDIAN       621.000000  226.000000  139.0  31.000000\n"
     ]
    },
    {
     "data": {
      "text/plain": "<Figure size 640x480 with 1 Axes>",
      "image/png": "[encoded data removed]"
     },
     "metadata": {},
     "output_type": "display_data"
    },
    {
     "name": "stdout",
     "output_type": "stream",
     "text": [
      "Pump ratio 2.0x\n",
      "                  100K        500K          1M        10M\n",
      "year/month                                               \n",
      "2023-05     411.000000  205.000000  145.000000  29.000000\n",
      "2023-06     233.000000   85.000000   61.000000  10.000000\n",
      "2023-07     255.000000  111.000000   77.000000  11.000000\n",
      "2023-08     210.000000   86.000000   56.000000   6.000000\n",
      "2023-09     201.000000   66.000000   41.000000   9.000000\n",
      "2023-10      92.000000   30.000000   18.000000   5.000000\n",
      "MEAN        217.428571   90.428571   61.857143  10.857143\n",
      "MEDIAN      210.000000   85.000000   56.000000   9.000000\n"
     ]
    },
    {
     "data": {
      "text/plain": "<Figure size 640x480 with 1 Axes>",
      "image/png": "[encoded data removed]"
     },
     "metadata": {},
     "output_type": "display_data"
    },
    {
     "name": "stdout",
     "output_type": "stream",
     "text": [
      "Pump ratio 4.0x\n",
      "                  100K       500K         1M       10M\n",
      "year/month                                            \n",
      "2023-05     100.000000  47.000000  33.000000  9.000000\n",
      "2023-06      55.000000  16.000000   9.000000  3.000000\n",
      "2023-07      49.000000  19.000000  12.000000  1.000000\n",
      "2023-08      41.000000   8.000000   4.000000  0.000000\n",
      "2023-09      48.000000  17.000000  10.000000  2.000000\n",
      "2023-10      29.000000   6.000000   4.000000  1.000000\n",
      "MEAN         50.285714  17.428571  11.428571  2.428571\n",
      "MEDIAN       48.000000  16.000000   9.000000  1.000000\n"
     ]
    },
    {
     "data": {
      "text/plain": "<Figure size 640x480 with 1 Axes>",
      "image/png": "[encoded data removed]"
     },
     "metadata": {},
     "output_type": "display_data"
    },
    {
     "name": "stdout",
     "output_type": "stream",
     "text": [
      "Pump ratio 8.0x\n",
      "            100K       500K        1M  10M\n",
      "year/month                                \n",
      "2023-05     39.0  14.000000  8.000000  2.0\n",
      "2023-06     32.0   8.000000  5.000000  2.0\n",
      "2023-07     21.0   8.000000  6.000000  1.0\n",
      "2023-08     27.0   6.000000  2.000000  0.0\n",
      "2023-09     21.0   7.000000  6.000000  1.0\n",
      "2023-10     20.0   4.000000  3.000000  1.0\n",
      "MEAN        25.0   7.142857  4.571429  1.0\n",
      "MEDIAN      21.0   7.000000  5.000000  1.0\n"
     ]
    },
    {
     "data": {
      "text/plain": "<Figure size 640x480 with 1 Axes>",
      "image/png": "[encoded data removed]"
     },
     "metadata": {},
     "output_type": "display_data"
    }
   ],
   "source": [
    "def plot_ratio(ratio: float, volume: Dict[int, pd.DataFrame]):\n",
    "    fig, ax = plt.subplots()\n",
    "    for volume_key in volume_results:\n",
    "        df = volume_results[volume_key]\n",
    "        df['legend'] = df.apply(lambda x: x['year/month'][2:], axis=1)\n",
    "        ax.bar(df['legend'], df['pumps'])\n",
    "    plt.tight_layout() \n",
    "    plt.show()\n",
    "\n",
    "\n",
    "def print_data(ratio: float, volume_results: Dict[int, pd.DataFrame], keep_market: bool = False):\n",
    "    merged_df = None\n",
    "    for volume_key in volume_results:\n",
    "        df = volume_results[volume_key]\n",
    "        df['legend'] = df.apply(lambda x: x['year/month'][2:], axis=1)\n",
    "        df = df.set_index('year/month')\n",
    "        row = pd.DataFrame(data={\n",
    "            'year/month': ['MEAN', 'MEDIAN'], \n",
    "            'pumps': [df.loc[:, 'pumps'].mean(), df.loc[:, 'pumps'].median()]\n",
    "        })\n",
    "        row = row.set_index('year/month')\n",
    "        df = pd.concat([df, row])\n",
    "        df = df.rename(columns={'pumps': large_num_short_format(volume_key)})\n",
    "        if keep_market:\n",
    "            df = df.rename(columns={'markets': large_num_short_format(volume_key)})\n",
    "            df = df.drop(['legend'], axis=1)\n",
    "        else:\n",
    "            df = df.drop(['markets', 'legend'], axis=1)\n",
    "        if merged_df is None:\n",
    "            merged_df = df\n",
    "        else:\n",
    "            merged_df = merged_df.join(df)\n",
    "    extra = '_mrk' if keep_market else '' \n",
    "    merged_df.to_csv('results/candle_ratio_' + str(ratio) + extra + '.csv', index=True)    \n",
    "    print(merged_df.tail(8))\n",
    "     \n",
    "for ratio_key in ratio_results:\n",
    "    print(\"Pump ratio {}x\".format(ratio_key))\n",
    "    volume_results = ratio_results[ratio_key]\n",
    "    print_data(ratio_key, volume_results)\n",
    "    plot_ratio(ratio_key, volume_results)    "
   ],
   "metadata": {
    "collapsed": false,
    "ExecuteTime": {
     "end_time": "2023-10-17T06:28:45.132828732Z",
     "start_time": "2023-10-17T06:28:44.426687053Z"
    }
   },
   "id": "a0c9053d2ab30901"
  },
  {
   "cell_type": "markdown",
   "source": [],
   "metadata": {
    "collapsed": false
   },
   "id": "d8f9b9790d6a834c"
  }
 ],
 "metadata": {
  "kernelspec": {
   "display_name": "Python 3",
   "language": "python",
   "name": "python3"
  },
  "language_info": {
   "codemirror_mode": {
    "name": "ipython",
    "version": 2
   },
   "file_extension": ".py",
   "mimetype": "text/x-python",
   "name": "python",
   "nbconvert_exporter": "python",
   "pygments_lexer": "ipython2",
   "version": "2.7.6"
  }
 },
 "nbformat": 4,
 "nbformat_minor": 5
}
