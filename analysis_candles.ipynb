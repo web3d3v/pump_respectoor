{
 "cells": [
  {
   "cell_type": "code",
   "execution_count": 2,
   "outputs": [
    {
     "data": {
      "text/plain": "True"
     },
     "execution_count": 2,
     "metadata": {},
     "output_type": "execute_result"
    }
   ],
   "source": [
    "# Imports\n",
    "from utils import read_json_file, write_json_file, read_json_file_or_empty_list\n",
    "from utils import large_num_short_format\n",
    "from dotenv import load_dotenv\n",
    "from typing import  List, Dict\n",
    "from utils import print_progress\n",
    "import pandas as pd\n",
    "import numpy as np\n",
    "import matplotlib.pyplot as plt\n",
    "import  math\n",
    "\n",
    "load_dotenv()"
   ],
   "metadata": {
    "collapsed": false,
    "ExecuteTime": {
     "end_time": "2023-10-17T12:48:07.266159809Z",
     "start_time": "2023-10-17T12:48:06.457888541Z"
    }
   },
   "id": "8c36a810af648008"
  },
  {
   "cell_type": "markdown",
   "source": [],
   "metadata": {
    "collapsed": false
   },
   "id": "1a8e2ac3794623e"
  },
  {
   "cell_type": "code",
   "execution_count": 3,
   "outputs": [
    {
     "name": "stdout",
     "output_type": "stream",
     "text": [
      " Loading candles_daily idx: 10425 / 10426, 100.0%       \n",
      "Daily candles count: 9796\n",
      " Loading chart_full idx: 10424 / 10425, 100.0%       \n",
      "Charts count: 9887\n"
     ]
    }
   ],
   "source": [
    "# Load AUTO charts and convert them to daily \n",
    "from download_chart_data import ChartInterval\n",
    "from download_chart_data import load_chart_by_interval, chart_data_to_df\n",
    "from download_candles import load_candles_by_interval, CandleInterval\n",
    "\n",
    "\n",
    "daily_candles = load_candles_by_interval(CandleInterval.DAILY)\n",
    "print(\"\\nDaily candles count: {}\".format(len(daily_candles)))\n",
    "charts = load_chart_by_interval(ChartInterval.FULL)\n",
    "print(\"\\nCharts count: {}\".format(len(charts)))"
   ],
   "metadata": {
    "collapsed": false,
    "ExecuteTime": {
     "end_time": "2023-10-17T12:48:23.317238377Z",
     "start_time": "2023-10-17T12:48:07.259563856Z"
    }
   },
   "id": "4536f1c477f8f3c3"
  },
  {
   "cell_type": "code",
   "execution_count": 4,
   "outputs": [
    {
     "name": "stdout",
     "output_type": "stream",
     "text": [
      " Transforming charts to dataframe  idx: 9886 / 9887, 100.0%       "
     ]
    }
   ],
   "source": [
    "# Transform charts to data frame\n",
    "df_charts: Dict[str, pd.DataFrame] = dict()\n",
    "total = len(charts)\n",
    "\n",
    "for idx, key in enumerate(charts):\n",
    "    chart = charts[key]\n",
    "    df_charts[key] = chart_data_to_df(chart)\n",
    "    print_progress(\"Transforming charts to dataframe \", idx, total, True)"
   ],
   "metadata": {
    "collapsed": false,
    "ExecuteTime": {
     "end_time": "2023-10-17T12:48:47.104168305Z",
     "start_time": "2023-10-17T12:48:23.310134209Z"
    }
   },
   "id": "ede4345d387baf61"
  },
  {
   "cell_type": "code",
   "execution_count": 5,
   "outputs": [
    {
     "name": "stdout",
     "output_type": "stream",
     "text": [
      " Searching for pumps idx: 9795 / 9796, 100.0%       "
     ]
    }
   ],
   "source": [
    "from download_candles import daily_candle_data_to_df\n",
    "# Find pumps for candles\n",
    "from download_chart_data import chart_data_to_df\n",
    "from utils import print_progress, year_month_str\n",
    "import pandas as pd\n",
    "import  math\n",
    "\n",
    "\n",
    "def is_pump(\n",
    "    open: float, high: float, pump_ratio: float, min_volume: float, volume: float\n",
    ") -> bool:\n",
    "    if math.isnan(open) or math.isnan(high) or math.isnan(volume):\n",
    "        return False\n",
    "    return high >= open * pump_ratio and volume >= min_volume\n",
    "\n",
    "\n",
    "def daily_candle_pumps_info(\n",
    "    candle_data: List[List[any]], pump_ratio: float, min_volume: float, \n",
    "    chart_df: pd.DataFrame, shift_volume: bool = False\n",
    ") -> pd.DataFrame:\n",
    "    df = daily_candle_data_to_df(candle_data)    \n",
    "    if shift_volume:\n",
    "        chart_df = chart_df.shift(1, axis = 0)\n",
    "    df = df.join(chart_df)\n",
    "    df = df.drop(['price', 'market_cap'], axis=1)    \n",
    "    df['Ym'] = list(map(lambda x: year_month_str(x), df.index))\n",
    "    df['pump'] = df.apply(\n",
    "        lambda x: is_pump(x['open'], x['high'], pump_ratio, min_volume, x['volume']),\n",
    "        axis=1\n",
    "    )\n",
    "    return df.loc[df['pump'] == True]\n",
    "\n",
    "\n",
    "pump_ratio = 1.5\n",
    "min_volume = 500000\n",
    "df_candles_pumps: Dict[str, pd.DataFrame] = dict()\n",
    "\n",
    "# for each chart\n",
    "for idx, key in enumerate(daily_candles):\n",
    "    candles = daily_candles[key]\n",
    "    print_progress(\"Searching for pumps\", idx, len(daily_candles), True)\n",
    "    if key not in df_charts: \n",
    "        continue    \n",
    "    df_chart = df_charts[key]\n",
    "    df_candles_pumps[key] = daily_candle_pumps_info(candles, pump_ratio, min_volume, df_chart)"
   ],
   "metadata": {
    "collapsed": false,
    "ExecuteTime": {
     "end_time": "2023-10-17T12:49:20.785690283Z",
     "start_time": "2023-10-17T12:48:47.117615308Z"
    }
   },
   "id": "b3f304e6cbd9d194"
  },
  {
   "cell_type": "code",
   "execution_count": 6,
   "outputs": [
    {
     "name": "stdout",
     "output_type": "stream",
     "text": [
      " Counting for pumps idx: 6 / 7, 85.7%         year/month  pumps                                            markets\n",
      "2    2023-06  226.0  psyop, wassie, primal-b3099cd0-995a-4311-80d5-...\n",
      "3    2023-07  308.0  psyop, leash, sign, bobo-coin, dede, rook, mic...\n",
      "4    2023-08  269.0  socol, psyop, pepecoin-2, aniverse, alexgo, qr...\n",
      "5    2023-09  194.0  bobo-coin, hifi-finance, klaycity-orb, solarx,...\n",
      "6    2023-10   90.0  barnbridge, ooki, adappter-token, cashtree-tok...\n"
     ]
    }
   ],
   "source": [
    "# Counting pumps per month\n",
    "from utils import year_month_keys\n",
    "\n",
    "pumps_df = df_candles_pumps\n",
    "\n",
    "keys = year_month_keys(list(range(2023, 2024)), list(range(4, 11)))\n",
    "zeros = np.zeros(len(keys))\n",
    "empty_strs = map(lambda x: \"\", zeros)\n",
    "result_df = pd.DataFrame(\n",
    "    data={'year/month': keys, \"pumps\": zeros, \"markets\": empty_strs}\n",
    ")\n",
    "\n",
    "for idx, key in enumerate(keys):\n",
    "    for df_key in pumps_df:\n",
    "        df = pumps_df[df_key]\n",
    "        pump_cnt = df.loc[df['Ym'] == key].shape[0]\n",
    "        if pump_cnt > 0:\n",
    "            result_df.loc[result_df['year/month'] == key, 'pumps'] += pump_cnt\n",
    "            result_df.loc[result_df['year/month'] == key, 'markets'] += \"{}, \".format(df_key)\n",
    "\n",
    "    print_progress(\"Counting for pumps\", idx, len(keys), True)\n",
    "\n",
    "print(result_df.tail())"
   ],
   "metadata": {
    "collapsed": false,
    "ExecuteTime": {
     "end_time": "2023-10-17T12:49:37.525090345Z",
     "start_time": "2023-10-17T12:49:20.802235751Z"
    }
   },
   "id": "c2c91df74dceb744"
  },
  {
   "cell_type": "code",
   "execution_count": 7,
   "outputs": [
    {
     "name": "stdout",
     "output_type": "stream",
     "text": [
      "  year/month  pumps                                            markets legend\n",
      "0    2023-04  119.0  bob-token, nasdex-token, hifi-finance, floki-c...  23-04\n",
      "1    2023-05  497.0  memecoin, psyop, wassie, burn, legends-token, ...  23-05\n",
      "2    2023-06  226.0  psyop, wassie, primal-b3099cd0-995a-4311-80d5-...  23-06\n",
      "3    2023-07  308.0  psyop, leash, sign, bobo-coin, dede, rook, mic...  23-07\n",
      "4    2023-08  269.0  socol, psyop, pepecoin-2, aniverse, alexgo, qr...  23-08\n",
      "5    2023-09  194.0  bobo-coin, hifi-finance, klaycity-orb, solarx,...  23-09\n",
      "6    2023-10   90.0  barnbridge, ooki, adappter-token, cashtree-tok...  23-10\n"
     ]
    },
    {
     "data": {
      "text/plain": "<Figure size 640x480 with 1 Axes>",
      "image/png": "[encoded data removed]"
     },
     "metadata": {},
     "output_type": "display_data"
    }
   ],
   "source": [
    "# Display pumps in last 6 months\n",
    "df = result_df\n",
    "df['legend'] = df.apply(lambda x: x['year/month'][2:], axis=1)\n",
    "print(df.tail(12))\n",
    "\n",
    "fig, ax = plt.subplots()\n",
    "ax.bar(df['legend'], df['pumps'])\n",
    "\n",
    "plt.tight_layout() \n",
    "plt.show()\n",
    "# 42 56 41 18"
   ],
   "metadata": {
    "collapsed": false,
    "ExecuteTime": {
     "end_time": "2023-10-17T12:49:37.634843058Z",
     "start_time": "2023-10-17T12:49:37.523901029Z"
    }
   },
   "id": "6cbb79ad7521b101"
  },
  {
   "cell_type": "code",
   "execution_count": 8,
   "outputs": [
    {
     "name": "stdout",
     "output_type": "stream",
     "text": [
      "Pump ratio: 1.5, Min Volume: 100000\n",
      " Counting for pumps idx: 6 / 7, 85.7%       Pump ratio: 1.5, Min Volume: 500000\n",
      " Counting for pumps idx: 6 / 7, 85.7%       Pump ratio: 1.5, Min Volume: 1000000\n",
      " Counting for pumps idx: 6 / 7, 85.7%       Pump ratio: 1.5, Min Volume: 10000000\n",
      " Counting for pumps idx: 6 / 7, 85.7%       Pump ratio: 2.0, Min Volume: 100000\n",
      " Counting for pumps idx: 6 / 7, 85.7%       Pump ratio: 2.0, Min Volume: 500000\n",
      " Counting for pumps idx: 6 / 7, 85.7%       Pump ratio: 2.0, Min Volume: 1000000\n",
      " Counting for pumps idx: 6 / 7, 85.7%       Pump ratio: 2.0, Min Volume: 10000000\n",
      " Counting for pumps idx: 6 / 7, 85.7%       Pump ratio: 4.0, Min Volume: 100000\n",
      " Counting for pumps idx: 6 / 7, 85.7%       Pump ratio: 4.0, Min Volume: 500000\n",
      " Counting for pumps idx: 6 / 7, 85.7%       Pump ratio: 4.0, Min Volume: 1000000\n",
      " Counting for pumps idx: 6 / 7, 85.7%       Pump ratio: 4.0, Min Volume: 10000000\n",
      " Counting for pumps idx: 6 / 7, 85.7%       Pump ratio: 8.0, Min Volume: 100000\n",
      " Counting for pumps idx: 6 / 7, 85.7%       Pump ratio: 8.0, Min Volume: 500000\n",
      " Counting for pumps idx: 6 / 7, 85.7%       Pump ratio: 8.0, Min Volume: 1000000\n",
      " Counting for pumps idx: 6 / 7, 85.7%       Pump ratio: 8.0, Min Volume: 10000000\n",
      " Counting for pumps idx: 6 / 7, 85.7%       %       "
     ]
    }
   ],
   "source": [
    "# Generate files and charts for variety of configs\n",
    "\n",
    "\n",
    "def get_df_candles_pumps(\n",
    "    daily_candles: Dict[str, List[List[any]]], \n",
    "    df_charts: Dict[str, pd.DataFrame], pump_ratio: float, min_volume: float\n",
    ") -> Dict[str, pd.DataFrame]:\n",
    "    df_candles_pumps: Dict[str, pd.DataFrame] = dict()\n",
    "    for idx, key in enumerate(daily_candles):\n",
    "        candles = daily_candles[key]\n",
    "        print_progress(\"Searching for pumps\", idx, len(daily_candles), True)\n",
    "        if key not in df_charts: \n",
    "            continue    \n",
    "        df_chart = df_charts[key]\n",
    "        df_candles_pumps[key] = daily_candle_pumps_info(candles, pump_ratio, min_volume, df_chart)\n",
    "    return df_candles_pumps\n",
    "\n",
    "\n",
    "def get_df_candles_pumps_plot(df_candles_pumps: Dict[str, pd.DataFrame])-> pd.DataFrame:\n",
    "    keys = year_month_keys(list(range(2023, 2024)), list(range(4, 11)))\n",
    "    df = pd.DataFrame(data={\n",
    "        'year/month': keys, \n",
    "        \"pumps\": np.zeros(len(keys)), \n",
    "        \"markets\": map(lambda x: \"\", np.zeros(len(keys)))\n",
    "    })\n",
    "    for idx, key in enumerate(keys):\n",
    "        for df_key in df_candles_pumps:\n",
    "            df_candles_pump = df_candles_pumps[df_key]\n",
    "            pump_cnt = df_candles_pump.loc[df_candles_pump['Ym'] == key].shape[0]\n",
    "            if pump_cnt > 0:\n",
    "                df.loc[df['year/month'] == key, 'pumps'] += pump_cnt\n",
    "                df.loc[df['year/month'] == key, 'markets'] += \"{}, \".format(df_key)\n",
    "    \n",
    "        print_progress(\"Counting for pumps\", idx, len(keys), True)    \n",
    "    return df\n",
    "\n",
    "\n",
    "def plot_df(df: pd.DataFrame):\n",
    "    df['legend'] = df.apply(lambda x: x['year/month'][2:], axis=1)\n",
    "    print(df.tail(12))\n",
    "    fig, ax = plt.subplots()\n",
    "    ax.bar(df['legend'], df['pumps'])\n",
    "    plt.tight_layout() \n",
    "    plt.show()\n",
    "    \n",
    "    \n",
    "def write_pump_to_file(df: pd.DataFrame, pump_ratio: float, min_volume: float):\n",
    "    results = read_json_file_or_empty_list('results/candle_info.json')\n",
    "    info = dict()\n",
    "    pump_count_for_month = dict()\n",
    "    pump_coins_for_month = dict()\n",
    "    for key in df['year/month'].values:\n",
    "        row = df.loc[df['year/month'] == key]\n",
    "        pump_count_for_month[key] = row['pumps'].values[0]\n",
    "        pump_coins_for_month[key] = row['markets'].values[0].split(', ')[:-1]    \n",
    "    info['pump_ratio'] = pump_ratio \n",
    "    info['min_volume'] = min_volume\n",
    "    info['pump_count_for_month'] = pump_count_for_month\n",
    "    info['pump_coins_for_month'] = pump_coins_for_month\n",
    "    results.append(info)\n",
    "    write_json_file('results/candle_info.json', results)\n",
    "\n",
    "\n",
    "pd.set_option('display.width', 256)\n",
    "pd.set_option('display.max_colwidth', 80)\n",
    "\n",
    "pump_ratios = [1.5, 2.0, 4.0, 8.0]\n",
    "min_volumes = [100000, 500000, 1000000, 10000000]\n",
    "keys = year_month_keys(list(range(2017, 2024)), list(range(1, 13)))\n",
    "ratio_results = dict()\n",
    "\n",
    "for pump_ratio in pump_ratios:\n",
    "    volume_results = dict()\n",
    "    for min_volume in min_volumes:\n",
    "        print(\"Pump ratio: {}, Min Volume: {}\".format(pump_ratio, min_volume))\n",
    "        df_candles_pumps = get_df_candles_pumps(daily_candles, df_charts, pump_ratio, min_volume)\n",
    "        df_candles_pumps_plot = get_df_candles_pumps_plot(df_candles_pumps)\n",
    "        # plot_df(df_candles_pumps_plot)\n",
    "        write_pump_to_file(df_candles_pumps_plot, pump_ratio, min_volume)\n",
    "        volume_results[min_volume] = df_candles_pumps_plot\n",
    "    ratio_results[pump_ratio] = volume_results\n",
    "\n",
    "pd.reset_option('display.width')\n",
    "pd.reset_option('display.max_colwidth')"
   ],
   "metadata": {
    "collapsed": false,
    "ExecuteTime": {
     "end_time": "2023-10-17T13:02:21.921550928Z",
     "start_time": "2023-10-17T12:49:37.631768347Z"
    }
   },
   "id": "e0b511002441b20d"
  },
  {
   "cell_type": "code",
   "execution_count": 9,
   "outputs": [
    {
     "name": "stdout",
     "output_type": "stream",
     "text": [
      "Pump ratio 1.5x\n"
     ]
    },
    {
     "ename": "TypeError",
     "evalue": "object of type 'map' has no len()",
     "output_type": "error",
     "traceback": [
      "\u001B[0;31m---------------------------------------------------------------------------\u001B[0m",
      "\u001B[0;31mTypeError\u001B[0m                                 Traceback (most recent call last)",
      "Cell \u001B[0;32mIn[9], line 41\u001B[0m\n\u001B[1;32m     39\u001B[0m \u001B[38;5;28mprint\u001B[39m(\u001B[38;5;124m\"\u001B[39m\u001B[38;5;124mPump ratio \u001B[39m\u001B[38;5;132;01m{}\u001B[39;00m\u001B[38;5;124mx\u001B[39m\u001B[38;5;124m\"\u001B[39m\u001B[38;5;241m.\u001B[39mformat(ratio_key))\n\u001B[1;32m     40\u001B[0m volume_results \u001B[38;5;241m=\u001B[39m ratio_results[ratio_key]\n\u001B[0;32m---> 41\u001B[0m \u001B[43mprint_data\u001B[49m\u001B[43m(\u001B[49m\u001B[43mratio_key\u001B[49m\u001B[43m,\u001B[49m\u001B[43m \u001B[49m\u001B[43mvolume_results\u001B[49m\u001B[43m)\u001B[49m\n\u001B[1;32m     42\u001B[0m plot_ratio(ratio_key, volume_results)    \n",
      "Cell \u001B[0;32mIn[9], line 17\u001B[0m, in \u001B[0;36mprint_data\u001B[0;34m(ratio, volume_results, keep_market)\u001B[0m\n\u001B[1;32m     15\u001B[0m df[\u001B[38;5;124m'\u001B[39m\u001B[38;5;124mlegend\u001B[39m\u001B[38;5;124m'\u001B[39m] \u001B[38;5;241m=\u001B[39m df\u001B[38;5;241m.\u001B[39mapply(\u001B[38;5;28;01mlambda\u001B[39;00m x: x[\u001B[38;5;124m'\u001B[39m\u001B[38;5;124myear/month\u001B[39m\u001B[38;5;124m'\u001B[39m][\u001B[38;5;241m2\u001B[39m:], axis\u001B[38;5;241m=\u001B[39m\u001B[38;5;241m1\u001B[39m)\n\u001B[1;32m     16\u001B[0m df \u001B[38;5;241m=\u001B[39m df\u001B[38;5;241m.\u001B[39mset_index(\u001B[38;5;124m'\u001B[39m\u001B[38;5;124myear/month\u001B[39m\u001B[38;5;124m'\u001B[39m)\n\u001B[0;32m---> 17\u001B[0m \u001B[43mdf\u001B[49m\u001B[43m[\u001B[49m\u001B[38;5;124;43m'\u001B[39;49m\u001B[38;5;124;43mpumps\u001B[39;49m\u001B[38;5;124;43m'\u001B[39;49m\u001B[43m]\u001B[49m \u001B[38;5;241m=\u001B[39m \u001B[38;5;28mmap\u001B[39m(\u001B[38;5;28;01mlambda\u001B[39;00m x: \u001B[38;5;28mint\u001B[39m(x), df[\u001B[38;5;124m'\u001B[39m\u001B[38;5;124mpumps\u001B[39m\u001B[38;5;124m'\u001B[39m])\n\u001B[1;32m     18\u001B[0m row \u001B[38;5;241m=\u001B[39m pd\u001B[38;5;241m.\u001B[39mDataFrame(data\u001B[38;5;241m=\u001B[39m{\n\u001B[1;32m     19\u001B[0m     \u001B[38;5;124m'\u001B[39m\u001B[38;5;124myear/month\u001B[39m\u001B[38;5;124m'\u001B[39m: [\u001B[38;5;124m'\u001B[39m\u001B[38;5;124mMEAN\u001B[39m\u001B[38;5;124m'\u001B[39m, \u001B[38;5;124m'\u001B[39m\u001B[38;5;124mMEDIAN\u001B[39m\u001B[38;5;124m'\u001B[39m], \n\u001B[1;32m     20\u001B[0m     \u001B[38;5;124m'\u001B[39m\u001B[38;5;124mpumps\u001B[39m\u001B[38;5;124m'\u001B[39m: [df\u001B[38;5;241m.\u001B[39mloc[:, \u001B[38;5;124m'\u001B[39m\u001B[38;5;124mpumps\u001B[39m\u001B[38;5;124m'\u001B[39m]\u001B[38;5;241m.\u001B[39mmean(), df\u001B[38;5;241m.\u001B[39mloc[:, \u001B[38;5;124m'\u001B[39m\u001B[38;5;124mpumps\u001B[39m\u001B[38;5;124m'\u001B[39m]\u001B[38;5;241m.\u001B[39mmedian()]\n\u001B[1;32m     21\u001B[0m })\n\u001B[1;32m     22\u001B[0m row \u001B[38;5;241m=\u001B[39m row\u001B[38;5;241m.\u001B[39mset_index(\u001B[38;5;124m'\u001B[39m\u001B[38;5;124myear/month\u001B[39m\u001B[38;5;124m'\u001B[39m)\n",
      "File \u001B[0;32m~/Development/envs/py310dev/lib/python3.10/site-packages/pandas/core/frame.py:3950\u001B[0m, in \u001B[0;36mDataFrame.__setitem__\u001B[0;34m(self, key, value)\u001B[0m\n\u001B[1;32m   3947\u001B[0m     \u001B[38;5;28mself\u001B[39m\u001B[38;5;241m.\u001B[39m_setitem_array([key], value)\n\u001B[1;32m   3948\u001B[0m \u001B[38;5;28;01melse\u001B[39;00m:\n\u001B[1;32m   3949\u001B[0m     \u001B[38;5;66;03m# set column\u001B[39;00m\n\u001B[0;32m-> 3950\u001B[0m     \u001B[38;5;28;43mself\u001B[39;49m\u001B[38;5;241;43m.\u001B[39;49m\u001B[43m_set_item\u001B[49m\u001B[43m(\u001B[49m\u001B[43mkey\u001B[49m\u001B[43m,\u001B[49m\u001B[43m \u001B[49m\u001B[43mvalue\u001B[49m\u001B[43m)\u001B[49m\n",
      "File \u001B[0;32m~/Development/envs/py310dev/lib/python3.10/site-packages/pandas/core/frame.py:4143\u001B[0m, in \u001B[0;36mDataFrame._set_item\u001B[0;34m(self, key, value)\u001B[0m\n\u001B[1;32m   4133\u001B[0m \u001B[38;5;28;01mdef\u001B[39;00m \u001B[38;5;21m_set_item\u001B[39m(\u001B[38;5;28mself\u001B[39m, key, value) \u001B[38;5;241m-\u001B[39m\u001B[38;5;241m>\u001B[39m \u001B[38;5;28;01mNone\u001B[39;00m:\n\u001B[1;32m   4134\u001B[0m \u001B[38;5;250m    \u001B[39m\u001B[38;5;124;03m\"\"\"\u001B[39;00m\n\u001B[1;32m   4135\u001B[0m \u001B[38;5;124;03m    Add series to DataFrame in specified column.\u001B[39;00m\n\u001B[1;32m   4136\u001B[0m \n\u001B[0;32m   (...)\u001B[0m\n\u001B[1;32m   4141\u001B[0m \u001B[38;5;124;03m    ensure homogeneity.\u001B[39;00m\n\u001B[1;32m   4142\u001B[0m \u001B[38;5;124;03m    \"\"\"\u001B[39;00m\n\u001B[0;32m-> 4143\u001B[0m     value \u001B[38;5;241m=\u001B[39m \u001B[38;5;28;43mself\u001B[39;49m\u001B[38;5;241;43m.\u001B[39;49m\u001B[43m_sanitize_column\u001B[49m\u001B[43m(\u001B[49m\u001B[43mvalue\u001B[49m\u001B[43m)\u001B[49m\n\u001B[1;32m   4145\u001B[0m     \u001B[38;5;28;01mif\u001B[39;00m (\n\u001B[1;32m   4146\u001B[0m         key \u001B[38;5;129;01min\u001B[39;00m \u001B[38;5;28mself\u001B[39m\u001B[38;5;241m.\u001B[39mcolumns\n\u001B[1;32m   4147\u001B[0m         \u001B[38;5;129;01mand\u001B[39;00m value\u001B[38;5;241m.\u001B[39mndim \u001B[38;5;241m==\u001B[39m \u001B[38;5;241m1\u001B[39m\n\u001B[1;32m   4148\u001B[0m         \u001B[38;5;129;01mand\u001B[39;00m \u001B[38;5;129;01mnot\u001B[39;00m is_extension_array_dtype(value)\n\u001B[1;32m   4149\u001B[0m     ):\n\u001B[1;32m   4150\u001B[0m         \u001B[38;5;66;03m# broadcast across multiple columns if necessary\u001B[39;00m\n\u001B[1;32m   4151\u001B[0m         \u001B[38;5;28;01mif\u001B[39;00m \u001B[38;5;129;01mnot\u001B[39;00m \u001B[38;5;28mself\u001B[39m\u001B[38;5;241m.\u001B[39mcolumns\u001B[38;5;241m.\u001B[39mis_unique \u001B[38;5;129;01mor\u001B[39;00m \u001B[38;5;28misinstance\u001B[39m(\u001B[38;5;28mself\u001B[39m\u001B[38;5;241m.\u001B[39mcolumns, MultiIndex):\n",
      "File \u001B[0;32m~/Development/envs/py310dev/lib/python3.10/site-packages/pandas/core/frame.py:4870\u001B[0m, in \u001B[0;36mDataFrame._sanitize_column\u001B[0;34m(self, value)\u001B[0m\n\u001B[1;32m   4867\u001B[0m     \u001B[38;5;28;01mreturn\u001B[39;00m _reindex_for_setitem(Series(value), \u001B[38;5;28mself\u001B[39m\u001B[38;5;241m.\u001B[39mindex)\n\u001B[1;32m   4869\u001B[0m \u001B[38;5;28;01mif\u001B[39;00m is_list_like(value):\n\u001B[0;32m-> 4870\u001B[0m     \u001B[43mcom\u001B[49m\u001B[38;5;241;43m.\u001B[39;49m\u001B[43mrequire_length_match\u001B[49m\u001B[43m(\u001B[49m\u001B[43mvalue\u001B[49m\u001B[43m,\u001B[49m\u001B[43m \u001B[49m\u001B[38;5;28;43mself\u001B[39;49m\u001B[38;5;241;43m.\u001B[39;49m\u001B[43mindex\u001B[49m\u001B[43m)\u001B[49m\n\u001B[1;32m   4871\u001B[0m \u001B[38;5;28;01mreturn\u001B[39;00m sanitize_array(value, \u001B[38;5;28mself\u001B[39m\u001B[38;5;241m.\u001B[39mindex, copy\u001B[38;5;241m=\u001B[39m\u001B[38;5;28;01mTrue\u001B[39;00m, allow_2d\u001B[38;5;241m=\u001B[39m\u001B[38;5;28;01mTrue\u001B[39;00m)\n",
      "File \u001B[0;32m~/Development/envs/py310dev/lib/python3.10/site-packages/pandas/core/common.py:575\u001B[0m, in \u001B[0;36mrequire_length_match\u001B[0;34m(data, index)\u001B[0m\n\u001B[1;32m    571\u001B[0m \u001B[38;5;28;01mdef\u001B[39;00m \u001B[38;5;21mrequire_length_match\u001B[39m(data, index: Index) \u001B[38;5;241m-\u001B[39m\u001B[38;5;241m>\u001B[39m \u001B[38;5;28;01mNone\u001B[39;00m:\n\u001B[1;32m    572\u001B[0m \u001B[38;5;250m    \u001B[39m\u001B[38;5;124;03m\"\"\"\u001B[39;00m\n\u001B[1;32m    573\u001B[0m \u001B[38;5;124;03m    Check the length of data matches the length of the index.\u001B[39;00m\n\u001B[1;32m    574\u001B[0m \u001B[38;5;124;03m    \"\"\"\u001B[39;00m\n\u001B[0;32m--> 575\u001B[0m     \u001B[38;5;28;01mif\u001B[39;00m \u001B[38;5;28;43mlen\u001B[39;49m\u001B[43m(\u001B[49m\u001B[43mdata\u001B[49m\u001B[43m)\u001B[49m \u001B[38;5;241m!=\u001B[39m \u001B[38;5;28mlen\u001B[39m(index):\n\u001B[1;32m    576\u001B[0m         \u001B[38;5;28;01mraise\u001B[39;00m \u001B[38;5;167;01mValueError\u001B[39;00m(\n\u001B[1;32m    577\u001B[0m             \u001B[38;5;124m\"\u001B[39m\u001B[38;5;124mLength of values \u001B[39m\u001B[38;5;124m\"\u001B[39m\n\u001B[1;32m    578\u001B[0m             \u001B[38;5;124mf\u001B[39m\u001B[38;5;124m\"\u001B[39m\u001B[38;5;124m(\u001B[39m\u001B[38;5;132;01m{\u001B[39;00m\u001B[38;5;28mlen\u001B[39m(data)\u001B[38;5;132;01m}\u001B[39;00m\u001B[38;5;124m) \u001B[39m\u001B[38;5;124m\"\u001B[39m\n\u001B[1;32m    579\u001B[0m             \u001B[38;5;124m\"\u001B[39m\u001B[38;5;124mdoes not match length of index \u001B[39m\u001B[38;5;124m\"\u001B[39m\n\u001B[1;32m    580\u001B[0m             \u001B[38;5;124mf\u001B[39m\u001B[38;5;124m\"\u001B[39m\u001B[38;5;124m(\u001B[39m\u001B[38;5;132;01m{\u001B[39;00m\u001B[38;5;28mlen\u001B[39m(index)\u001B[38;5;132;01m}\u001B[39;00m\u001B[38;5;124m)\u001B[39m\u001B[38;5;124m\"\u001B[39m\n\u001B[1;32m    581\u001B[0m         )\n",
      "\u001B[0;31mTypeError\u001B[0m: object of type 'map' has no len()"
     ]
    }
   ],
   "source": [
    "def plot_ratio(ratio: float, volume: Dict[int, pd.DataFrame]):\n",
    "    fig, ax = plt.subplots()\n",
    "    for volume_key in volume_results:\n",
    "        df = volume_results[volume_key]\n",
    "        df['legend'] = df.apply(lambda x: x['year/month'][2:], axis=1)\n",
    "        ax.bar(df['legend'], df['pumps'])\n",
    "    plt.tight_layout() \n",
    "    plt.show()\n",
    "\n",
    "\n",
    "def print_data(ratio: float, volume_results: Dict[int, pd.DataFrame], keep_market: bool = False):\n",
    "    merged_df = None\n",
    "    for volume_key in volume_results:\n",
    "        df = volume_results[volume_key]\n",
    "        df['legend'] = df.apply(lambda x: x['year/month'][2:], axis=1)\n",
    "        df = df.set_index('year/month')\n",
    "        df['pumps'] = map(lambda x: int(x), df['pumps'])\n",
    "        row = pd.DataFrame(data={\n",
    "            'year/month': ['MEAN', 'MEDIAN'], \n",
    "            'pumps': [df.loc[:, 'pumps'].mean(), df.loc[:, 'pumps'].median()]\n",
    "        })\n",
    "        row = row.set_index('year/month')\n",
    "        df = pd.concat([df, row])\n",
    "        df = df.rename(columns={'pumps': large_num_short_format(volume_key)})\n",
    "        if keep_market:\n",
    "            df = df.rename(columns={'markets': large_num_short_format(volume_key)})\n",
    "            df = df.drop(['legend'], axis=1)\n",
    "        else:\n",
    "            df = df.drop(['markets', 'legend'], axis=1)\n",
    "        if merged_df is None:\n",
    "            merged_df = df\n",
    "        else:\n",
    "            merged_df = merged_df.join(df)\n",
    "    extra = '_mrk' if keep_market else '' \n",
    "    merged_df.to_csv('results/candle_ratio_' + str(ratio) + extra + '.csv', index=True)    \n",
    "    print(merged_df.tail(8))\n",
    "     \n",
    "for ratio_key in ratio_results:\n",
    "    print(\"Pump ratio {}x\".format(ratio_key))\n",
    "    volume_results = ratio_results[ratio_key]\n",
    "    print_data(ratio_key, volume_results)\n",
    "    plot_ratio(ratio_key, volume_results)    "
   ],
   "metadata": {
    "collapsed": false,
    "ExecuteTime": {
     "end_time": "2023-10-17T13:02:22.257304594Z",
     "start_time": "2023-10-17T13:02:21.931853257Z"
    }
   },
   "id": "a0c9053d2ab30901"
  },
  {
   "cell_type": "markdown",
   "source": [],
   "metadata": {
    "collapsed": false
   },
   "id": "d8f9b9790d6a834c"
  }
 ],
 "metadata": {
  "kernelspec": {
   "display_name": "Python 3",
   "language": "python",
   "name": "python3"
  },
  "language_info": {
   "codemirror_mode": {
    "name": "ipython",
    "version": 2
   },
   "file_extension": ".py",
   "mimetype": "text/x-python",
   "name": "python",
   "nbconvert_exporter": "python",
   "pygments_lexer": "ipython2",
   "version": "2.7.6"
  }
 },
 "nbformat": 4,
 "nbformat_minor": 5
}
