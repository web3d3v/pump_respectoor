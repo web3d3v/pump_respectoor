{
 "cells": [
  {
   "cell_type": "code",
   "execution_count": 1,
   "outputs": [
    {
     "data": {
      "text/plain": "True"
     },
     "execution_count": 1,
     "metadata": {},
     "output_type": "execute_result"
    }
   ],
   "source": [
    "from utils import read_json_file, write_json_file, read_json_file_or_empty_list\n",
    "from utils import large_num_short_format\n",
    "from dotenv import load_dotenv\n",
    "from typing import  List, Dict\n",
    "from utils import print_progress\n",
    "import pandas as pd\n",
    "import numpy as np\n",
    "import matplotlib.pyplot as plt\n",
    "import math\n",
    "import os\n",
    "import pickle\n",
    "import web3\n",
    "\n",
    "load_dotenv()"
   ],
   "metadata": {
    "collapsed": false,
    "ExecuteTime": {
     "end_time": "2023-12-30T00:26:44.717719298Z",
     "start_time": "2023-12-30T00:26:42.977062598Z"
    }
   },
   "id": "8c36a810af648008"
  },
  {
   "cell_type": "code",
   "execution_count": 2,
   "outputs": [
    {
     "name": "stdout",
     "output_type": "stream",
     "text": [
      " Loading chart_full idx: 10424 / 10425, 100.0%          "
     ]
    },
    {
     "name": "stderr",
     "output_type": "stream",
     "text": [
      "100%|██████████████████████████████████████████████████████████████████████████████████████████████████████████████████████████████████████████████████████████████████| 9887/9887 [00:09<00:00, 1039.28it/s]"
     ]
    },
    {
     "name": "stdout",
     "output_type": "stream",
     "text": [
      "Candles: 9796, Charts: 9887       \n"
     ]
    },
    {
     "name": "stderr",
     "output_type": "stream",
     "text": [
      "\n"
     ]
    }
   ],
   "source": [
    "# Load AUTO charts and convert them to daily \n",
    "from download_chart_data import ChartInterval, charts_dict_to_dfs\n",
    "from download_chart_data import load_chart_by_interval, chart_data_to_df\n",
    "from download_candles import load_candles_by_interval, CandleInterval\n",
    "from utils import SPACE\n",
    "\n",
    "\n",
    "daily_candles = load_candles_by_interval(CandleInterval.DAILY)\n",
    "charts = load_chart_by_interval(ChartInterval.FULL)\n",
    "df_charts = charts_dict_to_dfs(charts)\n",
    "print('Candles: {}, Charts: {}{}'.format(len(daily_candles), len(charts), SPACE))"
   ],
   "metadata": {
    "collapsed": false,
    "ExecuteTime": {
     "end_time": "2023-12-30T00:27:13.302325356Z",
     "start_time": "2023-12-30T00:26:44.726015677Z"
    }
   },
   "id": "4536f1c477f8f3c3"
  },
  {
   "cell_type": "code",
   "execution_count": 3,
   "outputs": [
    {
     "name": "stderr",
     "output_type": "stream",
     "text": [
      "100%|██████████████████████████████████████████████████████████████████████████████████████████████████████████████████████████████████████████████████████████████████| 9795/9795 [00:07<00:00, 1344.10it/s]\n"
     ]
    },
    {
     "name": "stdout",
     "output_type": "stream",
     "text": [
      "Coins that pumped 424\n",
      "Eth coins pumps 273\n"
     ]
    }
   ],
   "source": [
    "from pump_candle import candle_pumps, filter_eth_erc20\n",
    "\n",
    "candles_pumps = candle_pumps(daily_candles, df_charts, 2.0, 500000)\n",
    "print(\"Coins that pumped\", len(candles_pumps.keys()))\n",
    "\n",
    "eth_candle_pumps = filter_eth_erc20(candles_pumps)\n",
    "print(\"Eth coins pumps\", len(eth_candle_pumps.keys()))"
   ],
   "metadata": {
    "collapsed": false,
    "ExecuteTime": {
     "end_time": "2023-12-30T00:27:21.389281150Z",
     "start_time": "2023-12-30T00:27:13.356502811Z"
    }
   },
   "id": "e99d6dfc1957b9b3"
  },
  {
   "cell_type": "code",
   "execution_count": 11,
   "outputs": [
    {
     "name": "stdout",
     "output_type": "stream",
     "text": [
      "['0xcoco', '4chan', 'aardvark', 'acent', 'adreward', 'agility', 'alphai', 'amber-phantom-butterfly', 'anchor-protocol', 'apes-go-bananas', 'apiens', 'archimedes', 'arti-project', 'asap-sniper-bot', 'assangedao', 'astra-protocol-2', 'augur', 'axe-cap', 'axl-inu', 'baby-shiba-inu-erc', 'babypepe', 'barbiecrashbandicootrfk88', 'base-protocol', 'bear-inu', 'bedlingtonterriertoken', 'beep-coin', 'ben-2', 'ben-s-finale', 'biaocoin', 'bifi', 'big-time', 'billy-token', 'bitrock', 'blackpearl-chain', 'block-browser', 'blockbank', 'blockremit', 'blocktools', 'bob-token', 'bobo', 'bobo-coin', 'bogdanoff', 'boltbot', 'botxcoin', 'bridge-bot', 'broccoli', 'brz', 'bull-market', 'bullet-game', 'capybara-token', 'carecoin', 'caroline', 'celsius-degree-token', 'centrality', 'chad-coin', 'cindicator', 'clips', 'coinbot', 'coinhub', 'companionbot', 'connext', 'cope-coin', 'crypto-x', 'cryptopawcoin', 'cult-dao', 'cyberconnect', 'dawn-protocol', 'defidollar-dao', 'degen-zoo', 'delysium', 'dinger-token', 'dinolfg', 'doge-2-0', 'donut', 'doomer-ai', 'dos-network', 'dream-machine-token', 'drep-new', 'dubbz', 'ducks', 'dummy', 'dyor-token-2', 'element-black', 'eml-protocol', 'encryption-ai', 'energi', 'espresso-bot', 'ethermon', 'ethlas', 'evil-pepe', 'fable-of-the-dragon', 'family-guy', 'finance-blocks', 'fine', 'forta', 'fourcoin', 'fuck-pepe', 'furucombo', 'geke', 'generational-wealth', 'geniebot', 'gilgeous', 'gm', 'golcoin', 'gold-3', 'gold-pieces', 'good-gensler', 'grape-2-2', 'greg', 'grumpy-cat-2c33af8d-87a8-4154-b004-0686166bdc45', 'guiser', 'gyoshi', 'haha', 'hamsters', 'haram', 'harrypotterobamapacman8inu', 'harrypotterobamasonic10in', 'harrypottertrumphomersimpson777inu', 'hiens4', 'hifriends', 'himayc', 'himoonbirds', 'hiseals', 'historydao', 'homer', 'homer-2', 'hoppy-token', 'hxacoin', 'iykyk', 'jesus', 'jesus-coin', 'kdag', 'kek', 'kekya', 'kermit-cc0e2d66-4b46-4eaf-9f4e-5caa883d1c09', 'kiboshib', 'kingdomverse', 'kok', 'kollect', 'koyo-6e93c7c7-03a3-4475-86a1-f0bc80ee09d6', 'kuku', 'laelaps', 'lootbot', 'lord-of-dragons', 'loyalty-labs', 'ludena-protocol', 'lumerin', 'lunchdao', 'made-in-real-life', 'maya-preferred-223', 'memecoin', 'mememe', 'messi-coin', 'milady-meme-coin', 'mongcoin', 'monkeys-token', 'monox', 'monte', 'moonbot', 'mooney', 'multichain', 'mumu', 'musk-dao', 'my-defi-pet', 'naruto', 'neon-coin', 'newpepe', 'nezuko', 'nihao', 'none-trading', 'nothing-token', 'numbers-protocol', 'numeraire', 'nyan-meme-coin', 'olympus-v1', 'only-possible-on-ethereum', 'orbler', 'ordinal-doge', 'ordinex', 'oxbitcoin', 'paal-ai', 'papa', 'pear-swap', 'peepo', 'pepe', 'pepe-2-0', 'pepe-chain-2', 'pepe-girl', 'pepe-token', 'pepecoin-2', 'pepedex', 'platonic-quintessence', 'pleb-token', 'polaris-share', 'pooh', 'ppizza', 'primate', 'print-the-pepe', 'project-xeno', 'proof-of-pepe', 'propel-token', 'propy', 'psyop', 'puriever', 'qrolli', 'raptor', 'rari-governance-token', 'rat-roulette', 'recharge', 'red-token', 'reddit', 'relevant', 'ribbit-meme', 'roasthimjim', 'roko-network', 'rook', 'rugame', 'saudi-pepe', 'scooby', 'shanghai-inu', 'shapeshift-fox-token', 'shiba-v-pepe', 'shikoku', 'shinjarium', 'shping', 'sign', 'smol-su', 'smudge-lord', 'socol', 'son-of-pepe', 'spotted-turtle', 'spume', 'spurdo', 'squid-game', 'squid-game-2-0', 'stablz', 'stick-man', 'stonksdao', 'suterusu', 'suzuverse', 'swerve-dao', 'tairyo-inu', 'tate', 'tehbag', 'tetris-2', 'the-ai-dev-bot', 'the-qwan', 'the-reaper-coin', 'the-wasted-lands', 'toad-killer', 'troll', 'turbo', 'ukrainedao-flag-nft', 'unipower', 'universal-basic-income', 'value-liquidity', 'vempire-ddao', 'wagie-bot', 'wagmi-coin', 'wall-street-baby', 'wall-street-bets-dapp', 'wassie', 'wojak', 'woofie', 'wozx', 'x-world-games', 'xai-corp', 'xbot', 'xeno-token', 'yeet-dao', 'youwho', 'zenith-token-306740ae-2497-41a7-aef9-ec34e7f12aa3', 'zenon-2']\n",
      "Eth coins pumps 273\n",
      "youwho (1, 7)\n",
      "2023-07-21\n"
     ]
    }
   ],
   "source": [
    "from utils import year_month_day_str\n",
    "\n",
    "print(sorted(eth_candle_pumps.keys()))\n",
    "print(\"Eth coins pumps\", len(eth_candle_pumps.keys()))\n",
    "\n",
    "tmp_id = 'youwho'\n",
    "tmp_df = eth_candle_pumps[tmp_id]\n",
    "print(tmp_id, tmp_df.shape)\n",
    "for i in range(len(tmp_df.index)):\n",
    "    print(year_month_day_str(tmp_df.index[i]))\n",
    "# jun(6) jul(7) aug(8) sep(9)\n",
    "\n",
    "# 273"
   ],
   "metadata": {
    "collapsed": false,
    "ExecuteTime": {
     "end_time": "2023-12-29T23:58:26.571182383Z",
     "start_time": "2023-12-29T23:58:26.329143259Z"
    }
   },
   "id": "c2c91df74dceb744"
  },
  {
   "cell_type": "code",
   "execution_count": 1,
   "outputs": [],
   "source": [
    "from download_candles import daily_candle_data_to_df\n",
    "from download_chart_data import chart_data_to_df\n",
    "from utils import print_progress, year_month_str, year_month_day_str\n",
    "from utils import read_json_file, write_json_file, read_json_file_or_empty_list\n",
    "from utils import large_num_short_format\n",
    "from dotenv import load_dotenv\n",
    "from typing import  List, Dict\n",
    "from utils import print_progress\n",
    "import pandas as pd\n",
    "import numpy as np\n",
    "import matplotlib.pyplot as plt\n",
    "import os\n",
    "import pickle\n",
    "import web3\n",
    "import math\n",
    "from download_coin import get_address_and_decimals\n",
    "\n",
    "\n",
    "pickled_path = './results/pickled/'\n",
    "\n",
    "# store\n",
    "# for key in eth_df_candles_pumps.keys():\n",
    "    # eth_df_candles_pumps[key].to_pickle(pickled_path + key)\n",
    "    \n",
    "# load\n",
    "eth_df_candles_pumps = dict()\n",
    "for file in os.listdir(pickled_path):\n",
    "    eth_df_candles_pumps[file] = pd.read_pickle(pickled_path + file)"
   ],
   "metadata": {
    "collapsed": false,
    "ExecuteTime": {
     "end_time": "2023-12-29T01:53:47.225484159Z",
     "start_time": "2023-12-29T01:53:45.661845109Z"
    }
   },
   "id": "539a647fa4f8c733"
  },
  {
   "cell_type": "code",
   "execution_count": 47,
   "outputs": [
    {
     "name": "stdout",
     "output_type": "stream",
     "text": [
      "['0xcoco', '4chan', 'aardvark', 'acent', 'adreward', 'agility', 'alphai', 'amber-phantom-butterfly', 'anchor-protocol', 'apes-go-bananas', 'apiens', 'archimedes', 'arti-project', 'asap-sniper-bot', 'assangedao', 'astra-protocol-2', 'augur', 'axe-cap', 'axl-inu', 'baby-shiba-inu-erc', 'babypepe', 'barbiecrashbandicootrfk88', 'base-protocol', 'bear-inu', 'bedlingtonterriertoken', 'beep-coin', 'ben-2', 'ben-s-finale', 'biaocoin', 'bifi', 'big-time', 'billy-token', 'bitrock', 'blackpearl-chain', 'block-browser', 'blockbank', 'blockremit', 'blocktools', 'bob-token', 'bobo', 'bobo-coin', 'bogdanoff', 'boltbot', 'botxcoin', 'bridge-bot', 'broccoli', 'brz', 'bull-market', 'bullet-game', 'capybara-token', 'carecoin', 'caroline', 'celsius-degree-token', 'centrality', 'chad-coin', 'cindicator', 'clips', 'coinbot', 'coinhub', 'companionbot', 'connext', 'cope-coin', 'crypto-x', 'cryptopawcoin', 'cult-dao', 'cyberconnect', 'dawn-protocol', 'defidollar-dao', 'degen-zoo', 'delysium', 'dinger-token', 'dinolfg', 'doge-2-0', 'donut', 'doomer-ai', 'dos-network', 'dream-machine-token', 'drep-new', 'dubbz', 'ducks', 'dummy', 'dyor-token-2', 'element-black', 'eml-protocol', 'encryption-ai', 'energi', 'espresso-bot', 'ethermon', 'ethlas', 'evil-pepe', 'fable-of-the-dragon', 'family-guy', 'finance-blocks', 'fine', 'forta', 'fourcoin', 'fuck-pepe', 'furucombo', 'geke', 'generational-wealth', 'geniebot', 'gilgeous', 'gm', 'golcoin', 'gold-3', 'gold-pieces', 'good-gensler', 'grape-2-2', 'greg', 'grumpy-cat-2c33af8d-87a8-4154-b004-0686166bdc45', 'guiser', 'gyoshi', 'haha', 'hamsters', 'haram', 'harrypotterobamapacman8inu', 'harrypotterobamasonic10in', 'harrypottertrumphomersimpson777inu', 'hiens4', 'hifriends', 'himayc', 'himoonbirds', 'hiseals', 'historydao', 'homer', 'homer-2', 'hoppy-token', 'hxacoin', 'iykyk', 'jesus', 'jesus-coin', 'kdag', 'kek', 'kekya', 'kermit-cc0e2d66-4b46-4eaf-9f4e-5caa883d1c09', 'kiboshib', 'kingdomverse', 'kok', 'kollect', 'koyo-6e93c7c7-03a3-4475-86a1-f0bc80ee09d6', 'kuku', 'laelaps', 'lootbot', 'lord-of-dragons', 'loyalty-labs', 'ludena-protocol', 'lumerin', 'lunchdao', 'made-in-real-life', 'maya-preferred-223', 'memecoin', 'mememe', 'messi-coin', 'milady-meme-coin', 'mongcoin', 'monkeys-token', 'monox', 'monte', 'moonbot', 'mooney', 'multichain', 'mumu', 'musk-dao', 'my-defi-pet', 'naruto', 'neon-coin', 'newpepe', 'nezuko', 'nihao', 'none-trading', 'nothing-token', 'numbers-protocol', 'numeraire', 'nyan-meme-coin', 'olympus-v1', 'only-possible-on-ethereum', 'orbler', 'ordinal-doge', 'ordinex', 'oxbitcoin', 'paal-ai', 'papa', 'pear-swap', 'peepo', 'pepe', 'pepe-2-0', 'pepe-chain-2', 'pepe-girl', 'pepe-token', 'pepecoin-2', 'pepedex', 'platonic-quintessence', 'pleb-token', 'polaris-share', 'pooh', 'ppizza', 'primate', 'print-the-pepe', 'project-xeno', 'proof-of-pepe', 'propel-token', 'propy', 'psyop', 'puriever', 'qrolli', 'raptor', 'rari-governance-token', 'rat-roulette', 'recharge', 'red-token', 'reddit', 'relevant', 'ribbit-meme', 'roasthimjim', 'roko-network', 'rook', 'rugame', 'saudi-pepe', 'scooby', 'shanghai-inu', 'shapeshift-fox-token', 'shiba-v-pepe', 'shikoku', 'shinjarium', 'shping', 'sign', 'smol-su', 'smudge-lord', 'socol', 'son-of-pepe', 'spotted-turtle', 'spume', 'spurdo', 'squid-game', 'squid-game-2-0', 'stablz', 'stick-man', 'stonksdao', 'suterusu', 'suzuverse', 'swerve-dao', 'tairyo-inu', 'tate', 'tehbag', 'tetris-2', 'the-ai-dev-bot', 'the-qwan', 'the-reaper-coin', 'the-wasted-lands', 'toad-killer', 'troll', 'turbo', 'ukrainedao-flag-nft', 'unipower', 'universal-basic-income', 'value-liquidity', 'vempire-ddao', 'wagie-bot', 'wagmi-coin', 'wall-street-baby', 'wall-street-bets-dapp', 'wassie', 'wojak', 'woofie', 'wozx', 'x-world-games', 'xai-corp', 'xbot', 'xeno-token', 'yeet-dao', 'youwho', 'zenith-token-306740ae-2497-41a7-aef9-ec34e7f12aa3', 'zenon-2']\n",
      "psyop\n",
      "2023-05-24\n",
      "2023-07-18\n"
     ]
    }
   ],
   "source": [
    "print(sorted(eth_df_candles_pumps.keys()))\n",
    "\n",
    "coin_id = \"psyop\" # wojak\n",
    "df = eth_df_candles_pumps[coin_id]\n",
    "print(coin_id)\n",
    "for i in range(len(df.index)):\n",
    "    print(year_month_day_str(df.index[i]))\n",
    "timestamp = df.index[1]"
   ],
   "metadata": {
    "collapsed": false,
    "ExecuteTime": {
     "end_time": "2023-12-29T03:29:13.101555495Z",
     "start_time": "2023-12-29T03:29:13.058836387Z"
    }
   },
   "id": "6368677f7b2de6e"
  },
  {
   "cell_type": "markdown",
   "source": [],
   "metadata": {
    "collapsed": false
   },
   "id": "d8f9b9790d6a834c"
  },
  {
   "cell_type": "code",
   "execution_count": 48,
   "outputs": [
    {
     "name": "stdout",
     "output_type": "stream",
     "text": [
      "psyop 2023-07-18\n",
      "get_logs_df psyop\n",
      "(17068409, 17752409)\n"
     ]
    },
    {
     "name": "stderr",
     "output_type": "stream",
     "text": [
      " 32%|█████████████████████████████████████████████████████▏                                                                                                              | 1108/3420 [01:09<05:48,  6.64it/s]"
     ]
    },
    {
     "name": "stdout",
     "output_type": "stream",
     "text": [
      "(17290409, 17290609) (\"Connection broken: InvalidChunkLength(got length b'\\\\xb8\\\\xecF}\\\\x8c\\\\xe8\\\\xaa\\\\xf3 jji\\\\r\\\\n', 0 bytes read)\", InvalidChunkLength(got length b'\\xb8\\xecF}\\x8c\\xe8\\xaa\\xf3 jji\\r\\n', 0 bytes read)) will retry\n"
     ]
    },
    {
     "name": "stderr",
     "output_type": "stream",
     "text": [
      " 38%|██████████████████████████████████████████████████████████████▊                                                                                                     | 1310/3420 [03:20<24:48,  1.42it/s]"
     ]
    },
    {
     "name": "stdout",
     "output_type": "stream",
     "text": [
      "(17326609, 17326809) {'code': -32002, 'message': 'request timed out'} will retry\n"
     ]
    },
    {
     "name": "stderr",
     "output_type": "stream",
     "text": [
      " 42%|████████████████████████████████████████████████████████████████████▍                                                                                               | 1427/3420 [04:51<19:32,  1.70it/s]"
     ]
    },
    {
     "name": "stdout",
     "output_type": "stream",
     "text": [
      "(17349009, 17349209) {'code': -32002, 'message': 'request timed out'} will retry\n"
     ]
    },
    {
     "name": "stderr",
     "output_type": "stream",
     "text": [
      "100%|████████████████████████████████████████████████████████████████████████████████████████████████████████████████████████████████████████████████████████████████████| 3420/3420 [14:18<00:00,  3.98it/s]\n"
     ]
    },
    {
     "name": "stdout",
     "output_type": "stream",
     "text": [
      "logs secs 877.7929582595825 (123297, 8)\n"
     ]
    }
   ],
   "source": [
    "from web3_utils import format_decimals, get_block_near\n",
    "from utils import read_str_file, year_month_day_str, ranges_list\n",
    "from web3 import Web3, AsyncWeb3\n",
    "import web3\n",
    "from multiprocessing import Pool, cpu_count\n",
    "import datetime\n",
    "import time\n",
    "from tqdm import tqdm\n",
    "\n",
    "\n",
    "provider_url = 'http://127.0.0.1:8545'\n",
    "\n",
    "def new_provider(url: str, timeout: int = 120) -> web3.Web3:\n",
    "    return Web3(Web3.HTTPProvider(url, request_kwargs={'timeout': timeout}))\n",
    "    \n",
    "provider = new_provider(provider_url)\n",
    "\n",
    "def block_num_for_timestamp(timestamp: int, provider: web3.Web3) -> int:\n",
    "    return get_block_near(timestamp, provider)\n",
    "    \n",
    "\n",
    "def log_to_list(log: any, decimals: int) -> List[any]:\n",
    "    val = log.args['value']\n",
    "    return [\n",
    "        provider.to_hex(log['transactionHash']), # tx_hash\n",
    "        log['transactionIndex'],                 # tx_idx       \n",
    "        int(log['blockNumber']),                 # blk_num\n",
    "        timestamp,                               # timestamp\n",
    "        log.args['from'],                        # frm\n",
    "        log.args['to'],                          # to\n",
    "        val,                                     # val\n",
    "        format_decimals(val, str(decimals)),     # dec\n",
    "    ]\n",
    "\n",
    "def get_logs_df_wrk_unwrap(args) -> pd.DataFrame:\n",
    "    return get_logs_df_wrk(*args)\n",
    "\n",
    "def get_logs_df_wrk(\n",
    "    addr: str, abi: any, dec: int, provider_url: str, frm: int, to: int,  retry: bool = True\n",
    ") -> pd.DataFrame:\n",
    "    df = pd.DataFrame(columns=[\n",
    "        'tx_hash', 'tx_idx', 'blk_num', 'timestamp', 'frm', 'to', 'val','dec'\n",
    "    ])\n",
    "    addr = Web3.to_checksum_address(addr)\n",
    "    provider = new_provider(provider_url)\n",
    "    contract = provider.eth.contract(address=addr, abi=abi)\n",
    "    logs = list()\n",
    "    try: \n",
    "        logs = contract.events.Transfer().get_logs(fromBlock=frm, toBlock=to)\n",
    "        for log in logs:\n",
    "            df.loc[len(df.index)] = log_to_list(log, dec)\n",
    "    except Exception as err:\n",
    "        if retry:\n",
    "            print('({}, {}) {} will retry'.format(frm, to, err))\n",
    "            time.sleep(1)\n",
    "            return get_logs_df_wrk(addr, abi, dec, provider_url, frm, to, False)\n",
    "        else:\n",
    "            print('({}, {}) {} ERR !!!'.format(frm, to, err))\n",
    "    return df\n",
    "\n",
    "\n",
    "# tx_hash block_num timestamp frm to val dec #Ymd\n",
    "def get_logs_df(\n",
    "    coin_id: str, \n",
    "    pump_timestamp: int,\n",
    "    days: int,\n",
    "    provider_url: str\n",
    ") -> pd.DataFrame:\n",
    "    print('get_logs_df', coin_id)\n",
    "    addr, dec = get_address_and_decimals(coin_id)\n",
    "    if addr is None or dec is None:\n",
    "        return None\n",
    "    \n",
    "    provider = new_provider(provider_url)\n",
    "    pump_block_num = block_num_for_timestamp(pump_timestamp, provider)\n",
    "    st_block = pump_block_num - days * 24 * 60 * 5\n",
    "    ranges = ranges_list(st_block, pump_block_num + (5 * 24 * 60 * 5), 200)\n",
    "    print('({}, {})'.format(st_block, ranges[len(ranges) - 1][1]))\n",
    "    abi = read_str_file('IERC20.json')\n",
    "    df = pd.DataFrame(columns=[\n",
    "        'tx_hash', 'tx_idx', 'blk_num', 'timestamp', 'frm', 'to', 'val','dec'\n",
    "    ])\n",
    "    dfs = []\n",
    "    with Pool(processes=cpu_count()) as p:\n",
    "        vals = map(lambda x: (addr, abi, dec, provider_url, x[0], x[1]), ranges)\n",
    "        vals = list(vals)\n",
    "        # dfs = p.map(get_logs_df_wrk_unwrap, vals)\n",
    "        for res in tqdm(p.imap_unordered(get_logs_df_wrk_unwrap, vals), total=len(vals)):\n",
    "            dfs.append(res)\n",
    "        p.close()\n",
    "        p.join()   \n",
    "    for batch_df in dfs:\n",
    "        df = pd.concat([df, batch_df], ignore_index=True)\n",
    "    return df\n",
    "\n",
    "pd.set_option('display.width', 256)\n",
    "pd.set_option('display.max_colwidth', 24)\n",
    "\n",
    "start = time.time()\n",
    "df = eth_df_candles_pumps[coin_id]\n",
    "print(coin_id, year_month_day_str(timestamp))\n",
    "df_logs = get_logs_df(coin_id, timestamp, 90, provider_url)\n",
    "print(\"logs secs\", time.time() - start, df_logs.shape)"
   ],
   "metadata": {
    "collapsed": false,
    "ExecuteTime": {
     "end_time": "2023-12-29T03:43:57.081468072Z",
     "start_time": "2023-12-29T03:29:19.219246153Z"
    }
   },
   "id": "198666e962d799eb"
  },
  {
   "cell_type": "code",
   "execution_count": 49,
   "outputs": [
    {
     "name": "stdout",
     "output_type": "stream",
     "text": [
      "flatten_logs_to_tx\n"
     ]
    },
    {
     "name": "stderr",
     "output_type": "stream",
     "text": [
      "100%|█████████████████████████████████████████████████████████████████████████████████████████████████████████████████████████████████████████████████████████████████| 79795/79795 [04:08<00:00, 321.73it/s]\n"
     ]
    },
    {
     "name": "stdout",
     "output_type": "stream",
     "text": [
      "(79795, 9)\n",
      "timestamp_for_block_num\n"
     ]
    },
    {
     "name": "stderr",
     "output_type": "stream",
     "text": [
      "100%|█████████████████████████████████████████████████████████████████████████████████████████████████████████████████████████████████████████████████████████████████| 79795/79795 [02:03<00:00, 646.14it/s]\n"
     ]
    },
    {
     "name": "stdout",
     "output_type": "stream",
     "text": [
      "(79795, 10)\n"
     ]
    }
   ],
   "source": [
    "def log_to_tx_wrk_unwrap(args) -> any:\n",
    "    return log_to_tx_wrk(*args)\n",
    "\n",
    "def log_to_tx_wrk(\n",
    "    idx: int, tx_idx: int, blk_num: int, provider_url: str, retry: bool = True\n",
    ") -> any:\n",
    "    provider = new_provider(provider_url)\n",
    "    tx = provider.eth.get_transaction_by_block(int(blk_num), int(tx_idx))\n",
    "    input = provider.to_hex(tx.input) \n",
    "    method_bytes = input[:10]\n",
    "    if method_bytes == '0xa9059cbb': \n",
    "        return idx, 'transfer', \"0x\" + input[34:74]\n",
    "    else:\n",
    "        return idx, 'unknown', None\n",
    "    \n",
    "    \n",
    "def flatten_logs_to_tx(coin_id: str, df: pd.DataFrame, provider_url: str) -> pd.DataFrame:\n",
    "    print('flatten_logs_to_tx')\n",
    "    df = df.copy()\n",
    "    df.drop_duplicates('tx_hash', inplace = True)\n",
    "    df.insert(df.shape[1], 'method', np.arange(0, df.shape[0]))\n",
    "    \n",
    "    vals = list()\n",
    "    for i in range(len(df.index)):\n",
    "        idx = df.index[i]\n",
    "        tx_idx = int(df.loc[idx, 'tx_idx'])\n",
    "        blk_num = int(df.loc[idx, 'blk_num'])\n",
    "        vals.append((idx, tx_idx, blk_num, provider_url))\n",
    "    \n",
    "    results = list()\n",
    "    with Pool(processes=cpu_count()) as p:\n",
    "        for res in tqdm(p.imap_unordered(log_to_tx_wrk_unwrap, vals), total=len(vals)):\n",
    "            results.append(res)\n",
    "        p.close()\n",
    "        p.join() \n",
    "    \n",
    "    for idx, res in enumerate(results):\n",
    "        df.loc[res[0], 'method'] = res[1]\n",
    "        if res[2] is not None:\n",
    "            df.loc[res[0], 'to'] = res[2]    \n",
    "    \n",
    "    return df\n",
    "\n",
    "def timestamp_for_block_num_wrk_unwrap(args):\n",
    "    return timestamp_for_block_num_wrk(*args)\n",
    "\n",
    "\n",
    "def timestamp_for_block_num_wrk(block_num: int, provider_url: str) -> int:\n",
    "    return new_provider(provider_url).eth.get_block(block_num)['timestamp']\n",
    "\n",
    "\n",
    "def timestamp_for_block_num(df: pd.DataFrame, provider_url: str) -> pd.DataFrame:\n",
    "    print('timestamp_for_block_num')\n",
    "    df = df.copy()    \n",
    "    results = list()        \n",
    "    with Pool(processes=cpu_count()) as p:\n",
    "        args = list(map(lambda x: (x, provider_url), df['blk_num']))\n",
    "        for res in tqdm(p.imap(timestamp_for_block_num_wrk_unwrap, args), total=len(args)):\n",
    "            results.append(res)\n",
    "        p.close()\n",
    "        p.join() \n",
    "        \n",
    "    df['timestamp'] = results\n",
    "    df['Ymd'] = list(map(lambda x: year_month_day_str(x), df['timestamp']))\n",
    "    return df\n",
    "\n",
    "df_tx = df_logs.copy()\n",
    "df_tx = flatten_logs_to_tx(coin_id, df_tx, provider_url)\n",
    "print(df_tx.shape)\n",
    "# tx_hash block_num timestamp frm to val dec Ymd \n",
    "df_tx = timestamp_for_block_num(df_tx, provider_url)\n",
    "print(df_tx.shape)"
   ],
   "metadata": {
    "collapsed": false,
    "ExecuteTime": {
     "end_time": "2023-12-29T03:50:16.058631647Z",
     "start_time": "2023-12-29T03:43:57.064624685Z"
    }
   },
   "id": "ff16265ccd4bb1a5"
  },
  {
   "cell_type": "code",
   "execution_count": 50,
   "outputs": [
    {
     "name": "stdout",
     "output_type": "stream",
     "text": [
      "groups 66\n",
      "           Ymd  txs_cnt       txs_val  eoa_txs_cnt  eoa_txs_val  tx_cnt_pct  tx_val_pct  high_swap\n",
      "0   2023-05-19     4021  529407844921          172    978498931      0.0428      0.0018       True\n",
      "1   2023-05-20     1327    7922208325          102   3438863363      0.0769      0.4341       True\n",
      "2   2023-05-21     2086   10141138687          132   4307824208      0.0633      0.4248       True\n",
      "3   2023-05-22     3883   30685699233           91     81257038      0.0234      0.0026       True\n",
      "4   2023-05-23     9517   21627385877          280    438683568      0.0294      0.0203       True\n",
      "5   2023-05-24     5436    8345246396          188    245167659      0.0346      0.0294       True\n",
      "6   2023-05-25     4622    5405744855          305    245040109      0.0660      0.0453       True\n",
      "7   2023-05-26     3084    6923593050          154     45219467      0.0499      0.0065       True\n",
      "8   2023-05-27     3784    5662477934          175    167337961      0.0462      0.0296       True\n",
      "9   2023-05-28     1213    1235327847           58     64502078      0.0478      0.0522       True\n",
      "10  2023-05-29      880    1200260806           48    370239481      0.0545      0.3085       True\n",
      "11  2023-05-30     1009    1492990922           61    111162360      0.0605      0.0745       True\n",
      "12  2023-05-31      853    1660341156           42    507452216      0.0492      0.3056       True\n",
      "13  2023-06-01     1878    2140499420          148     38740903      0.0788      0.0181       True\n",
      "14  2023-06-02     1360    2789913459          104    260281271      0.0765      0.0933       True\n",
      "15  2023-06-03     1496    2898718421           61     80844870      0.0408      0.0279       True\n",
      "16  2023-06-04     1336    2641401618           59     39929293      0.0442      0.0151       True\n",
      "17  2023-06-05      941    1921960157           43     16210241      0.0457      0.0084       True\n",
      "18  2023-06-06      455     683475436           28     19127342      0.0615      0.0280       True\n",
      "19  2023-06-07      504     968809980           49     27512096      0.0972      0.0284       True\n",
      "20  2023-06-08      323    3571321062           17     30797834      0.0526      0.0086       True\n",
      "21  2023-06-09      457     775699143           20     15191995      0.0438      0.0196       True\n",
      "22  2023-06-10      441     358012477           20     14513997      0.0454      0.0405       True\n",
      "23  2023-06-11      252     243323282           31     17558219      0.1230      0.0722       True\n",
      "24  2023-06-12      286     242519063           23      8065576      0.0804      0.0333       True\n",
      "25  2023-06-13      299     226926223           26     42779753      0.0870      0.1885       True\n",
      "26  2023-06-14      385     193481226           25     12825038      0.0649      0.0663       True\n",
      "27  2023-06-15      333     252917803           31     20048786      0.0931      0.0793       True\n",
      "28  2023-06-16      291     155922554           16      5177242      0.0550      0.0332       True\n",
      "29  2023-06-17      257      98435832           11      4812461      0.0428      0.0489       True\n",
      "30  2023-06-18      249      86239869           14      7562034      0.0562      0.0877       True\n",
      "31  2023-06-19      228     117873585           13     14242625      0.0570      0.1208       True\n",
      "32  2023-06-20      239     155991577           15      6601546      0.0628      0.0423       True\n",
      "33  2023-06-21      348     328656987            8      2199442      0.0230      0.0067       True\n",
      "34  2023-06-22     1013     766439276           74     19198226      0.0731      0.0250       True\n",
      "35  2023-06-23      625     386048140           28     12589756      0.0448      0.0326       True\n",
      "36  2023-06-24      310     183982781            8      1070850      0.0258      0.0058       True\n",
      "37  2023-06-25     1876    1276006483           93     45603542      0.0496      0.0357       True\n",
      "38  2023-06-26      631     445849524           34     36430403      0.0539      0.0817       True\n",
      "39  2023-06-27      524     388385710           15      5860028      0.0286      0.0151       True\n",
      "40  2023-06-28      432     296507936           23      9860444      0.0532      0.0333       True\n",
      "41  2023-06-29     1011     723311460          268     73313213      0.2651      0.1014       True\n",
      "42  2023-06-30      351     363288334           26     34166984      0.0741      0.0940       True\n",
      "43  2023-07-01      307     249934537           29     24920866      0.0945      0.0997       True\n",
      "44  2023-07-02      323     249733844           37     51065067      0.1146      0.2045       True\n",
      "45  2023-07-03      144     126822425            9     19187888      0.0625      0.1513       True\n",
      "46  2023-07-04      235     175197576           13      9744558      0.0553      0.0556       True\n",
      "47  2023-07-05      270     222617286           27     24109762      0.1000      0.1083       True\n",
      "48  2023-07-06      186     140244480           18     18062479      0.0968      0.1288       True\n",
      "49  2023-07-07      180     148891635           11     32938548      0.0611      0.2212       True\n",
      "50  2023-07-08      165     111257054            9      6228942      0.0545      0.0560       True\n",
      "51  2023-07-09      174     132398094           18     11863104      0.1034      0.0896       True\n",
      "52  2023-07-10      115      53159959           17      6665289      0.1478      0.1254       True\n",
      "53  2023-07-11      129      74961054            7      7434419      0.0543      0.0992       True\n",
      "54  2023-07-12      110      72307535            2       704301      0.0182      0.0097       True\n",
      "55  2023-07-13      174     165088525           27     44358597      0.1552      0.2687       True\n",
      "56  2023-07-14      143     126954669           17     21373441      0.1189      0.1684       True\n",
      "57  2023-07-15      176     162931904            7      7318976      0.0398      0.0449       True\n",
      "58  2023-07-16      442     584066564           28     66419388      0.0633      0.1137       True\n",
      "59  2023-07-17     7158   15192504961          245    439038185      0.0342      0.0289       True\n",
      "60  2023-07-18     3509    5228480951          118    193941955      0.0336      0.0371       True\n",
      "61  2023-07-19     1184    1600581297           62     43802019      0.0524      0.0274       True\n",
      "62  2023-07-20     1351    2184051991           80     58563930      0.0592      0.0268       True\n",
      "63  2023-07-21      882    1420381290           49    254478024      0.0556      0.1792       True\n",
      "64  2023-07-22     1416    1768986207           67     73422350      0.0473      0.0415       True\n",
      "65  2023-07-23      176     349340266            5      2347825      0.0284      0.0067       True\n"
     ]
    }
   ],
   "source": [
    "from math import ceil\n",
    "\n",
    "\n",
    "# Ymd tx_cnt, tx_val_total, eoa_tx_cnt, eoa_val_total\n",
    "def grouped_by_day(df: pd.DataFrame) -> pd.DataFrame:\n",
    "    df = df.copy()\n",
    "    grouped = df.groupby('Ymd')\n",
    "    res_df = pd.DataFrame(columns=['Ymd', 'txs_cnt', 'txs_val', 'eoa_txs_cnt', 'eoa_txs_val'])\n",
    "    print(\"groups\", len(grouped))\n",
    "    for key, group in grouped:\n",
    "        eoa_txs = group[group['method'] == 'transfer']\n",
    "        eoa_txs_cnt = len(eoa_txs)\n",
    "        eoa_txs_val = ceil(eoa_txs['dec'].sum())\n",
    "        row = [key, len(group), ceil(group['dec'].sum()), eoa_txs_cnt, eoa_txs_val]\n",
    "        res_df.loc[len(res_df.index)] = row\n",
    "    \n",
    "    res_df['tx_cnt_pct'] =  res_df['eoa_txs_cnt'] / res_df['txs_cnt']\n",
    "    res_df['tx_val_pct'] =  res_df['eoa_txs_val'] / res_df['txs_val']\n",
    "    res_df['high_swap'] =  res_df['tx_val_pct'] < 0.5 # res_df['eoa_txs_val'] / res_df['txs_val']\n",
    "    res_df = res_df.round({'tx_cnt_pct': 4, 'tx_val_pct': 4})\n",
    "    return res_df\n",
    "\n",
    "\n",
    "pd.set_option('display.width', 256)\n",
    "pd.set_option('display.max_colwidth', 24)\n",
    "\n",
    "# Ymd tx_cnt, tx_val_total, eoa_tx_cnt, eoa_val_total\n",
    "res_df = grouped_by_day(df_tx)\n",
    "print(res_df.to_string())\n",
    "\n",
    "pd.reset_option('display.width')\n",
    "pd.reset_option('display.max_colwidth')"
   ],
   "metadata": {
    "collapsed": false,
    "ExecuteTime": {
     "end_time": "2023-12-29T03:50:16.226673022Z",
     "start_time": "2023-12-29T03:50:16.057597900Z"
    }
   },
   "id": "df6ee50c41768cc0"
  },
  {
   "cell_type": "code",
   "execution_count": 57,
   "outputs": [
    {
     "name": "stdout",
     "output_type": "stream",
     "text": [
      " Searching for pumps idx: 9795 / 9796, 100.0%       get_logs_df socol\n",
      "(17375703, 18059703)\n"
     ]
    },
    {
     "name": "stderr",
     "output_type": "stream",
     "text": [
      "  0%|                                                                                                                                                                       | 1/3420 [00:00<53:53,  1.06it/s]"
     ]
    },
    {
     "name": "stdout",
     "output_type": "stream",
     "text": [
      "(17377703, 17377903) {'code': -32700, 'message': 'parse error'} will retry\n"
     ]
    },
    {
     "name": "stderr",
     "output_type": "stream",
     "text": [
      "100%|████████████████████████████████████████████████████████████████████████████████████████████████████████████████████████████████████████████████████████████████████| 3420/3420 [03:46<00:00, 15.09it/s]\n"
     ]
    },
    {
     "name": "stdout",
     "output_type": "stream",
     "text": [
      "timestamp_for_block_num\n"
     ]
    },
    {
     "name": "stderr",
     "output_type": "stream",
     "text": [
      "100%|███████████████████████████████████████████████████████████████████████████████████████████████████████████████████████████████████████████████████████████████████| 1894/1894 [00:04<00:00, 456.35it/s]\n"
     ]
    },
    {
     "name": "stdout",
     "output_type": "stream",
     "text": [
      "flatten_logs_to_tx\n"
     ]
    },
    {
     "name": "stderr",
     "output_type": "stream",
     "text": [
      "100%|██████████████████████████████████████████████████████████████████████████████████████████████████████████████████████████████████████████████████████████████████| 1813/1813 [00:01<00:00, 1483.40it/s]\n"
     ]
    },
    {
     "name": "stdout",
     "output_type": "stream",
     "text": [
      "groups 95\n",
      "get_logs_df memecoin\n",
      "(16705817, 17389817)\n"
     ]
    },
    {
     "name": "stderr",
     "output_type": "stream",
     "text": [
      "  0%|                                                                                                                                                                       | 2/3420 [00:00<16:58,  3.36it/s]"
     ]
    },
    {
     "name": "stdout",
     "output_type": "stream",
     "text": [
      "(16707817, 16708017) {'code': -32700, 'message': 'parse error'} will retry\n"
     ]
    },
    {
     "name": "stderr",
     "output_type": "stream",
     "text": [
      "100%|████████████████████████████████████████████████████████████████████████████████████████████████████████████████████████████████████████████████████████████████████| 3420/3420 [05:56<00:00,  9.61it/s]\n"
     ]
    },
    {
     "name": "stdout",
     "output_type": "stream",
     "text": [
      "timestamp_for_block_num\n"
     ]
    },
    {
     "name": "stderr",
     "output_type": "stream",
     "text": [
      "100%|█████████████████████████████████████████████████████████████████████████████████████████████████████████████████████████████████████████████████████████████████████| 392/392 [00:01<00:00, 342.98it/s]\n"
     ]
    },
    {
     "name": "stdout",
     "output_type": "stream",
     "text": [
      "flatten_logs_to_tx\n"
     ]
    },
    {
     "name": "stderr",
     "output_type": "stream",
     "text": [
      "100%|████████████████████████████████████████████████████████████████████████████████████████████████████████████████████████████████████████████████████████████████████| 366/366 [00:00<00:00, 1366.50it/s]\n"
     ]
    },
    {
     "name": "stdout",
     "output_type": "stream",
     "text": [
      "groups 51\n",
      "get_logs_df psyop\n",
      "(16677349, 17361349)\n"
     ]
    },
    {
     "name": "stderr",
     "output_type": "stream",
     "text": [
      "  0%|                                                                                                                                                                     | 1/3420 [00:01<1:05:55,  1.16s/it]"
     ]
    },
    {
     "name": "stdout",
     "output_type": "stream",
     "text": [
      "(16677349, 16677549) {'code': -32700, 'message': 'parse error'} will retry\n"
     ]
    },
    {
     "name": "stderr",
     "output_type": "stream",
     "text": [
      " 91%|█████████████████████████████████████████████████████████████████████████████████████████████████████████████████████████████████████████████████████               | 3108/3420 [06:34<02:03,  2.53it/s]"
     ]
    },
    {
     "name": "stdout",
     "output_type": "stream",
     "text": [
      "(17291149, 17291349) {'code': -32002, 'message': 'request timed out'} will retry\n"
     ]
    },
    {
     "name": "stderr",
     "output_type": "stream",
     "text": [
      " 97%|███████████████████████████████████████████████████████████████████████████████████████████████████████████████████████████████████████████████████████████████▍    | 3325/3420 [08:54<00:32,  2.90it/s]"
     ]
    },
    {
     "name": "stdout",
     "output_type": "stream",
     "text": [
      "(17336749, 17336949) {'code': -32002, 'message': 'request timed out'} will retry\n"
     ]
    },
    {
     "name": "stderr",
     "output_type": "stream",
     "text": [
      "100%|████████████████████████████████████████████████████████████████████████████████████████████████████████████████████████████████████████████████████████████████████| 3420/3420 [09:49<00:00,  5.80it/s]\n"
     ]
    },
    {
     "name": "stdout",
     "output_type": "stream",
     "text": [
      "timestamp_for_block_num\n"
     ]
    },
    {
     "name": "stderr",
     "output_type": "stream",
     "text": [
      "100%|█████████████████████████████████████████████████████████████████████████████████████████████████████████████████████████████████████████████████████████████████| 77485/77485 [01:39<00:00, 780.89it/s]\n"
     ]
    },
    {
     "name": "stdout",
     "output_type": "stream",
     "text": [
      "flatten_logs_to_tx\n"
     ]
    },
    {
     "name": "stderr",
     "output_type": "stream",
     "text": [
      "100%|████████████████████████████████████████████████████████████████████████████████████████████████████████████████████████████████████████████████████████████████| 45718/45718 [00:31<00:00, 1444.08it/s]\n"
     ]
    },
    {
     "name": "stdout",
     "output_type": "stream",
     "text": [
      "groups 11\n",
      "get_logs_df psyop\n",
      "(17068409, 17752409)\n"
     ]
    },
    {
     "name": "stderr",
     "output_type": "stream",
     "text": [
      "  0%|                                                                                                                                                                       | 2/3420 [00:00<08:37,  6.61it/s]"
     ]
    },
    {
     "name": "stdout",
     "output_type": "stream",
     "text": [
      "(17068809, 17069009) {'code': -32700, 'message': 'parse error'} will retry\n"
     ]
    },
    {
     "name": "stderr",
     "output_type": "stream",
     "text": [
      "100%|████████████████████████████████████████████████████████████████████████████████████████████████████████████████████████████████████████████████████████████████████| 3420/3420 [12:32<00:00,  4.55it/s]\n"
     ]
    },
    {
     "name": "stdout",
     "output_type": "stream",
     "text": [
      "timestamp_for_block_num\n"
     ]
    },
    {
     "name": "stderr",
     "output_type": "stream",
     "text": [
      "100%|███████████████████████████████████████████████████████████████████████████████████████████████████████████████████████████████████████████████████████████████| 130382/130382 [06:10<00:00, 351.61it/s]\n"
     ]
    },
    {
     "name": "stdout",
     "output_type": "stream",
     "text": [
      "flatten_logs_to_tx\n"
     ]
    },
    {
     "name": "stderr",
     "output_type": "stream",
     "text": [
      "100%|█████████████████████████████████████████████████████████████████████████████████████████████████████████████████████████████████████████████████████████████████| 86478/86478 [01:43<00:00, 832.21it/s]\n"
     ]
    },
    {
     "name": "stdout",
     "output_type": "stream",
     "text": [
      "groups 66\n",
      "get_logs_df pepecoin-2\n",
      "(17347139, 18031139)\n"
     ]
    },
    {
     "name": "stderr",
     "output_type": "stream",
     "text": [
      "  0%|                                                                                                                                                                     | 1/3420 [00:01<1:26:44,  1.52s/it]"
     ]
    },
    {
     "name": "stdout",
     "output_type": "stream",
     "text": [
      "(17348139, 17348339) {'code': -32700, 'message': 'parse error'} will retry\n"
     ]
    },
    {
     "name": "stderr",
     "output_type": "stream",
     "text": [
      "100%|████████████████████████████████████████████████████████████████████████████████████████████████████████████████████████████████████████████████████████████████████| 3420/3420 [07:24<00:00,  7.69it/s]\n"
     ]
    },
    {
     "name": "stdout",
     "output_type": "stream",
     "text": [
      "timestamp_for_block_num\n"
     ]
    },
    {
     "name": "stderr",
     "output_type": "stream",
     "text": [
      "100%|███████████████████████████████████████████████████████████████████████████████████████████████████████████████████████████████████████████████████████████████████| 8241/8241 [00:12<00:00, 669.86it/s]\n"
     ]
    },
    {
     "name": "stdout",
     "output_type": "stream",
     "text": [
      "flatten_logs_to_tx\n"
     ]
    },
    {
     "name": "stderr",
     "output_type": "stream",
     "text": [
      "100%|██████████████████████████████████████████████████████████████████████████████████████████████████████████████████████████████████████████████████████████████████| 7156/7156 [00:04<00:00, 1508.14it/s]\n"
     ]
    },
    {
     "name": "stdout",
     "output_type": "stream",
     "text": [
      "groups 97\n",
      "get_logs_df wassie\n",
      "(16585413, 17269413)\n"
     ]
    },
    {
     "name": "stderr",
     "output_type": "stream",
     "text": [
      "  0%|                                                                                                                                                                               | 0/3420 [00:00<?, ?it/s]"
     ]
    },
    {
     "name": "stdout",
     "output_type": "stream",
     "text": [
      "(16587013, 16587213) {'code': -32700, 'message': 'parse error'} will retry"
     ]
    },
    {
     "name": "stderr",
     "output_type": "stream",
     "text": [
      "  0%|                                                                                                                                                                       | 1/3420 [00:00<33:57,  1.68it/s]"
     ]
    },
    {
     "name": "stdout",
     "output_type": "stream",
     "text": []
    },
    {
     "name": "stderr",
     "output_type": "stream",
     "text": [
      " 92%|██████████████████████████████████████████████████████████████████████████████████████████████████████████████████████████████████████████████████████▍             | 3137/3420 [04:16<03:44,  1.26it/s]"
     ]
    },
    {
     "name": "stdout",
     "output_type": "stream",
     "text": [
      "(17207413, 17207613) {'code': -32002, 'message': 'request timed out'} will retry\n"
     ]
    },
    {
     "name": "stderr",
     "output_type": "stream",
     "text": [
      " 94%|██████████████████████████████████████████████████████████████████████████████████████████████████████████████████████████████████████████████████████████▉         | 3231/3420 [05:14<01:01,  3.05it/s]"
     ]
    },
    {
     "name": "stdout",
     "output_type": "stream",
     "text": [
      "(17224613, 17224813) {'code': -32002, 'message': 'request timed out'} will retry\n"
     ]
    },
    {
     "name": "stderr",
     "output_type": "stream",
     "text": [
      "100%|████████████████████████████████████████████████████████████████████████████████████████████████████████████████████████████████████████████████████████████████████| 3420/3420 [06:02<00:00,  9.44it/s]\n"
     ]
    },
    {
     "name": "stdout",
     "output_type": "stream",
     "text": [
      "timestamp_for_block_num\n"
     ]
    },
    {
     "name": "stderr",
     "output_type": "stream",
     "text": [
      "100%|█████████████████████████████████████████████████████████████████████████████████████████████████████████████████████████████████████████████████████████████████| 30843/30843 [00:47<00:00, 644.85it/s]\n"
     ]
    },
    {
     "name": "stdout",
     "output_type": "stream",
     "text": [
      "flatten_logs_to_tx\n"
     ]
    },
    {
     "name": "stderr",
     "output_type": "stream",
     "text": [
      "100%|████████████████████████████████████████████████████████████████████████████████████████████████████████████████████████████████████████████████████████████████| 27619/27619 [00:20<00:00, 1369.77it/s]\n"
     ]
    },
    {
     "name": "stdout",
     "output_type": "stream",
     "text": [
      "groups 13\n",
      "get_logs_df wassie\n",
      "(16776814, 17460814)\n"
     ]
    },
    {
     "name": "stderr",
     "output_type": "stream",
     "text": [
      " 60%|██████████████████████████████████████████████████████████████████████████████████████████████████▏                                                                | 2059/3420 [00:11<00:11, 122.13it/s]"
     ]
    },
    {
     "name": "stdout",
     "output_type": "stream",
     "text": [
      "(17193414, 17193614) ('Connection broken: InvalidChunkLength(got length b\\'\\\\xff\\\\xec\\\\xbc\\\\xcb\\\\x8e-\\\\xd9q\\\\xdf=\\\\xff\\\\x1e\\\\xe3\\\\x8c\\\\x89\\\\x0f\\\\x11+b\\\\xc5\\\\x85O`O\\\\xfc\\\\x02\\\\x82\\\\x06q\\\\xb5eS\\\\xa4\\\\xc0\\\\xa6\\\\x0c\\\\x02\\\\x82\\\\xde\\\\xdd\\\\xc8j\\\\xcb\\\\xb4\\\\xba\\\\xce\\\\xa6\\\\xc8B7\\\\x0e\\\\xca\\\\x87\\\\t\\\\xd4`\\\\xef\\\\x02rg\\\\xae\\\\xfce\\\\xc4?n\\\\xeb_\\\\xbe\\\\xfc\\\\xf7\\\\x1f~\\\\xf7\\\\xdb\\\\xdf\\\\xffS}\\\\xf9\\\\xf5\\\\x97\\\\xf3\\\\xff\\\\xc3\\\\x97_}\\\\xf9\\\\x87\\\\xfe\\\\xf2k\\\\xf8\\\\xd5\\\\x97\\\\xdf\\\\xcf\\\\x0f\\\\xff\\\\xfc\\\\x9b?|\\\\xf9\\\\xf5\\\\xdf\\\\xfd\\\\xcb\\\\x97\\\\xe8\\\\xfe\\\\xfd\\\\xfc\\\\xf0\\\\xc3\\\\x97_\\\\x7f\\\\x81?\\\\x9e\\\\xf2\\\\xdbz\\\\xb1\\\\x834na{\\\\xdd\\\\xd0m\\\\x96\\\\xe7\\\\xc3\\\\x85\\\\xa5vAyN\\\\xf4\\\\x87\\\\xdf\\\\xfd\\\\xd3?\\\\xd4\\\\x0f_~\\\\xfdw_\\\\xe0\\\\x8f\\\\xdd{\\\\xee\\\\x89\\\\xc6\\\\x9cS\\\\xe6)^\\\\\\'Al\\\\x8b\\\\xd4:\\\\xc2\\\\xef\\\\xc9\\\\xd0E\\\\xa1\\\\xe2@\\\\x94c{op\\\\xef=\\\\x944\\\\xfb\\\\xe5W_\\\\xe0\\\\x8f\\\\xf0\\\\xe2\\\\xf0\\\\x8d\\\\xd5hS\\\\xc4\\\\x954\\\\xad\\\\xad%\\\\xafC7!\\\\x80f9\\\\xbb\\\\xb5\\\\xce\\\\x9f=\\\\xc9\\\\x9f\\\\x0eJ\\\\xaa:\\\\\\'\\\\x96bp\\\\xa2\\\\x80\\\\x19\\\\xb2f\\\\x18%\\\\x19\\\\xbe\\\\xfc\\\\xfd\\\\xaf\\\\xbet\\\\xfc!\\\\xdeV\\\\xe3?>\\\\xd9\\\\xff>Z\\\\xce\\\\x1a\\\\x99\\\\x86\\\\x0bIj\\\\xc8!\\\\xae\\\\x9c/\\\\xbf\\\\xfa\\\\x92\\\\xbf\\\\xf9]\\\\xfd\\\\x8f\\\\xff\\\\xf2\\\\xcf\\\\xff\\\\x98\\\\xf3\\\\xfb\\\\xb7S\"\\\\xc8=\\\\xf5\\\\xb6~\\\\xbf\\\\x8f\\\\xdf\\\\xfe\\\\x10\\\\xf5\\\\x87\\\\x7f\\\\xf8\\\\xddo\\\\xffS\\\\xfc\\\\xf0\\\\xdf\\\\xde\\\\xfe\\\\xeb\\\\xc0\\\\xc9b~B\\\\x85\\\\x8d\\\\xbd*\\\\xa0O\\\\x07\\\\xcamW \\\\x8f\\\\xba\\\\x0ez`\\\\xdc\\\\x85\\\\r\\\\xfaFE\\\\x9c$q]4\\\\xfd\\\\xf7\\\\xa7\\\\xfd\\\\xcf\\\\xbf\\\\xed\\\\xf9\\\\xe3\\\\x8f\\\\xbf\\\\xfaoW\\\\xf2\\\\x7f~)\\\\x80\\\\xed\\\\xc2!\\\\xc9\\\\xb1M\\\\xf3\\\\xc5\\\\xccSNy\\\\x11\\\\x80\\\\xa5e\\\\x95,\\\\x1b\\\\xc8\\\\x04\\\\xc6\\\\xae\\\\xdd\\\\x82\\\\x8a\\\\xea\\\\xedk0\\\\x83\\\\xcfb\\\\xff\\\\xe6w\\\\xff\\\\xf5O\\\\xbf\\\\xf0<\\\\xc2\\\\xdf\\\\xcf?\\\\xfe\\\\xee\\\\x7fN\\\\x7f\\\\xf9\\\\xf5\\\\xc6o~\\\\x98\\\\x7f\\\\xfd\\\\xd5w\\\\x82\\\\x96\\\\xe0\\\\x02\\\\xb9r\\\\xcc\\\\xb9\\\\x82\\\\x82\\\\x9er+c\\\\\\\\\\\\xb39\\\\x158h.\\\\x87|\\\\x0c\\\\xadS\\\\\\'\\\\xee9*g\\\\xdd\\\\x05\\\\xb8[\\\\xee\\\\xbd\\\\xfbW\\\\xa3\\\\xc5\\\\\\\\\\\\xe2W=\\\\xedB&k\\\\xa8\\\\xe81(u[\\\\xd1\\\\xe5\\\\xb7K\\\\xd7,+\\\\xf0\\\\x14!\\\\xc1\\\\x9e\\\\xb1C\\\\x90,\\\\xcf\\\\xc3y\\\\x85\\\\x16\\\\xfd\\\\xe2h\\\\xa1~J\\\\xb6\\\\xfet\\\\xfc\\\\x07\\\\x16\\\\xe7g\\\\x01\\\\xf4\\\\xc3fK#\\\\x90\\\\xd2\\\\x0eh\\\\x16k\\\\xef\\\\x9c\\\\xfbW\\\\xb3%\\\\xee\\\\xac\\\\x94\\\\x01K\\\\xc5\\\\xc4\\\\x07\\\\xc75l\\\\xc9Ra\\\\x80\\\\xee\\\\xad!\\\\xaes\\\\xf0BG\\\\xc7Dqz\\\\x9f={\\\\x1e\\\\xc0\\\\xf9\\\\x15[\\\\xfc\\\\xcb\\\\xb3\\\\x15\\\\x9f\\\\x92\\\\xad\\\\x9f\\\\xc5nq5\\\\\\\\q\\\\xbf\\\\xb5\\\\xcd\\\\x0b\\\\xec\\\\xe7t\\\\xd7J\\\\xf7\\\\x882\\\\xa2Jl\\\\xb9\\\\xd0\\\\x07\\\\xed\\\\xd6\\\\xecy\\\\xfcS\\\\\\\\\\\\x11Vk1&\\\\x1b\\\\x7f\\\\xc9V\\\\xbcr\\\\x89\\\\x1e\\\\x9c\\\\x13(-\\\\x07\\\\xc0.%\\\\x86\\\\x96\\\\x1e\\\\x01\\\\x9c\\\\xa6%sn\\\\xa3\\\\x93\\\\x0bc\\\\x81\\\\xc8\\\\xd1F5\\\\x1c5\\\\x06\\\\xc8\\\\xa7_\\\\xb2\\\\xd5\\\\xef\\\\xe0\"Q+G\\\\xd5\\\\xb6uQ\\\\x84\\\\x87k\\\\xbf!Y|1\\\\xe2nA<\\\\xf6\\\\xb1\\\\xcab\\\\x0e\\\\xf5\\\\xac\\\\x16\\\\x93\\\\xdd\\\\x96:y\\\\xf4\\\\xa7p\\\\xc9\\\\xfd~\\\\xe1\\\\xba\\\\xd9J\\\\x08\\\\x88{y\\\\xfafo\\\\x9c\\\\x92\\\\xbdt\\\\x1d%\\\\xdc\\\\xd8\\\\xa7\\\\xdbs?\\\\x06\\\\x17X\\\\xa1\\\\x05\\\\xdb9p\\\\xf2\\\\x1e/=\\\\x11\\\\xfbZo\\\\xf5\\\\x0b\\\\xb8\\\\x00\\\\x08\\\\xfdPz\\\\x98\\\\x8f\\\\xf6P\\\\x9f\\\\x89p-\\\\x00\\\\x82\\\\x9dGR\\\\x89\\\\xa4\\\\xecr7#\\\\x1f\\\\x9b\\\\xd1\\\\xbaG\\\\xca\\\\xb5-\\\\x0b_\\\\xea-y\\\\x07\\\\x17\\\\x0c\\\\x13i`\\\\xa7\\\\xc2\\\\x815\\\\xbd\\\\xd2\\\\x97\\\\xe4\\\\x9a-6H\\\\xe8\\\\x99\\\\xb9\\\\x9b\\\\r9\\\\xd3\\\\x8aR\\\\x82\\\\x1a\\\\xc263u\\\\xcd\\\\xfa\\\\xa7p\\\\x91|\\\\xbfp\\\\xe5\\\\tb\\\\x8b\\\\xb9\\\\xdc\\\\xea\\\\x9a\\\\xa6\\\\xa7\\\\xc6|V\\\\xd1C\\\\n\\', 0 bytes read)', InvalidChunkLength(got length b'\\xff\\xec\\xbc\\xcb\\x8e-\\xd9q\\xdf=\\xff\\x1e\\xe3\\x8c\\x89\\x0f\\x11+b\\xc5\\x85O`O\\xfc\\x02\\x82\\x06q\\xb5eS\\xa4\\xc0\\xa6\\x0c\\x02\\x82\\xde\\xdd\\xc8j\\xcb\\xb4\\xba\\xce\\xa6\\xc8B7\\x0e\\xca\\x87\\t\\xd4`\\xef\\x02rg\\xae\\xfce\\xc4?n\\xeb_\\xbe\\xfc\\xf7\\x1f~\\xf7\\xdb\\xdf\\xffS}\\xf9\\xf5\\x97\\xf3\\xff\\xc3\\x97_}\\xf9\\x87\\xfe\\xf2k\\xf8\\xd5\\x97\\xdf\\xcf\\x0f\\xff\\xfc\\x9b?|\\xf9\\xf5\\xdf\\xfd\\xcb\\x97\\xe8\\xfe\\xfd\\xfc\\xf0\\xc3\\x97_\\x7f\\x81?\\x9e\\xf2\\xdbz\\xb1\\x834na{\\xdd\\xd0m\\x96\\xe7\\xc3\\x85\\xa5vAyN\\xf4\\x87\\xdf\\xfd\\xd3?\\xd4\\x0f_~\\xfdw_\\xe0\\x8f\\xdd{\\xee\\x89\\xc6\\x9cS\\xe6)^\\'Al\\x8b\\xd4:\\xc2\\xef\\xc9\\xd0E\\xa1\\xe2@\\x94c{op\\xef=\\x944\\xfb\\xe5W_\\xe0\\x8f\\xf0\\xe2\\xf0\\x8d\\xd5hS\\xc4\\x954\\xad\\xad%\\xafC7!\\x80f9\\xbb\\xb5\\xce\\x9f=\\xc9\\x9f\\x0eJ\\xaa:\\'\\x96bp\\xa2\\x80\\x19\\xb2f\\x18%\\x19\\xbe\\xfc\\xfd\\xaf\\xbet\\xfc!\\xdeV\\xe3?>\\xd9\\xff>Z\\xce\\x1a\\x99\\x86\\x0bIj\\xc8!\\xae\\x9c/\\xbf\\xfa\\x92\\xbf\\xf9]\\xfd\\x8f\\xff\\xf2\\xcf\\xff\\x98\\xf3\\xfb\\xb7S\"\\xc8=\\xf5\\xb6~\\xbf\\x8f\\xdf\\xfe\\x10\\xf5\\x87\\x7f\\xf8\\xddo\\xffS\\xfc\\xf0\\xdf\\xde\\xfe\\xeb\\xc0\\xc9b~B\\x85\\x8d\\xbd*\\xa0O\\x07\\xcamW \\x8f\\xba\\x0ez`\\xdc\\x85\\r\\xfaFE\\x9c$q]4\\xfd\\xf7\\xa7\\xfd\\xcf\\xbf\\xed\\xf9\\xe3\\x8f\\xbf\\xfaoW\\xf2\\x7f~)\\x80\\xed\\xc2!\\xc9\\xb1M\\xf3\\xc5\\xccSNy\\x11\\x80\\xa5e\\x95,\\x1b\\xc8\\x04\\xc6\\xae\\xdd\\x82\\x8a\\xea\\xedk0\\x83\\xcfb\\xff\\xe6w\\xff\\xf5O\\xbf\\xf0<\\xc2\\xdf\\xcf?\\xfe\\xee\\x7fN\\x7f\\xf9\\xf5\\xc6o~\\x98\\x7f\\xfd\\xd5w\\x82\\x96\\xe0\\x02\\xb9r\\xcc\\xb9\\x82\\x82\\x9er+c\\\\\\xb39\\x158h.\\x87|\\x0c\\xadS\\'\\xee9*g\\xdd\\x05\\xb8[\\xee\\xbd\\xfbW\\xa3\\xc5\\\\\\xe2W=\\xedB&k\\xa8\\xe81(u[\\xd1\\xe5\\xb7K\\xd7,+\\xf0\\x14!\\xc1\\x9e\\xb1C\\x90,\\xcf\\xc3y\\x85\\x16\\xfd\\xe2h\\xa1~J\\xb6\\xfet\\xfc\\x07\\x16\\xe7g\\x01\\xf4\\xc3fK#\\x90\\xd2\\x0eh\\x16k\\xef\\x9c\\xfbW\\xb3%\\xee\\xac\\x94\\x01K\\xc5\\xc4\\x07\\xc75l\\xc9Ra\\x80\\xee\\xad!\\xaes\\xf0BG\\xc7Dqz\\x9f={\\x1e\\xc0\\xf9\\x15[\\xfc\\xcb\\xb3\\x15\\x9f\\x92\\xad\\x9f\\xc5nq5\\\\q\\xbf\\xb5\\xcd\\x0b\\xec\\xe7t\\xd7J\\xf7\\x882\\xa2Jl\\xb9\\xd0\\x07\\xed\\xd6\\xecy\\xfcS\\\\\\x11Vk1&\\x1b\\x7f\\xc9V\\xbcr\\x89\\x1e\\x9c\\x13(-\\x07\\xc0.%\\x86\\x96\\x1e\\x01\\x9c\\xa6%sn\\xa3\\x93\\x0bc\\x81\\xc8\\xd1F5\\x1c5\\x06\\xc8\\xa7_\\xb2\\xd5\\xef\\xe0\"Q+G\\xd5\\xb6uQ\\x84\\x87k\\xbf!Y|1\\xe2nA<\\xf6\\xb1\\xcab\\x0e\\xf5\\xac\\x16\\x93\\xdd\\x96:y\\xf4\\xa7p\\xc9\\xfd~\\xe1\\xba\\xd9J\\x08\\x88{y\\xfafo\\x9c\\x92\\xbdt\\x1d%\\xdc\\xd8\\xa7\\xdbs?\\x06\\x17X\\xa1\\x05\\xdb9p\\xf2\\x1e/=\\x11\\xfbZo\\xf5\\x0b\\xb8\\x00\\x08\\xfdPz\\x98\\x8f\\xf6P\\x9f\\x89p-\\x00\\x82\\x9dGR\\x89\\xa4\\xecr7#\\x1f\\x9b\\xd1\\xbaG\\xca\\xb5-\\x0b_\\xea-y\\x07\\x17\\x0c\\x13i`\\xa7\\xc2\\x815\\xbd\\xd2\\x97\\xe4\\x9a-6H\\xe8\\x99\\xb9\\x9b\\r9\\xd3\\x8aR\\x82\\x1a\\xc263u\\xcd\\xfa\\xa7p\\x91|\\xbfp\\xe5\\tb\\x8b\\xb9\\xdc\\xea\\x9a\\xa6\\xa7\\xc6|V\\xd1C\\n', 0 bytes read)) will retry(17191614, 17191814) ('Received response with content-encoding: gzip, but failed to decode it.', error('Error -3 while decompressing data: invalid distance too far back')) will retry\n",
      "\n"
     ]
    },
    {
     "name": "stderr",
     "output_type": "stream",
     "text": [
      " 61%|███████████████████████████████████████████████████████████████████████████████████████████████████▋                                                                | 2078/3420 [00:13<00:30, 44.18it/s]"
     ]
    },
    {
     "name": "stdout",
     "output_type": "stream",
     "text": [
      "(17192814, 17193014) ('Connection broken: InvalidChunkLength(got length b\"\\\\xff\\\\xec\\\\x9cK\\\\xaelWr\\\\x9e\\\\xfb\\\\x1e\\\\xc6i\\\\x13F\\\\xbcc\\\\x05G`w<\\\\x01A\\\\x8dx-[v\\\\xa9(\\\\x14KF\\\\x01\\\\x82\\\\xe6n\\\\xe4\\\\xa1eY\\\\xcc\\\\xda\\\\xa5\\\\xe2\\\\x05\\\\t\\\\xfa\\\\x82\\\\xde\\\\x8d\\\\x0b\\\\xdcWfb\\\\xef/\\\\xff\\\\xf8\\\\xe3\\\\x8fX\\\\xe7\\\\x9f>\\\\xfe\\\\xfb\\\\xf7\\\\xdf\\\\xfd\\\\xfe\\\\x0f\\\\xff\\\\xd0\\\\x1f\\\\xdf~\\\\xd0\\\\x7f\\\\x84\\\\x8fo>\\\\xfen>\\\\xbe\\\\x85o>\\\\xfe\\\\xb0\\\\xdf\\\\xff\\\\xe3\\\\xef\\\\xfe\\\\xf8\\\\xf1\\\\xed\\\\xdf\\\\xfc\\\\xd3G\\\\xce\\\\xfca\\\\xbf\\\\xff\\\\xfe\\\\xe3\\\\xdb\\\\x0f\\\\xf8\\\\x13u\\\\xe8\\\\xb8\\\\xe2${j\\\\xe3Dk\\\\xfa\\\\x1d\\\\xb1\\\\xd7o\\\\x14.O\\\\x18\\\\xda\\\\xeb\\\\x85\\\\xfe\\\\xf8\\\\xdd?\\\\xfc]\\\\x7f\\\\xff\\\\xf1\\\\xed\\\\xdf|\\\\xc0\\\\x9ff.)\\\\xe5`-\\\\xf5\\\\x89\\\\xb2h*\\\\xb0s\\\\x9b\\\\xfdLf(U\\\\xfaE\\\\xe3\\\\x96D4:W5e\\\\xae\\\\x12\\\\x17\\\\xef\\\\xfd\\\\xf8\\\\xe6\\\\x03\\\\xfe\\\\x04O\\\\xd7\\\\xc1\\\\x03e\\\\xe7\\\\x1aZQJW\\\\x10\\\\xc5\\\\xe4\\\\xe0J\\\\xb1w_\\\\xcfZ>\\\\x7f\\\\xf1E\\\\xe2\\\\xe6\\\\xf5\\\\x9c\\\\xe3\\\\x88\\\\xd7\\\\xeax\\\\xdf\\\\xbe\\\\x1cM\\\\xac\\\\x05\\\\t\\\\xbcWj\\\\xc6\\\\x9b>\\\\xfe\\\\xf6\\\\x9b\\\\x8f\\\\xc9?\\\\xe6\\\\xe7\\\\xddx\\\\xfcD?\\\\xbep\\\\x9a\\\\x1c\\\\x17J\\\\x97I\\\\xc7\\\\xcc\\\\x8d\\\\xda\\\\xe8\\\\xe3\\\\x9b\\\\x8f\\\\xfa\\\\xddw\\\\xfd?\\\\xfe\\\\xcb?\\\\xfe}\\\\xed\\\\x1f>_\\\\x12\\\\xc1\\\\x94\\\\xcf\\\\xbe\\\\xee\\\\xdf\\\\x1f\\\\xf2\\\\xf7\\\\xdfg\\\\xff\\\\xf1\\\\xef\\\\xbe\\\\xfb\\\\xfd\\\\x7f\\\\xca\\\\xef\\\\xff\\\\xdb\\\\xe7\\\\xdf\\\\x9e\\\\xa3\\\\x01\\\\x9dw\\\\x86l|\\\\x10\\\\xb4o\\\\x8dyc\\\\x11OU\\\\xe0\\\\xc4\\\\xd5\\\\xb8UD\\\\x1c\\\\xa7\\\\xdb`p\\\\xc0\\\\x8f%\\\\x85\\\\xfe\\\\xf0X\\\\xfe\\\\xf5e\\\\xff\\\\xf3\\\\xefg\\\\xff\\\\xf4\\\\xc3\\\\xbb\\\\x1a\\\\xff\\\\xcbg\\\\xf9?\\\\xef%\\\\xe478+w\\\\xc0\\\\xfc\\\\x0e\\\\xcb\\\\xe5F\\\\xe8+$,3\\\\x17\\\\xd7\\\\xa8\\\\x911g\\\\xe4\\\\xce\\\\x04\\\\xb0\\\\\\\\\\\\xaf\\\\x9b|\\\\xda\\\\xaf\\\\xd7\\\\xc77\\\\x1f\\\\xbf\\\\xfb\\\\xee\\\\xbf\\\\xfe\\\\xdf\\\\xef\\\\xe1\\\\x1f/\\\\xae\\\\xfe\\\\xfe\\\\xbb\\\\xff\\\\xb9\\\\xf3\\\\xf1\\\\xed\\\\xcd\\\\xdf}\\\\xbf\\\\xff\\\\xfc\\\\xcd\\\\xff\\\\xfbx\\\\xfd\\\\xd5d\\\\xfcEF\\\\xff\\\\xf7\\\\x95\\\\x11\\\\xd8B\\\\xb1K\\\\xdb6\\\\x17c\\\\x04\\\\xeeB\\\\x1f\\\\x80s\\\\xea|\\\\x19^\\\\xbc\\\\tR\\\\x99\\\\xe3b\\\\xd0\\\\xdbH\\\\x94m\\\\xf1\\\\x84W\\\\xe0\\\\x03^\\\\x13(^+d\\\\xac\\\\x93c\\\\x897\\\\xf2\\\\xb2L\\\\xdc>\\\\x85G\\\\xfc\\\\x8aMH\\\\xc3\\\\xc98\\'\\\\xcd\\\\xf7\\\\x10X\\\\x0e\\\\xd3\\\\xa0\\\\x9c|\\\\xc2\\\\x8b\\\\xe0\\\\x8d\\\\xae\\\\xb0\\\\xb9\\\\xae\\\\xd7\\\\x01\\\\x02E\\\\xdc\\\\xeau\", 0 bytes read)', InvalidChunkLength(got length b\"\\xff\\xec\\x9cK\\xaelWr\\x9e\\xfb\\x1e\\xc6i\\x13F\\xbcc\\x05G`w<\\x01A\\x8dx-[v\\xa9(\\x14KF\\x01\\x82\\xe6n\\xe4\\xa1eY\\xcc\\xda\\xa5\\xe2\\x05\\t\\xfa\\x82\\xde\\x8d\\x0b\\xdcWfb\\xef/\\xff\\xf8\\xe3\\x8fX\\xe7\\x9f>\\xfe\\xfb\\xf7\\xdf\\xfd\\xfe\\x0f\\xff\\xd0\\x1f\\xdf~\\xd0\\x7f\\x84\\x8fo>\\xfen>\\xbe\\x85o>\\xfe\\xb0\\xdf\\xff\\xe3\\xef\\xfe\\xf8\\xf1\\xed\\xdf\\xfc\\xd3G\\xce\\xfca\\xbf\\xff\\xfe\\xe3\\xdb\\x0f\\xf8\\x13u\\xe8\\xb8\\xe2${j\\xe3Dk\\xfa\\x1d\\xb1\\xd7o\\x14.O\\x18\\xda\\xeb\\x85\\xfe\\xf8\\xdd?\\xfc]\\x7f\\xff\\xf1\\xed\\xdf|\\xc0\\x9ff.)\\xe5`-\\xf5\\x89\\xb2h*\\xb0s\\x9b\\xfdLf(U\\xfaE\\xe3\\x96D4:W5e\\xae\\x12\\x17\\xef\\xfd\\xf8\\xe6\\x03\\xfe\\x04O\\xd7\\xc1\\x03e\\xe7\\x1aZQJW\\x10\\xc5\\xe4\\xe0J\\xb1w_\\xcfZ>\\x7f\\xf1E\\xe2\\xe6\\xf5\\x9c\\xe3\\x88\\xd7\\xeax\\xdf\\xbe\\x1cM\\xac\\x05\\t\\xbcWj\\xc6\\x9b>\\xfe\\xf6\\x9b\\x8f\\xc9?\\xe6\\xe7\\xddx\\xfcD?\\xbep\\x9a\\x1c\\x17J\\x97I\\xc7\\xcc\\x8d\\xda\\xe8\\xe3\\x9b\\x8f\\xfa\\xddw\\xfd?\\xfe\\xcb?\\xfe}\\xed\\x1f>_\\x12\\xc1\\x94\\xcf\\xbe\\xee\\xdf\\x1f\\xf2\\xf7\\xdfg\\xff\\xf1\\xef\\xbe\\xfb\\xfd\\x7f\\xca\\xef\\xff\\xdb\\xe7\\xdf\\x9e\\xa3\\x01\\x9dw\\x86l|\\x10\\xb4o\\x8dyc\\x11OU\\xe0\\xc4\\xd5\\xb8UD\\x1c\\xa7\\xdb`p\\xc0\\x8f%\\x85\\xfe\\xf0X\\xfe\\xf5e\\xff\\xf3\\xefg\\xff\\xf4\\xc3\\xbb\\x1a\\xff\\xcbg\\xf9?\\xef%\\xe478+w\\xc0\\xfc\\x0e\\xcb\\xe5F\\xe8+$,3\\x17\\xd7\\xa8\\x911g\\xe4\\xce\\x04\\xb0\\\\\\xaf\\x9b|\\xda\\xaf\\xd7\\xc77\\x1f\\xbf\\xfb\\xee\\xbf\\xfe\\xdf\\xef\\xe1\\x1f/\\xae\\xfe\\xfe\\xbb\\xff\\xb9\\xf3\\xf1\\xed\\xcd\\xdf}\\xbf\\xff\\xfc\\xcd\\xff\\xfbx\\xfd\\xd5d\\xfcEF\\xff\\xf7\\x95\\x11\\xd8B\\xb1K\\xdb6\\x17c\\x04\\xeeB\\x1f\\x80s\\xea|\\x19^\\xbc\\tR\\x99\\xe3b\\xd0\\xdbH\\x94m\\xf1\\x84W\\xe0\\x03^\\x13(^+d\\xac\\x93c\\x897\\xf2\\xb2L\\xdc>\\x85G\\xfc\\x8aMH\\xc3\\xc98'\\xcd\\xf7\\x10X\\x0e\\xd3\\xa0\\x9c|\\xc2\\x8b\\xe0\\x8d\\xae\\xb0\\xb9\\xae\\xd7\\x01\\x02E\\xdc\\xeau\", 0 bytes read)) will retry\n"
     ]
    },
    {
     "name": "stderr",
     "output_type": "stream",
     "text": [
      "100%|████████████████████████████████████████████████████████████████████████████████████████████████████████████████████████████████████████████████████████████████████| 3420/3420 [02:43<00:00, 20.92it/s]\n"
     ]
    },
    {
     "name": "stdout",
     "output_type": "stream",
     "text": [
      "timestamp_for_block_num\n"
     ]
    },
    {
     "name": "stderr",
     "output_type": "stream",
     "text": [
      "100%|█████████████████████████████████████████████████████████████████████████████████████████████████████████████████████████████████████████████████████████████████| 38006/38006 [01:23<00:00, 457.63it/s]\n"
     ]
    },
    {
     "name": "stdout",
     "output_type": "stream",
     "text": [
      "flatten_logs_to_tx\n"
     ]
    },
    {
     "name": "stderr",
     "output_type": "stream",
     "text": [
      "100%|████████████████████████████████████████████████████████████████████████████████████████████████████████████████████████████████████████████████████████████████| 33435/33435 [00:25<00:00, 1333.95it/s]\n"
     ]
    },
    {
     "name": "stdout",
     "output_type": "stream",
     "text": [
      "groups 40\n",
      "get_logs_df wassie\n",
      "(16790980, 17474980)\n"
     ]
    },
    {
     "name": "stderr",
     "output_type": "stream",
     "text": [
      "  0%|▎                                                                                                                                                                      | 7/3420 [00:00<04:18, 13.21it/s]"
     ]
    },
    {
     "name": "stdout",
     "output_type": "stream",
     "text": [
      "(16791980, 16792180) {'code': -32700, 'message': 'parse error'} will retry\n"
     ]
    },
    {
     "name": "stderr",
     "output_type": "stream",
     "text": [
      "100%|████████████████████████████████████████████████████████████████████████████████████████████████████████████████████████████████████████████████████████████████████| 3420/3420 [04:29<00:00, 12.69it/s]\n"
     ]
    },
    {
     "name": "stdout",
     "output_type": "stream",
     "text": [
      "timestamp_for_block_num\n"
     ]
    },
    {
     "name": "stderr",
     "output_type": "stream",
     "text": [
      "100%|█████████████████████████████████████████████████████████████████████████████████████████████████████████████████████████████████████████████████████████████████| 39774/39774 [01:05<00:00, 609.06it/s]\n"
     ]
    },
    {
     "name": "stdout",
     "output_type": "stream",
     "text": [
      "flatten_logs_to_tx\n"
     ]
    },
    {
     "name": "stderr",
     "output_type": "stream",
     "text": [
      "100%|████████████████████████████████████████████████████████████████████████████████████████████████████████████████████████████████████████████████████████████████| 35141/35141 [00:28<00:00, 1220.42it/s]\n"
     ]
    },
    {
     "name": "stdout",
     "output_type": "stream",
     "text": [
      "groups 42\n",
      "get_logs_df wassie\n",
      "(16798080, 17482080)\n"
     ]
    },
    {
     "name": "stderr",
     "output_type": "stream",
     "text": [
      "  0%|                                                                                                                                                                     | 1/3420 [00:01<1:27:01,  1.53s/it]"
     ]
    },
    {
     "name": "stdout",
     "output_type": "stream",
     "text": [
      "(16799680, 16799880) {'code': -32700, 'message': 'parse error'} will retry\n"
     ]
    },
    {
     "name": "stderr",
     "output_type": "stream",
     "text": [
      "100%|████████████████████████████████████████████████████████████████████████████████████████████████████████████████████████████████████████████████████████████████████| 3420/3420 [05:20<00:00, 10.66it/s]\n"
     ]
    },
    {
     "name": "stdout",
     "output_type": "stream",
     "text": [
      "timestamp_for_block_num\n"
     ]
    },
    {
     "name": "stderr",
     "output_type": "stream",
     "text": [
      "100%|█████████████████████████████████████████████████████████████████████████████████████████████████████████████████████████████████████████████████████████████████| 40029/40029 [01:37<00:00, 408.95it/s]\n"
     ]
    },
    {
     "name": "stdout",
     "output_type": "stream",
     "text": [
      "flatten_logs_to_tx\n"
     ]
    },
    {
     "name": "stderr",
     "output_type": "stream",
     "text": [
      "100%|████████████████████████████████████████████████████████████████████████████████████████████████████████████████████████████████████████████████████████████████| 35361/35361 [00:27<00:00, 1302.74it/s]\n"
     ]
    },
    {
     "name": "stdout",
     "output_type": "stream",
     "text": [
      "groups 43\n",
      "get_logs_df legends-token\n",
      "timestamp_for_block_num\n"
     ]
    },
    {
     "ename": "AttributeError",
     "evalue": "'NoneType' object has no attribute 'copy'",
     "output_type": "error",
     "traceback": [
      "\u001B[0;31m---------------------------------------------------------------------------\u001B[0m",
      "\u001B[0;31mAttributeError\u001B[0m                            Traceback (most recent call last)",
      "Cell \u001B[0;32mIn[57], line 36\u001B[0m\n\u001B[1;32m     34\u001B[0m timestamp \u001B[38;5;241m=\u001B[39m df\u001B[38;5;241m.\u001B[39mindex[i]\n\u001B[1;32m     35\u001B[0m df_logs \u001B[38;5;241m=\u001B[39m get_logs_df(coin_id, timestamp, \u001B[38;5;241m90\u001B[39m, provider_url)\n\u001B[0;32m---> 36\u001B[0m df_logs \u001B[38;5;241m=\u001B[39m \u001B[43mtimestamp_for_block_num\u001B[49m\u001B[43m(\u001B[49m\u001B[43mdf_logs\u001B[49m\u001B[43m,\u001B[49m\u001B[43m \u001B[49m\u001B[43mprovider_url\u001B[49m\u001B[43m)\u001B[49m\n\u001B[1;32m     37\u001B[0m \u001B[38;5;28;01mif\u001B[39;00m df_logs \u001B[38;5;129;01mis\u001B[39;00m \u001B[38;5;28;01mNone\u001B[39;00m:\n\u001B[1;32m     38\u001B[0m     \u001B[38;5;28;01mcontinue\u001B[39;00m\n",
      "Cell \u001B[0;32mIn[49], line 54\u001B[0m, in \u001B[0;36mtimestamp_for_block_num\u001B[0;34m(df, provider_url)\u001B[0m\n\u001B[1;32m     52\u001B[0m \u001B[38;5;28;01mdef\u001B[39;00m \u001B[38;5;21mtimestamp_for_block_num\u001B[39m(df: pd\u001B[38;5;241m.\u001B[39mDataFrame, provider_url: \u001B[38;5;28mstr\u001B[39m) \u001B[38;5;241m-\u001B[39m\u001B[38;5;241m>\u001B[39m pd\u001B[38;5;241m.\u001B[39mDataFrame:\n\u001B[1;32m     53\u001B[0m     \u001B[38;5;28mprint\u001B[39m(\u001B[38;5;124m'\u001B[39m\u001B[38;5;124mtimestamp_for_block_num\u001B[39m\u001B[38;5;124m'\u001B[39m)\n\u001B[0;32m---> 54\u001B[0m     df \u001B[38;5;241m=\u001B[39m \u001B[43mdf\u001B[49m\u001B[38;5;241;43m.\u001B[39;49m\u001B[43mcopy\u001B[49m()    \n\u001B[1;32m     55\u001B[0m     results \u001B[38;5;241m=\u001B[39m \u001B[38;5;28mlist\u001B[39m()        \n\u001B[1;32m     56\u001B[0m     \u001B[38;5;28;01mwith\u001B[39;00m Pool(processes\u001B[38;5;241m=\u001B[39mcpu_count()) \u001B[38;5;28;01mas\u001B[39;00m p:\n",
      "\u001B[0;31mAttributeError\u001B[0m: 'NoneType' object has no attribute 'copy'"
     ]
    }
   ],
   "source": [
    "# generate files for all\n",
    "import os\n",
    "\n",
    "pump_ratios = [2.0, 1.5, 4.0, 8.0]\n",
    "min_volumes = [500000, 1000000, 10000000, 100000]\n",
    "\n",
    "for ratio in pump_ratios:\n",
    "    for vol in min_volumes:\n",
    "        path = 'results/' + str(ratio).replace('.', '_') + '_' + str(vol)\n",
    "        if not os.path.exists(path):\n",
    "            os.mkdir(path)\n",
    "        df_candles_pumps: Dict[str, pd.DataFrame] = dict()\n",
    "\n",
    "        # for each chart\n",
    "        for idx, key in enumerate(daily_candles):\n",
    "            candles = daily_candles[key]\n",
    "            print_progress(\"Searching for pumps\", idx, len(daily_candles), True)\n",
    "            if key not in df_charts: \n",
    "                continue    \n",
    "            df_chart = df_charts[key]\n",
    "            df_info = daily_candle_pumps_info(candles, pump_ratio, min_volume, df_chart)\n",
    "            if not df_info.empty:\n",
    "                df_candles_pumps[key] = df_info\n",
    "\n",
    "        eth_df_candles_pumps = dict()\n",
    "        for key, df in df_candles_pumps.items():\n",
    "            address, decimals = get_address_and_decimals(key)\n",
    "            if address is None or decimals is None:\n",
    "                continue\n",
    "            eth_df_candles_pumps[key] = df\n",
    "\n",
    "        for coin_id, df in df_candles_pumps.items():\n",
    "            for i in range(len(df.index)):\n",
    "                timestamp = df.index[i]\n",
    "                df_logs = get_logs_df(coin_id, timestamp, 90, provider_url)\n",
    "                df_logs = timestamp_for_block_num(df_logs, provider_url)\n",
    "                if df_logs is None:\n",
    "                    continue\n",
    "                df_tx = flatten_logs_to_tx(coin_id, df_logs, provider_url)\n",
    "                res_df = grouped_by_day(df_tx)\n",
    "                res_df.to_pickle(path + '/' + coin_id + '_' + str(i) + year_month_day_str(timestamp) + '.plk')    \n"
   ],
   "metadata": {
    "collapsed": false,
    "ExecuteTime": {
     "end_time": "2023-12-29T12:09:17.298675542Z",
     "start_time": "2023-12-29T10:51:52.433762200Z"
    }
   },
   "id": "8b17da2245dc87e7"
  }
 ],
 "metadata": {
  "kernelspec": {
   "display_name": "Python 3",
   "language": "python",
   "name": "python3"
  },
  "language_info": {
   "codemirror_mode": {
    "name": "ipython",
    "version": 2
   },
   "file_extension": ".py",
   "mimetype": "text/x-python",
   "name": "python",
   "nbconvert_exporter": "python",
   "pygments_lexer": "ipython2",
   "version": "2.7.6"
  }
 },
 "nbformat": 4,
 "nbformat_minor": 5
}
