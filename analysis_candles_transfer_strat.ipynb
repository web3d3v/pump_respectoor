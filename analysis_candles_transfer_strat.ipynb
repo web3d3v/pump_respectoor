{
 "cells": [
  {
   "cell_type": "code",
   "execution_count": 7,
   "outputs": [
    {
     "data": {
      "text/plain": "True"
     },
     "execution_count": 7,
     "metadata": {},
     "output_type": "execute_result"
    }
   ],
   "source": [
    "from utils import read_json_file, write_json_file, read_json_file_or_empty_list\n",
    "from utils import large_num_short_format\n",
    "from dotenv import load_dotenv\n",
    "from typing import  List, Dict\n",
    "from utils import print_progress\n",
    "import pandas as pd\n",
    "import numpy as np\n",
    "import matplotlib.pyplot as plt\n",
    "import  math\n",
    "import os\n",
    "import pickle\n",
    "import web3\n",
    "\n",
    "load_dotenv()"
   ],
   "metadata": {
    "collapsed": false,
    "ExecuteTime": {
     "end_time": "2023-12-29T00:09:48.828695439Z",
     "start_time": "2023-12-29T00:09:48.760753653Z"
    }
   },
   "id": "8c36a810af648008"
  },
  {
   "cell_type": "markdown",
   "source": [],
   "metadata": {
    "collapsed": false
   },
   "id": "1a8e2ac3794623e"
  },
  {
   "cell_type": "code",
   "execution_count": 8,
   "outputs": [
    {
     "name": "stdout",
     "output_type": "stream",
     "text": [
      " Loading candles_daily idx: 10425 / 10426, 100.0%       \n",
      "Daily candles count: 9796\n",
      " Loading chart_full idx: 10424 / 10425, 100.0%       \n",
      "Charts count: 9887\n"
     ]
    }
   ],
   "source": [
    "# Load AUTO charts and convert them to daily \n",
    "from download_chart_data import ChartInterval\n",
    "from download_chart_data import load_chart_by_interval, chart_data_to_df\n",
    "from download_candles import load_candles_by_interval, CandleInterval\n",
    "\n",
    "\n",
    "daily_candles = load_candles_by_interval(CandleInterval.DAILY)\n",
    "print(\"\\nDaily candles count: {}\".format(len(daily_candles)))\n",
    "charts = load_chart_by_interval(ChartInterval.FULL)\n",
    "print(\"\\nCharts count: {}\".format(len(charts)))"
   ],
   "metadata": {
    "collapsed": false,
    "ExecuteTime": {
     "end_time": "2023-12-29T00:10:07.515485245Z",
     "start_time": "2023-12-29T00:09:48.828700384Z"
    }
   },
   "id": "4536f1c477f8f3c3"
  },
  {
   "cell_type": "code",
   "execution_count": 9,
   "outputs": [
    {
     "name": "stdout",
     "output_type": "stream",
     "text": [
      " Transforming charts to dataframe  idx: 9886 / 9887, 100.0%       "
     ]
    }
   ],
   "source": [
    "# Transform charts to data frame\n",
    "df_charts: Dict[str, pd.DataFrame] = dict()\n",
    "total = len(charts)\n",
    "\n",
    "for idx, key in enumerate(charts):\n",
    "    chart = charts[key]\n",
    "    df_charts[key] = chart_data_to_df(chart)\n",
    "    print_progress(\"Transforming charts to dataframe \", idx, total, True)"
   ],
   "metadata": {
    "collapsed": false,
    "ExecuteTime": {
     "end_time": "2023-12-29T00:10:33.554745657Z",
     "start_time": "2023-12-29T00:10:07.763292049Z"
    }
   },
   "id": "ede4345d387baf61"
  },
  {
   "cell_type": "code",
   "execution_count": 10,
   "outputs": [
    {
     "name": "stdout",
     "output_type": "stream",
     "text": [
      " Searching for pumps idx: 9795 / 9796, 100.0%       \n",
      "Coins that pumped 424\n"
     ]
    }
   ],
   "source": [
    "from download_candles import daily_candle_data_to_df\n",
    "# Find pumps for candles\n",
    "from download_chart_data import chart_data_to_df\n",
    "from download_coin import get_address_and_decimals\n",
    "from utils import print_progress, year_month_str, year_month_day_str\n",
    "import pandas as pd\n",
    "import numpy as np\n",
    "\n",
    "import  math\n",
    "\n",
    "\n",
    "def is_pump(\n",
    "    open: float, high: float, pump_ratio: float, min_volume: float, volume: float\n",
    ") -> bool:\n",
    "    if math.isnan(open) or math.isnan(high) or math.isnan(volume):\n",
    "        return False\n",
    "    return high >= open * pump_ratio and volume >= min_volume\n",
    "\n",
    "\n",
    "def daily_candle_pumps_info(\n",
    "    candle_data: List[List[any]], pump_ratio: float, min_volume: float, \n",
    "    chart_df: pd.DataFrame, shift_volume: bool = False\n",
    ") -> pd.DataFrame:\n",
    "    df = daily_candle_data_to_df(candle_data)    \n",
    "    if shift_volume:\n",
    "        chart_df = chart_df.shift(1, axis = 0)\n",
    "    df = df.join(chart_df)\n",
    "    df = df.drop(['price', 'market_cap'], axis=1)    \n",
    "    df['Ymd'] = list(map(lambda x: year_month_day_str(x), df.index))\n",
    "    df['pump'] = (df['high'] >= df['open'] * pump_ratio) & (df['volume'] > min_volume)\n",
    "    return df.loc[df['pump'] == True]\n",
    "\n",
    "\n",
    "pump_ratio = 2.0\n",
    "min_volume = 500000\n",
    "df_candles_pumps: Dict[str, pd.DataFrame] = dict()\n",
    "\n",
    "\n",
    "# for each chart\n",
    "for idx, key in enumerate(daily_candles):\n",
    "    candles = daily_candles[key]\n",
    "    print_progress(\"Searching for pumps\", idx, len(daily_candles), True)\n",
    "    if key not in df_charts: \n",
    "        continue    \n",
    "    df_chart = df_charts[key]\n",
    "    df_info = daily_candle_pumps_info(candles, pump_ratio, min_volume, df_chart)\n",
    "    if not df_info.empty:\n",
    "        df_candles_pumps[key] = df_info\n",
    "        \n",
    "\n",
    "print(\"\") \n",
    "print(\"Coins that pumped\", len(df_candles_pumps.keys()))"
   ],
   "metadata": {
    "collapsed": false,
    "ExecuteTime": {
     "end_time": "2023-12-29T00:11:01.064047069Z",
     "start_time": "2023-12-29T00:10:33.560123947Z"
    }
   },
   "id": "b3f304e6cbd9d194"
  },
  {
   "cell_type": "code",
   "execution_count": 11,
   "outputs": [
    {
     "name": "stdout",
     "output_type": "stream",
     "text": [
      "['0xcoco', '4chan', 'aardvark', 'acent', 'adreward', 'agility', 'alphai', 'amber-phantom-butterfly', 'anchor-protocol', 'apes-go-bananas', 'apiens', 'archimedes', 'arti-project', 'asap-sniper-bot', 'assangedao', 'astra-protocol-2', 'augur', 'axe-cap', 'axl-inu', 'baby-shiba-inu-erc', 'babypepe', 'barbiecrashbandicootrfk88', 'base-protocol', 'bear-inu', 'bedlingtonterriertoken', 'beep-coin', 'ben-2', 'ben-s-finale', 'biaocoin', 'bifi', 'big-time', 'billy-token', 'bitrock', 'blackpearl-chain', 'block-browser', 'blockbank', 'blockremit', 'blocktools', 'bob-token', 'bobo', 'bobo-coin', 'bogdanoff', 'boltbot', 'botxcoin', 'bridge-bot', 'broccoli', 'brz', 'bull-market', 'bullet-game', 'capybara-token', 'carecoin', 'caroline', 'celsius-degree-token', 'centrality', 'chad-coin', 'cindicator', 'clips', 'coinbot', 'coinhub', 'companionbot', 'connext', 'cope-coin', 'crypto-x', 'cryptopawcoin', 'cult-dao', 'cyberconnect', 'dawn-protocol', 'defidollar-dao', 'degen-zoo', 'delysium', 'dinger-token', 'dinolfg', 'doge-2-0', 'donut', 'doomer-ai', 'dos-network', 'dream-machine-token', 'drep-new', 'dubbz', 'ducks', 'dummy', 'dyor-token-2', 'element-black', 'eml-protocol', 'encryption-ai', 'energi', 'espresso-bot', 'ethermon', 'ethlas', 'evil-pepe', 'fable-of-the-dragon', 'family-guy', 'finance-blocks', 'fine', 'forta', 'fourcoin', 'fuck-pepe', 'furucombo', 'geke', 'generational-wealth', 'geniebot', 'gilgeous', 'gm', 'golcoin', 'gold-3', 'gold-pieces', 'good-gensler', 'grape-2-2', 'greg', 'grumpy-cat-2c33af8d-87a8-4154-b004-0686166bdc45', 'guiser', 'gyoshi', 'haha', 'hamsters', 'haram', 'harrypotterobamapacman8inu', 'harrypotterobamasonic10in', 'harrypottertrumphomersimpson777inu', 'hiens4', 'hifriends', 'himayc', 'himoonbirds', 'hiseals', 'historydao', 'homer', 'homer-2', 'hoppy-token', 'hxacoin', 'iykyk', 'jesus', 'jesus-coin', 'kdag', 'kek', 'kekya', 'kermit-cc0e2d66-4b46-4eaf-9f4e-5caa883d1c09', 'kiboshib', 'kingdomverse', 'kok', 'kollect', 'koyo-6e93c7c7-03a3-4475-86a1-f0bc80ee09d6', 'kuku', 'laelaps', 'lootbot', 'lord-of-dragons', 'loyalty-labs', 'ludena-protocol', 'lumerin', 'lunchdao', 'made-in-real-life', 'maya-preferred-223', 'memecoin', 'mememe', 'messi-coin', 'milady-meme-coin', 'mongcoin', 'monkeys-token', 'monox', 'monte', 'moonbot', 'mooney', 'multichain', 'mumu', 'musk-dao', 'my-defi-pet', 'naruto', 'neon-coin', 'newpepe', 'nezuko', 'nihao', 'none-trading', 'nothing-token', 'numbers-protocol', 'numeraire', 'nyan-meme-coin', 'olympus-v1', 'only-possible-on-ethereum', 'orbler', 'ordinal-doge', 'ordinex', 'oxbitcoin', 'paal-ai', 'papa', 'pear-swap', 'peepo', 'pepe', 'pepe-2-0', 'pepe-chain-2', 'pepe-girl', 'pepe-token', 'pepecoin-2', 'pepedex', 'platonic-quintessence', 'pleb-token', 'polaris-share', 'pooh', 'ppizza', 'primate', 'print-the-pepe', 'project-xeno', 'proof-of-pepe', 'propel-token', 'propy', 'psyop', 'puriever', 'qrolli', 'raptor', 'rari-governance-token', 'rat-roulette', 'recharge', 'red-token', 'reddit', 'relevant', 'ribbit-meme', 'roasthimjim', 'roko-network', 'rook', 'rugame', 'saudi-pepe', 'scooby', 'shanghai-inu', 'shapeshift-fox-token', 'shiba-v-pepe', 'shikoku', 'shinjarium', 'shping', 'sign', 'smol-su', 'smudge-lord', 'socol', 'son-of-pepe', 'spotted-turtle', 'spume', 'spurdo', 'squid-game', 'squid-game-2-0', 'stablz', 'stick-man', 'stonksdao', 'suterusu', 'suzuverse', 'swerve-dao', 'tairyo-inu', 'tate', 'tehbag', 'tetris-2', 'the-ai-dev-bot', 'the-qwan', 'the-reaper-coin', 'the-wasted-lands', 'toad-killer', 'troll', 'turbo', 'ukrainedao-flag-nft', 'unipower', 'universal-basic-income', 'value-liquidity', 'vempire-ddao', 'wagie-bot', 'wagmi-coin', 'wall-street-baby', 'wall-street-bets-dapp', 'wassie', 'wojak', 'woofie', 'wozx', 'x-world-games', 'xai-corp', 'xbot', 'xeno-token', 'yeet-dao', 'youwho', 'zenith-token-306740ae-2497-41a7-aef9-ec34e7f12aa3', 'zenon-2']\n",
      "Eth coins pumps 273\n",
      "youwho (1, 7)\n",
      "2023-07-21\n"
     ]
    }
   ],
   "source": [
    "# Filter out only ETH  pumps\n",
    "\n",
    "eth_df_candles_pumps = dict()\n",
    "\n",
    "for key, df in df_candles_pumps.items():\n",
    "    address, decimals = get_address_and_decimals(key)\n",
    "    if address is None or decimals is None:\n",
    "        continue\n",
    "    \n",
    "    eth_df_candles_pumps[key] = df\n",
    "        \n",
    "print(sorted(eth_df_candles_pumps.keys()))\n",
    "print(\"Eth coins pumps\", len(eth_df_candles_pumps.keys()))\n",
    "\n",
    "tmp_id = 'youwho'\n",
    "tmp_df = eth_df_candles_pumps[tmp_id]\n",
    "print(tmp_id, tmp_df.shape)\n",
    "for i in range(len(tmp_df.index)):\n",
    "    print(year_month_day_str(tmp_df.index[i]))\n",
    "# jun(6) jul(7) aug(8) sep(9)"
   ],
   "metadata": {
    "collapsed": false,
    "ExecuteTime": {
     "end_time": "2023-12-29T00:11:01.239979862Z",
     "start_time": "2023-12-29T00:11:01.061914401Z"
    }
   },
   "id": "c2c91df74dceb744"
  },
  {
   "cell_type": "code",
   "execution_count": 1,
   "outputs": [],
   "source": [
    "from download_candles import daily_candle_data_to_df\n",
    "from download_chart_data import chart_data_to_df\n",
    "from utils import print_progress, year_month_str, year_month_day_str\n",
    "from utils import read_json_file, write_json_file, read_json_file_or_empty_list\n",
    "from utils import large_num_short_format\n",
    "from dotenv import load_dotenv\n",
    "from typing import  List, Dict\n",
    "from utils import print_progress\n",
    "import pandas as pd\n",
    "import numpy as np\n",
    "import matplotlib.pyplot as plt\n",
    "import os\n",
    "import pickle\n",
    "import web3\n",
    "import math\n",
    "from download_coin import get_address_and_decimals\n",
    "\n",
    "\n",
    "pickled_path = './results/pickled/'\n",
    "\n",
    "# store\n",
    "# for key in eth_df_candles_pumps.keys():\n",
    "    # eth_df_candles_pumps[key].to_pickle(pickled_path + key)\n",
    "    \n",
    "# load\n",
    "eth_df_candles_pumps = dict()\n",
    "for file in os.listdir(pickled_path):\n",
    "    eth_df_candles_pumps[file] = pd.read_pickle(pickled_path + file)"
   ],
   "metadata": {
    "collapsed": false,
    "ExecuteTime": {
     "end_time": "2023-12-29T01:00:32.791517632Z",
     "start_time": "2023-12-29T01:00:31.042358734Z"
    }
   },
   "id": "539a647fa4f8c733"
  },
  {
   "cell_type": "code",
   "execution_count": 2,
   "outputs": [
    {
     "name": "stdout",
     "output_type": "stream",
     "text": [
      "['0xcoco', '4chan', 'aardvark', 'acent', 'adreward', 'agility', 'alphai', 'amber-phantom-butterfly', 'anchor-protocol', 'apes-go-bananas', 'apiens', 'archimedes', 'arti-project', 'asap-sniper-bot', 'assangedao', 'astra-protocol-2', 'augur', 'axe-cap', 'axl-inu', 'baby-shiba-inu-erc', 'babypepe', 'barbiecrashbandicootrfk88', 'base-protocol', 'bear-inu', 'bedlingtonterriertoken', 'beep-coin', 'ben-2', 'ben-s-finale', 'biaocoin', 'bifi', 'big-time', 'billy-token', 'bitrock', 'blackpearl-chain', 'block-browser', 'blockbank', 'blockremit', 'blocktools', 'bob-token', 'bobo', 'bobo-coin', 'bogdanoff', 'boltbot', 'botxcoin', 'bridge-bot', 'broccoli', 'brz', 'bull-market', 'bullet-game', 'capybara-token', 'carecoin', 'caroline', 'celsius-degree-token', 'centrality', 'chad-coin', 'cindicator', 'clips', 'coinbot', 'coinhub', 'companionbot', 'connext', 'cope-coin', 'crypto-x', 'cryptopawcoin', 'cult-dao', 'cyberconnect', 'dawn-protocol', 'defidollar-dao', 'degen-zoo', 'delysium', 'dinger-token', 'dinolfg', 'doge-2-0', 'donut', 'doomer-ai', 'dos-network', 'dream-machine-token', 'drep-new', 'dubbz', 'ducks', 'dummy', 'dyor-token-2', 'element-black', 'eml-protocol', 'encryption-ai', 'energi', 'espresso-bot', 'ethermon', 'ethlas', 'evil-pepe', 'fable-of-the-dragon', 'family-guy', 'finance-blocks', 'fine', 'forta', 'fourcoin', 'fuck-pepe', 'furucombo', 'geke', 'generational-wealth', 'geniebot', 'gilgeous', 'gm', 'golcoin', 'gold-3', 'gold-pieces', 'good-gensler', 'grape-2-2', 'greg', 'grumpy-cat-2c33af8d-87a8-4154-b004-0686166bdc45', 'guiser', 'gyoshi', 'haha', 'hamsters', 'haram', 'harrypotterobamapacman8inu', 'harrypotterobamasonic10in', 'harrypottertrumphomersimpson777inu', 'hiens4', 'hifriends', 'himayc', 'himoonbirds', 'hiseals', 'historydao', 'homer', 'homer-2', 'hoppy-token', 'hxacoin', 'iykyk', 'jesus', 'jesus-coin', 'kdag', 'kek', 'kekya', 'kermit-cc0e2d66-4b46-4eaf-9f4e-5caa883d1c09', 'kiboshib', 'kingdomverse', 'kok', 'kollect', 'koyo-6e93c7c7-03a3-4475-86a1-f0bc80ee09d6', 'kuku', 'laelaps', 'lootbot', 'lord-of-dragons', 'loyalty-labs', 'ludena-protocol', 'lumerin', 'lunchdao', 'made-in-real-life', 'maya-preferred-223', 'memecoin', 'mememe', 'messi-coin', 'milady-meme-coin', 'mongcoin', 'monkeys-token', 'monox', 'monte', 'moonbot', 'mooney', 'multichain', 'mumu', 'musk-dao', 'my-defi-pet', 'naruto', 'neon-coin', 'newpepe', 'nezuko', 'nihao', 'none-trading', 'nothing-token', 'numbers-protocol', 'numeraire', 'nyan-meme-coin', 'olympus-v1', 'only-possible-on-ethereum', 'orbler', 'ordinal-doge', 'ordinex', 'oxbitcoin', 'paal-ai', 'papa', 'pear-swap', 'peepo', 'pepe', 'pepe-2-0', 'pepe-chain-2', 'pepe-girl', 'pepe-token', 'pepecoin-2', 'pepedex', 'platonic-quintessence', 'pleb-token', 'polaris-share', 'pooh', 'ppizza', 'primate', 'print-the-pepe', 'project-xeno', 'proof-of-pepe', 'propel-token', 'propy', 'psyop', 'puriever', 'qrolli', 'raptor', 'rari-governance-token', 'rat-roulette', 'recharge', 'red-token', 'reddit', 'relevant', 'ribbit-meme', 'roasthimjim', 'roko-network', 'rook', 'rugame', 'saudi-pepe', 'scooby', 'shanghai-inu', 'shapeshift-fox-token', 'shiba-v-pepe', 'shikoku', 'shinjarium', 'shping', 'sign', 'smol-su', 'smudge-lord', 'socol', 'son-of-pepe', 'spotted-turtle', 'spume', 'spurdo', 'squid-game', 'squid-game-2-0', 'stablz', 'stick-man', 'stonksdao', 'suterusu', 'suzuverse', 'swerve-dao', 'tairyo-inu', 'tate', 'tehbag', 'tetris-2', 'the-ai-dev-bot', 'the-qwan', 'the-reaper-coin', 'the-wasted-lands', 'toad-killer', 'troll', 'turbo', 'ukrainedao-flag-nft', 'unipower', 'universal-basic-income', 'value-liquidity', 'vempire-ddao', 'wagie-bot', 'wagmi-coin', 'wall-street-baby', 'wall-street-bets-dapp', 'wassie', 'wojak', 'woofie', 'wozx', 'x-world-games', 'xai-corp', 'xbot', 'xeno-token', 'yeet-dao', 'youwho', 'zenith-token-306740ae-2497-41a7-aef9-ec34e7f12aa3', 'zenon-2']\n",
      "spurdo\n",
      "2023-08-26\n"
     ]
    }
   ],
   "source": [
    "print(sorted(eth_df_candles_pumps.keys()))\n",
    "\n",
    "coin_id = \"spurdo\" # wojak\n",
    "df = eth_df_candles_pumps[coin_id]\n",
    "print(coin_id)\n",
    "for i in range(len(df.index)):\n",
    "    print(year_month_day_str(df.index[i]))\n",
    "timestamp = df.index[0]"
   ],
   "metadata": {
    "collapsed": false,
    "ExecuteTime": {
     "end_time": "2023-12-29T01:00:32.806242343Z",
     "start_time": "2023-12-29T01:00:32.795785488Z"
    }
   },
   "id": "6368677f7b2de6e"
  },
  {
   "cell_type": "markdown",
   "source": [],
   "metadata": {
    "collapsed": false
   },
   "id": "d8f9b9790d6a834c"
  },
  {
   "cell_type": "code",
   "execution_count": null,
   "outputs": [
    {
     "name": "stdout",
     "output_type": "stream",
     "text": [
      "spurdo 2023-08-26\n",
      "(17347139, 18031139)\n",
      "(17400889, 17401139) {'code': -32700, 'message': 'parse error'} will retry\n"
     ]
    }
   ],
   "source": [
    "from web3_utils import format_decimals, get_block_near\n",
    "from utils import read_str_file, year_month_day_str, ranges_list\n",
    "from web3 import Web3, AsyncWeb3\n",
    "import web3\n",
    "from multiprocessing import Pool, cpu_count\n",
    "import datetime\n",
    "import time\n",
    "\n",
    "\n",
    "provider_url = 'http://127.0.0.1:8545'\n",
    "\n",
    "def new_provider(url: str, timeout: int = 120) -> web3.Web3:\n",
    "    return Web3(Web3.HTTPProvider(url, request_kwargs={'timeout': timeout}))\n",
    "    \n",
    "provider = new_provider(provider_url)\n",
    "\n",
    "def block_num_for_timestamp(timestamp: int, provider: web3.Web3) -> int:\n",
    "    return get_block_near(timestamp, provider)\n",
    "    \n",
    "\n",
    "def log_to_list(log: any, decimals: int) -> List[any]:\n",
    "    val = log.args['value']\n",
    "    return [\n",
    "        provider.to_hex(log['transactionHash']), # tx_hash\n",
    "        log['transactionIndex'],                 # tx_idx       \n",
    "        int(log['blockNumber']),                 # blk_num\n",
    "        timestamp,                               # timestamp\n",
    "        log.args['from'],                        # frm\n",
    "        log.args['to'],                          # to\n",
    "        val,                                     # val\n",
    "        format_decimals(val, str(decimals)),     # dec\n",
    "    ]\n",
    "\n",
    "def get_logs_df_wrk_unwrap(args) -> pd.DataFrame:\n",
    "    return get_logs_df_wrk(*args)\n",
    "\n",
    "def get_logs_df_wrk(\n",
    "    addr: str, abi: any, dec: int, provider_url: str, frm: int, to: int,  retry: bool = True\n",
    ") -> pd.DataFrame:\n",
    "    df = pd.DataFrame(columns=[\n",
    "        'tx_hash', 'tx_idx', 'blk_num', 'timestamp', 'frm', 'to', 'val','dec'\n",
    "    ])\n",
    "    addr = Web3.to_checksum_address(addr)\n",
    "    provider = new_provider(provider_url)\n",
    "    contract = provider.eth.contract(address=addr, abi=abi)\n",
    "    logs = list()\n",
    "    try: \n",
    "        logs = contract.events.Transfer().get_logs(fromBlock=frm, toBlock=to)\n",
    "        for log in logs:\n",
    "            df.loc[len(df.index)] = log_to_list(log, dec)\n",
    "    except Exception as err:\n",
    "        if retry:\n",
    "            print('({}, {}) {} will retry'.format(frm, to, err))\n",
    "            time.sleep(1)\n",
    "            return get_logs_df_wrk(addr, abi, dec, provider_url, frm, to, False)\n",
    "        else:\n",
    "            print('({}, {}) {} ERR !!!'.format(frm, to, err))\n",
    "    return df\n",
    "\n",
    "\n",
    "# tx_hash block_num timestamp frm to val dec #Ymd\n",
    "def get_logs_df(\n",
    "    coin_id: str, \n",
    "    pump_timestamp: int,\n",
    "    days: int,\n",
    "    provider_url: str\n",
    ") -> pd.DataFrame:\n",
    "    addr, dec = get_address_and_decimals(coin_id)\n",
    "    if addr is None or dec is None:\n",
    "        return None\n",
    "    \n",
    "    provider = new_provider(provider_url)\n",
    "    pump_block_num = block_num_for_timestamp(pump_timestamp, provider)\n",
    "    st_block = pump_block_num - days * 24 * 60 * 5\n",
    "    ranges = ranges_list(st_block, pump_block_num + (5 * 24 * 60 * 5), 250)\n",
    "    print('({}, {})'.format(st_block, ranges[len(ranges) - 1][1]))\n",
    "    abi = read_str_file('IERC20.json')\n",
    "    df = pd.DataFrame(columns=[\n",
    "        'tx_hash', 'tx_idx', 'blk_num', 'timestamp', 'frm', 'to', 'val','dec'\n",
    "    ])\n",
    "    with Pool(processes=cpu_count()) as p:\n",
    "        vals = map(lambda x: (addr, abi, dec, provider_url, x[0], x[1]), ranges)\n",
    "        vals = list(vals)\n",
    "        dfs = p.map(get_logs_df_wrk_unwrap, vals)\n",
    "    for batch_df in dfs:\n",
    "        for index, row in batch_df.iterrows():\n",
    "            df.loc[len(df.index)] = row\n",
    "    return df\n",
    "\n",
    "\n",
    "def timestamp_for_block_num_wrk_unwrap(args):\n",
    "    return timestamp_for_block_num_wrk(*args)\n",
    "\n",
    "\n",
    "def timestamp_for_block_num_wrk(block_num: int, provider_url: str) -> int:\n",
    "    return new_provider(provider_url).eth.get_block(block_num)['timestamp']\n",
    "\n",
    "\n",
    "def timestamp_for_block_num(df: pd.DataFrame, provider_url: str) -> pd.DataFrame:\n",
    "    df = df.copy()    \n",
    "    with Pool(processes=cpu_count()) as p:\n",
    "        args = list(map(lambda x: (x, provider_url), df['blk_num']))\n",
    "        results = p.map(timestamp_for_block_num_wrk_unwrap, args)\n",
    "        df['timestamp'] = results\n",
    "        df['Ymd'] = list(map(lambda x: year_month_day_str(x), df['timestamp']))\n",
    "    return df\n",
    "\n",
    "\n",
    "start = time.time()\n",
    "df = eth_df_candles_pumps[coin_id]\n",
    "print(coin_id, year_month_day_str(timestamp))\n",
    "df_logs = get_logs_df(coin_id, timestamp, 90, provider_url)\n",
    "print(\"seconds\", time.time() - start, df_logs.shape)\n",
    "\n",
    "# tx_hash block_num timestamp frm to val dec Ymd \n",
    "df_logs_timestamp = timestamp_for_block_num(df_logs, provider_url)"
   ],
   "metadata": {
    "collapsed": false,
    "is_executing": true,
    "ExecuteTime": {
     "start_time": "2023-12-29T01:00:37.526175080Z"
    }
   },
   "id": "198666e962d799eb"
  },
  {
   "cell_type": "code",
   "execution_count": null,
   "outputs": [],
   "source": [
    "def flatten_logs_to_tx(coin_id: str, df: pd.DataFrame, provider: web3.Web3) -> pd.DataFrame:\n",
    "    df = df.copy()\n",
    "    df.drop_duplicates('tx_hash', inplace = True)\n",
    "    print(df.shape)\n",
    "    df.insert(df.shape[1], 'method', np.arange(0, df.shape[0]))\n",
    "    for i in range(len(df.index)):\n",
    "        idx = df.index[i]\n",
    "        tx_hash = df.loc[idx, 'tx_hash']\n",
    "        tx_idx = int(df.loc[idx, 'tx_idx'])\n",
    "        blk_num = int(df.loc[idx, 'blk_num'])\n",
    "        print_progress('Fetching {}'.format(tx_hash), i, df.shape[0], True)\n",
    "        tx = provider.eth.get_transaction_by_block(int(blk_num), int(tx_idx))\n",
    "        input = provider.to_hex(tx.input) \n",
    "        method = input[:10] \n",
    "        df.loc[idx, 'frm'] = tx['from']\n",
    "        if method == '0xa9059cbb':\n",
    "            df.loc[idx, 'method'] = 'transfer'\n",
    "            df.loc[idx, 'to'] = \"0x\" + input[34:74] \n",
    "        else:\n",
    "            df.loc[idx, 'method'] = 'unknown'\n",
    "    \n",
    "    return df\n",
    "\n",
    "df_tx = df_logs_timestamp.copy()\n",
    "df_tx = flatten_logs_to_tx(coin_id, df_tx, provider)"
   ],
   "metadata": {
    "collapsed": false,
    "ExecuteTime": {
     "start_time": "2023-12-29T00:18:37.685957189Z"
    }
   },
   "id": "ff16265ccd4bb1a5"
  },
  {
   "cell_type": "code",
   "execution_count": null,
   "outputs": [],
   "source": [
    "from math import ceil\n",
    "\n",
    "\n",
    "# Ymd tx_cnt, tx_val_total, eoa_tx_cnt, eoa_val_total\n",
    "def grouped_by_day(df: pd.DataFrame) -> pd.DataFrame:\n",
    "    df = df.copy()\n",
    "    grouped = df.groupby('Ymd')\n",
    "    res_df = pd.DataFrame(columns=['Ymd', 'txs_cnt', 'txs_val', 'eoa_txs_cnt', 'eoa_txs_val'])\n",
    "    print(\"groups\", len(grouped))\n",
    "    for key, group in grouped:\n",
    "        eoa_txs = group[group['method'] == 'transfer']\n",
    "        eoa_txs_cnt = len(eoa_txs)\n",
    "        eoa_txs_val = ceil(eoa_txs['dec'].sum())\n",
    "        row = [key, len(group), ceil(group['dec'].sum()), eoa_txs_cnt, eoa_txs_val]\n",
    "        res_df.loc[len(res_df.index)] = row\n",
    "    \n",
    "    res_df['tx_cnt_pct'] =  res_df['eoa_txs_cnt'] / res_df['txs_cnt']\n",
    "    res_df['tx_val_pct'] =  res_df['eoa_txs_val'] / res_df['txs_val']\n",
    "    res_df['high_swap'] =  res_df['tx_val_pct'] < 0.5 # res_df['eoa_txs_val'] / res_df['txs_val']\n",
    "    res_df = res_df.round({'tx_cnt_pct': 4, 'tx_val_pct': 4})\n",
    "    return res_df\n",
    "\n",
    "\n",
    "pd.set_option('display.width', 256)\n",
    "pd.set_option('display.max_colwidth', 24)\n",
    "\n",
    "# Ymd tx_cnt, tx_val_total, eoa_tx_cnt, eoa_val_total\n",
    "res_df = grouped_by_day(df_tx)\n",
    "print(res_df.to_string())\n",
    "\n",
    "pd.reset_option('display.width')\n",
    "pd.reset_option('display.max_colwidth')"
   ],
   "metadata": {
    "collapsed": false,
    "ExecuteTime": {
     "start_time": "2023-12-29T00:18:37.686042105Z"
    }
   },
   "id": "df6ee50c41768cc0"
  },
  {
   "cell_type": "code",
   "execution_count": null,
   "outputs": [],
   "source": [
    "# generate files for all\n",
    "import os\n",
    "\n",
    "pump_ratios = [2.0, 1.5, 4.0, 8.0]\n",
    "min_volumes = [500000, 1000000, 10000000, 100000]\n",
    "\n",
    "for ratio in pump_ratios:\n",
    "    for vol in min_volumes:\n",
    "        path = 'results/' + str(ratio).replace('.', '_') + '_' + str(vol)\n",
    "        if not os.path.exists(path):\n",
    "            os.mkdir(path)\n",
    "        df_candles_pumps: Dict[str, pd.DataFrame] = dict()\n",
    "\n",
    "        # for each chart\n",
    "        for idx, key in enumerate(daily_candles):\n",
    "            candles = daily_candles[key]\n",
    "            print_progress(\"Searching for pumps\", idx, len(daily_candles), True)\n",
    "            if key not in df_charts: \n",
    "                continue    \n",
    "            df_chart = df_charts[key]\n",
    "            df_info = daily_candle_pumps_info(candles, pump_ratio, min_volume, df_chart)\n",
    "            if not df_info.empty:\n",
    "                df_candles_pumps[key] = df_info\n",
    "\n",
    "        eth_df_candles_pumps = dict()\n",
    "        for key, df in df_candles_pumps.items():\n",
    "            address, decimals = get_address_and_decimals(key)\n",
    "            if address is None or decimals is None:\n",
    "                continue\n",
    "            eth_df_candles_pumps[key] = df\n",
    "\n",
    "        for coin_id, df in df_candles_pumps.items():\n",
    "            for i in range(len(df.index)):\n",
    "                timestamp = df.index[i]\n",
    "                df_logs = get_logs_df(coin_id, timestamp, 90, provider_url)\n",
    "                df_logs = timestamp_for_block_num(df_logs, provider_url)\n",
    "                if df_logs is None:\n",
    "                    continue\n",
    "                df_tx = flatten_logs_to_tx(coin_id, df_logs, provider)\n",
    "                res_df = grouped_by_day(df_tx)\n",
    "                res_df.to_pickle(path + '/' + coin_id + '_' + str(i) + year_month_day_str(timestamp) + '.plk')    \n",
    "# \n",
    "# \n",
    "#                 \n",
    "#                 \n",
    "# \n"
   ],
   "metadata": {
    "collapsed": false,
    "ExecuteTime": {
     "start_time": "2023-12-29T00:18:37.686079920Z"
    }
   },
   "id": "8b17da2245dc87e7"
  }
 ],
 "metadata": {
  "kernelspec": {
   "display_name": "Python 3",
   "language": "python",
   "name": "python3"
  },
  "language_info": {
   "codemirror_mode": {
    "name": "ipython",
    "version": 2
   },
   "file_extension": ".py",
   "mimetype": "text/x-python",
   "name": "python",
   "nbconvert_exporter": "python",
   "pygments_lexer": "ipython2",
   "version": "2.7.6"
  }
 },
 "nbformat": 4,
 "nbformat_minor": 5
}
