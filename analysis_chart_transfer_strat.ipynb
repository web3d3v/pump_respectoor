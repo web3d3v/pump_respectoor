{
 "cells": [
  {
   "cell_type": "code",
   "execution_count": 6,
   "outputs": [
    {
     "data": {
      "text/plain": "True"
     },
     "execution_count": 6,
     "metadata": {},
     "output_type": "execute_result"
    }
   ],
   "source": [
    "# Imports\n",
    "from utils import read_json_file, write_json_file, read_json_file_or_empty_list\n",
    "from utils import large_num_short_format\n",
    "from dotenv import load_dotenv\n",
    "from typing import  List, Dict\n",
    "from utils import print_progress\n",
    "import pandas as pd\n",
    "import numpy as np\n",
    "import matplotlib.pyplot as plt\n",
    "import  math\n",
    "\n",
    "load_dotenv()"
   ],
   "metadata": {
    "collapsed": false,
    "ExecuteTime": {
     "end_time": "2023-12-27T22:40:38.430097872Z",
     "start_time": "2023-12-27T22:40:38.395458918Z"
    }
   },
   "id": "4f6174abe5096364"
  },
  {
   "cell_type": "code",
   "execution_count": 7,
   "outputs": [
    {
     "name": "stdout",
     "output_type": "stream",
     "text": [
      "\n",
      "Coins: 10431, Markets: 10431\n",
      " Loading chart_full idx: 10424 / 10425, 100.0%       \n",
      "Charts with price data count: 9887\n"
     ]
    }
   ],
   "source": [
    "# Load coins and markets\n",
    "from download_chart_data import ChartInterval\n",
    "from download_chart_data import load_chart_by_interval\n",
    "\n",
    "coins: List[Dict[str, any]] = read_json_file(\"data/coins.json\")\n",
    "markets: List[Dict[str, any]] = read_json_file(\"data/markets.json\")\n",
    "print(\"\\nCoins: {}, Markets: {}\".format(len(coins), len(markets)))\n",
    "\n",
    "# Load daily charts and convert them to daily \n",
    "charts = load_chart_by_interval(ChartInterval.FULL)\n",
    "print(\"\\nCharts with price data count: {}\".format(len(charts)))"
   ],
   "metadata": {
    "collapsed": false,
    "ExecuteTime": {
     "end_time": "2023-12-27T22:40:54.311094887Z",
     "start_time": "2023-12-27T22:40:38.418830015Z"
    }
   },
   "id": "4465fd73f9d19355"
  },
  {
   "cell_type": "markdown",
   "source": [],
   "metadata": {
    "collapsed": false
   },
   "id": "1a8e2ac3794623e"
  },
  {
   "cell_type": "code",
   "execution_count": 8,
   "outputs": [
    {
     "name": "stdout",
     "output_type": "stream",
     "text": [
      " Searching for pumps idx: 9886 / 9887, 100.0%       \n",
      "Coins that pumped 9887\n"
     ]
    }
   ],
   "source": [
    "# Find chart pumps\n",
    "from download_chart_data import chart_data_to_df\n",
    "from utils import year_month_str, year_month_day_str\n",
    "\n",
    "def is_pump(\n",
    "    price: float, prev_price: float, pump_ratio: float, volume: float, \n",
    "    min_volume: float\n",
    ") -> bool:\n",
    "    if math.isnan(prev_price) or math.isnan(price):\n",
    "        return False\n",
    "    return price >= prev_price * pump_ratio and volume > min_volume\n",
    "\n",
    "\n",
    "def pumps_info(\n",
    "    chart_data: List[Dict[str, any]], pump_ratio: float, min_volume: float\n",
    ") -> pd.DataFrame:\n",
    "    df = chart_data_to_df(chart_data)\n",
    "    df['Ym'] = list(map(lambda x: year_month_str(x), df.index))\n",
    "    # shift price and add pump bool\n",
    "    df.insert(1, 'prev_price', df['price'].shift(1))\n",
    "    df['pump'] = df.apply(\n",
    "        lambda x: is_pump(x['price'], x['prev_price'], pump_ratio, x['volume'], min_volume),\n",
    "        axis=1\n",
    "    )\n",
    "    # select pump rows\n",
    "    return df.loc[df['pump'] == True]\n",
    "\n",
    "\n",
    "pump_ratio = 2.0\n",
    "min_volume = 500000\n",
    "chart_pumps_df: Dict[str, pd.DataFrame] = dict()\n",
    "\n",
    "# for each chart\n",
    "for idx, key in enumerate(charts):\n",
    "    chart = charts[key]\n",
    "    print_progress(\"Searching for pumps\", idx, len(charts), True)\n",
    "    chart_pumps_df[key] = pumps_info(chart, pump_ratio, min_volume)\n",
    "\n",
    "print(\"\")        \n",
    "print(\"Coins that pumped\", len(chart_pumps_df.keys()))"
   ],
   "metadata": {
    "collapsed": false,
    "ExecuteTime": {
     "end_time": "2023-12-27T22:42:37.814683831Z",
     "start_time": "2023-12-27T22:40:54.449328054Z"
    }
   },
   "id": "a750d49fb02cd49c"
  },
  {
   "cell_type": "code",
   "execution_count": 9,
   "outputs": [
    {
     "name": "stdout",
     "output_type": "stream",
     "text": [
      "['0xcoco', '12ships', '1million-nfts', '1sol', '2crazynft', '88mph', 'aardvark', 'acent', 'acoconut', 'acreage-coin', 'acute-angle-cloud', 'adappter-token', 'adex', 'adreward', 'advanced-united-continent', 'aegis', 'aelf', 'aeron', 'agoras-currency-of-tau', 'agrello', 'agrinode', 'airbloc-protocol', 'airswap', 'aiwork', 'akita-inu', 'akropolis-delphi', 'alchemy-pay', 'alethea-artificial-liquid-intelligence-token', 'all-coins-yield-capital', 'all-in', 'ally', 'alpaca', 'alpha-quark-token', 'alphr', 'aluna', 'amber-phantom-butterfly', 'american-shiba', 'amond', 'anchor-protocol', 'answer-governance', 'antis-inu', 'anyswap', 'apes-go-bananas', 'apeswap-finance', 'apex-token-2', 'apm-coin', 'apollo-crypto', 'apy-finance', 'arbismart-token', 'arcblock', 'archangel-token', 'archimedes', 'arcona', 'arcs', 'armor', 'asd', 'ash', 'askobar-network', 'assangedao', 'assemble-protocol', 'astroelon', 'attila', 'auctus', 'aurix', 'aurora', 'aurora-dao', 'autobahn-network', 'automata', 'autonio', 'aventus', 'axia', 'axis-defi', 'axl-inu', 'b-protocol', 'baanx', 'baasid', 'babb', 'baby-doge-coin', 'baby-saitama', 'baby-shiba-inu-erc', 'babypepe', 'bacondao', 'badger-dao', 'ballswap', 'balpha', 'bamboo-defi', 'banana', 'bananatok', 'banano', 'band-protocol', 'banksocial', 'bao-finance', 'barbiecrashbandicootrfk88', 'barnbridge', 'base-protocol', 'basis-share', 'battle-pets', 'bbs-network', 'bear-inu', 'bedlingtonterriertoken', 'beechat', 'beep-coin', 'beholder', 'bella-protocol', 'ben-2', 'ben-s-finale', 'benddao', 'benzene', 'bepro-network', 'berry', 'beyond-finance', 'beyond-protocol', 'bezoge-earth', 'biaocoin', 'bifi', 'bifrost', 'big-data-protocol', 'binancecoin', 'bincentive', 'bintex-futures', 'biopassport', 'bird-money', 'bitball', 'bitcoin-br', 'bitget-token', 'bitmart-token', 'bitrise-token', 'bitrock', 'bitrue-token', 'bitsong', 'blackhole-protocol', 'blackpearl-chain', 'blank', 'blockbank', 'blockcdn', 'blockchain-brawlers', 'blockchain-certified-data-token', 'blockchain-cuties-universe-governance', 'blockchain-monster-hunt', 'blockchainspace', 'blockremit', 'blocks', 'blocksport', 'blocktools', 'blox', 'bloxmove-erc20', 'blue-baikal', 'bnktothefuture', 'bns-token', 'bob-token', 'boba-network', 'bobcoin', 'bobo', 'bobo-coin', 'bobs_repair', 'bogdanoff', 'boltbot', 'bondly', 'bone-shibaswap', 'bonk', 'bora', 'boringdao-[old]', 'bosagora', 'bottos', 'botxcoin', 'bounty0x', 'bountymarketcap', 'bread', 'bridge-oracle', 'bright-token', 'brokoli', 'brother-music-platform', 'bull-market', 'bullet-game', 'burp', 'busy-dao', 'butterfly-protocol-2', 'byteball', 'cap', 'cappasity', 'capybara-token', 'cardstarter', 'carecoin', 'carnomaly', 'carry', 'cartesi', 'cat-token', 'catecoin', 'catgirl-optimus', 'catpay', 'ceek', 'celsius-degree-token', 'centaurify', 'centrality', 'chad-coin', 'chain-games', 'chainbing', 'charged-particles', 'chat-ai', 'chedda', 'cherry-network', 'chicken', 'childhoods-end', 'chiliz', 'chimaera', 'chronobank', 'cindicator', 'cindrum', 'circuits-of-value', 'civic', 'cleardao', 'clintex-cti', 'clips', 'cnns', 'cocktailbar', 'cocos-bcx', 'coin98', 'coinex-token', 'coinfi', 'coinhub', 'coinspaid', 'coldstack', 'compound-governance-token', 'concentrated-voting-power', 'conic-finance', 'connectome', 'constitutiondao', 'content-value-network', 'contentbox', 'convergence', 'cope-coin', 'coreto', 'corionx', 'coshi-inu', 'couponbay', 'cpchain', 'cratos', 'cream-2', 'credit-2', 'crossfi', 'crossswap', 'crypterium', 'crypto-bank', 'crypto-international', 'crypto-perx', 'cryptoai', 'cryptobonusmiles', 'cryptopawcoin', 'cult-dao', 'cuminu', 'curate', 'cvnx', 'cyberfi', 'cybervein', 'daex', 'dafi-protocol', 'dapp-com', 'dappradar', 'dappstore', 'dark-energy-crystals', 'daruma', 'datamine', 'dawn-protocol', 'decentr', 'decentraland', 'decentralized-advertising', 'decentralized-vulnerability-platform', 'deepspace', 'deesse', 'defactor', 'defi-yield-protocol', 'defidollar-dao', 'definer', 'definity', 'delphy', 'delysium', 'dent', 'dentacoin', 'deri-protocol', 'despace-protocol', 'dev-protocol', 'dexe', 'dexfin', 'dexkit', 'dextf', 'dfohub', 'dforce-token', 'dfund', 'dia-data', 'digital-rand', 'digitex-futures-exchange', 'dimitra', 'dinger-token', 'dinolfg', 'district0x', 'dkargo', 'dodo', 'dodreamchain', 'dog-collar', 'dogechain', 'dogegf', 'dogelon-mars', 'dogeswap', 'dogira', 'dogpad-finance', 'dojo', 'doki-doki-finance', 'donut', 'doont-buy', 'dos-network', 'dotmoovs', 'dovu', 'dprating', 'drc-mobility', 'dream-machine-token', 'dtravel', 'dubbz', 'ducks', 'dummy', 'dust-protocol', 'dxsale-network', 'earthfund', 'easyfi', 'ebox', 'echain-network', 'echolink', 'ecomi', 'eddaswap', 'eggs', 'ehash', 'electric-vehicle-zone', 'electrify-asia', 'element-black', 'elysia', 'eminer', 'eml-protocol', 'empire-token', 'encrypgen', 'encryption-ai', 'energi', 'enigma', 'enjincoin', 'epik-prime', 'equalizer', 'espresso-bot', 'essentia', 'etha-lend', 'ether-1', 'ethereum-meta', 'ethereummax', 'ethermon', 'ethlas', 'ethos', 'euro-coin', 'evedo', 'everex', 'everid', 'everipedia', 'everycoin', 'evrynet', 'exmo-coin', 'eyes-protocol', 'fable-of-the-dragon', 'falcon-nine', 'falcon-token', 'family-guy', 'fanstime', 'fantomgo', 'feg-token', 'feisty-doge-nft', 'finance-blocks', 'fire-protocol', 'first-ever-nft', 'flash-stake', 'flex-coin', 'floki', 'flurry', 'flux-protocol', 'fnkcom', 'foam-protocol', 'formation-fi', 'forta', 'franklin', 'freeway', 'fringe-finance', 'front-row', 'fsn', 'fsw-token', 'fuck-pepe', 'funfi', 'furucombo', 'fx-coin', 'gala', 'gamb', 'game', 'gamecredits', 'gamercoin', 'gameswap-org', 'gamium', 'gamyfi-token', 'gas-dao', 'gatechain-token', 'geke', 'gem-exchange-and-trading', 'genaro-network', 'gene', 'geodb', 'geojam', 'geyser', 'gg-token', 'giftedhands', 'gilgeous', 'gitcoin', 'global-social-chain', 'gm', 'gnft', 'gny', 'gods-unchained', 'gogolcoin', 'goku', 'golcoin', 'gold-fever-native-gold', 'gold-pieces', 'goldfinx', 'gomoney2', 'good-gensler', 'got-guaranteed', 'gourmetgalaxy', 'governor-dao', 'govi', 'gowithmi', 'greg', 'grn-grid', 'guiser', 'gyen', 'gyoshi', 'hakka-finance', 'hara-token', 'haram', 'harrypotterobamapacman8inu', 'harrypotterobamasonic10in', 'hashcoin', 'hedgetrade', 'hegic', 'herocoin', 'hibayc', 'hibeanz', 'hidoodles', 'hiens3', 'hifidenza', 'hifriends', 'higazers', 'highstreet', 'himayc', 'himeebits', 'hiod', 'hiodbs', 'hiseals', 'historydao', 'hitchain', 'hoichi', 'hokkaidu-inu', 'hollygold', 'homer', 'hord', 'hotbit-token', 'howdoo', 'humaniq', 'hundred-finance', 'hunt-token', 'huobi-btc', 'hxacoin', 'hydro', 'hyperdao', 'hyve', 'ice-token', 'ichi-farm', 'iconiq-lab-token', 'idavoll-network', 'ideachain', 'ideaology', 'ideas', 'idle', 'iexec-rlc', 'ifarm', 'ime-lab', 'imgnai', 'indigg', 'innovative-bioresearch', 'insula', 'internxt', 'inverse-finance', 'ioi-token', 'iotex', 'ispolink', 'ixicash', 'izumi-finance', 'jack-token', 'jacy', 'jasmycoin', 'jesus-coin', 'jetcoin', 'jigstack', 'jupiter', 'k21', 'kabosu-inu', 'kambria', 'kan', 'kdag', 'kekchain', 'kelvpn', 'kermit-cc0e2d66-4b46-4eaf-9f4e-5caa883d1c09', 'keys-token', 'keysians-network', 'kiba-inu', 'kiboshib', 'kimchi-finance', 'kirobo', 'kishu-inu', 'kittenfinance', 'kitty-inu', 'kleekai', 'kok', 'kollect', 'konnect', 'koyo-6e93c7c7-03a3-4475-86a1-f0bc80ee09d6', 'kromatika', 'kryll', 'krypton-token', 'kryxivia-game', 'kstarcoin', 'kuma-inu', 'kyber-network', 'laelaps', 'laika', 'land-of-conquest-slg', 'launchblock', 'lbk', 'lead-token', 'lemochain', 'lemond', 'lever', 'lever-network', 'lien', 'linework-coin', 'linkeye', 'liquid-staking-derivative', 'livepeer', 'lokr', 'loon-network', 'lootbot', 'lord-of-dragons', 'loyalty-labs', 'lto-network', 'lua-token', 'lucky-block', 'ludena-protocol', 'luffy-inu', 'lukso-token', 'lumerin', 'luna-inu', 'lunachow', 'lunchdao', 'lunyr', 'lux-bio-exchange-coin', 'luxurious-pro-network-token', 'lybra-finance', 'lympo', 'lympo-market-token', 'made-in-real-life', 'magic', 'magiccraft', 'mahadao', 'mainframe', 'marcopolo', 'marginswap', 'marketpeak', 'marshall-rogan-inu', 'martin-shkreli-inu', 'marvin-inu', 'masq', 'math', 'matrixetf', 'maya-preferred-223', 'mcdex', 'mch-coin', 'mci-coin', 'measurable-data-token', 'media-network', 'medical-token-currency', 'medicalchain', 'medicalveda', 'medishares', 'meetple', 'meme-inu', 'memecoin', 'mememe', 'merchdao', 'merit-circle', 'meta-mvrs', 'meta_finance', 'metadium', 'metafabric', 'metal', 'metanept', 'metarare', 'metavisa', 'milady-meme-coin', 'mileverse', 'millimeter', 'million', 'mimo-parallel-governance-token', 'mindol', 'minds', 'mini', 'minter-network', 'mirror-protocol', 'misbloc', 'mission-helios', 'mithril', 'mithril-share', 'mixmarvel', 'mixtrust', 'mobifi', 'mogul-productions', 'monavale', 'monetha', 'mongcoin', 'monkeys-token', 'mononoke-inu', 'monox', 'moon-rabbit', 'moonbot', 'mooney', 'moonienft', 'mops', 'morpheus-network', 'moss-carbon-credit', 'mossland', 'mp3', 'multichain', 'multivac', 'multiverse', 'mumu', 'muse-2', 'musk-gold', 'mybit-token', 'mycelium', 'mysterium', 'nabox', 'nahmii', 'naruto', 'nation3', 'nearpad', 'neon-coin', 'nest', 'nestree', 'nexum', 'nezuko', 'nft-worlds', 'nftify', 'nftmall', 'nftrade', 'nfty-token', 'niftify', 'nihao', 'niifi', 'nix-bridge-token', 'no-one', 'noa-play', 'none-trading', 'nord-finance', 'not-financial-advice', 'nothing-token', 'npick-block', 'nucleus-vision', 'nuco-cloud', 'nucypher', 'numbers-protocol', 'numeraire', 'nurifootball', 'nusd', 'nvirworld', 'nyan-meme-coin', 'odem', 'offshift', 'oin-finance', 'okcash', 'onbuff', 'one', 'one-cash', 'one-hundred-million-inu', 'one-share', 'only-possible-on-ethereum', 'onooks', 'onston', 'onx-finance', 'opacity', 'open-platform', 'openanx', 'opendao', 'opium', 'orbler', 'orbs', 'ordinal-doge', 'ordinex', 'origin-protocol', 'origintrail', 'orion-money', 'ormeus-cash', 'ormeus-ecosystem', 'ormeuscoin', 'oxbitcoin', 'paal-ai', 'paid-network', 'paint', 'pancake-games', 'pando', 'pantheon-x', 'papa', 'parachute', 'paralink-network', 'paratoken-2', 'parsiq', 'pastel', 'patientory', 'pawswap', 'pawthereum', 'peanut', 'pear-swap', 'peepo', 'pepe-2-0', 'pepe-chain-2', 'pepe-token', 'pepedex', 'pha', 'phantom-protocol', 'phoenix-chain', 'phoenix-token', 'phoenixdao', 'phunk-vault-nftx', 'pibble', 'piccolo-inu', 'pickle-finance', 'pikachu', 'pixelverse', 'platonic-quintessence', 'playcent', 'playgame', 'pleasure-coin', 'pleb-token', 'pointpay', 'polar-sync', 'polaris-share', 'polka-city', 'polkabridge', 'pollchain', 'polyswarm', 'polytrade', 'pooh', 'pooltogether', 'pop-chest-token', 'popcorn', 'portion', 'poseidon-2', 'premia', 'primate', 'prime', 'print-the-pepe', 'prometeus', 'propy', 'prosper', 'psyop', 'publish', 'pumapay', 'pundi-x', 'pundi-x-2', 'purefi', 'puriever', 'pussy-financial', 'qanplatform', 'qi-dao', 'qmall', 'qqq-token', 'qrolli', 'quadrant-protocol', 'quick', 'quiztok', 'r34p', 'radio-caca', 'rage-fan', 'rai-finance', 'raiden-network', 'rainicorn', 'rake-finance', 'ramp', 'rankerdao', 'rari-governance-token', 'rarible', 'rbx-token', 'realm', 'realtract', 'reapchain', 'recharge', 'red', 'red-token', 'refereum', 'reflexer-ungovernance-token', 'reftoken', 'relevant', 'rendoge', 'request-network', 'revain', 'revoai', 'revomon', 'rinia-inu', 'rio-defi', 'ripio-credit-network', 'robonomics-network', 'rocki', 'roko-network', 'rook', 'royale', 'rubic', 'ruff', 's4fe', 'safemoon-inu', 'safepal', 'saffron-finance', 'saitama-inu', 'sake-token', 'sanin-inu', 'sanshu-inu', 'sashimi', 'satoshis-vision', 'satozhi', 'saudi-pepe', 'schrodinger', 'scooby', 'scry-info', 'seigniorage-shares', 'sekuritance', 'selfkey', 'sensitrust', 'sentinel-protocol', 'serum', 'shanghai-inu', 'shapeshift-fox-token', 'sharedstake-governance-token', 'sheikh-inu', 'shiba-inu', 'shibadoge', 'shibaken-finance', 'shibarium-pad', 'shibaverse', 'shibelon', 'shibwallet', 'shih-tzu', 'shikoku', 'shinjarium', 'shiryo-inu', 'shoefy', 'shping', 'shroom-finance', 'silent-notary', 'silo-finance', 'simple-token', 'sirin-labs-token', 'skrumble-network', 'small-doge', 'smartcredit-token', 'smartmesh', 'smooth-love-potion', 'smudge-lord', 'snetwork', 'snowswap', 'soba-token', 'social-good-project', 'solidlydex', 'solve-care', 'somnium-space-cubes', 'sonm', 'sopay', 'sora', 'spaceswap-milk2', 'spaceswap-shake', 'spankchain', 'sparkpoint', 'sperax', 'spheroid-universe', 'spillways', 'splyt', 'spotted-turtle', 'spume', 'squid-game', 'stable-asset', 'stableusd', 'stafi', 'starfish-finance', 'stargate-finance', 'starlink', 'statera', 'status', 'stick-man', 'stonksdao', 'storj', 'storm', 'stp-network', 'stratos', 'streamr-xdata', 'strong', 'stronghands-finance', 'subdao', 'sukhavati-network', 'suncontract', 'superbid', 'sushi', 'suterusu', 'suzuverse', 'swag-finance', 'swapr', 'swarm', 'swerve-dao', 'swingby', 'swipe', 'synapse-2', 'sync-network', 'tamadoge', 'tap', 'tarot', 'tate', 'taxa-token', 'temco', 'temdao', 'tenshi', 'tenx', 'terareum', 'tetris-2', 'the-4th-pillar', 'the-abyss', 'the-apis', 'the-graph', 'the-neko', 'the-qwan', 'the-reaper-coin', 'the-sandbox', 'throne', 'tickr', 'tiger-king', 'titanswap', 'token-pocket', 'tokenize-xchange', 'tokenomy', 'tom-finance', 'tonstarter', 'top-network', 'tosdis', 'totoro-inu', 'trace-network-labs', 'trendai', 'triall', 'trias-token', 'trism', 'triumphx', 'troll', 'true-pnl', 'truebit-protocol', 'truefi', 'trustswap', 'trustverse', 'ttc-protocol', 'turbo', 'txa', 'ubix-network', 'ucash', 'ucx', 'ukrainedao-flag-nft', 'ultrain', 'uma', 'umbrella-network', 'unbound-finance', 'unfederalreserve', 'unibot', 'unicly', 'unicorn-token', 'unifi', 'unifi-protocol-dao', 'unification', 'unilayer', 'union-protocol-governance-token', 'unipilot', 'unipower', 'unistake', 'uniswap', 'unit-protocol-duck', 'unitrade', 'universal-basic-income', 'uniwhales', 'unlend-finance', 'unlock-protocol', 'upbots', 'uquid-coin', 'utrust', 'utu-coin', 'vabble', 'vader-protocol', 'vaiot', 'value-liquidity', 'vcgamers', 'vempire-ddao', 'veritaseum', 'vibe', 'viberate', 'vidy', 'vidya', 'virtue-poker', 'vita-inu', 'vite', 'vndc', 'vnx-exchange', 'voxel-x-network', 'wadzpay-token', 'wagerr', 'wagie-bot', 'wagmi-coin', 'wall-street-baby', 'wall-street-bets-dapp', 'warp-finance', 'wassie', 'waxe', 'weway', 'whale', 'wilder-world', 'wirex', 'wojak', 'wom-token', 'woo-network', 'woofwork-io', 'woonkly-power', 'worldcore', 'wowswap', 'wozx', 'wrapped-terra', 'wrapped-ust', 'x-2', 'x2y2', 'xai-corp', 'xbot', 'xdai-stake', 'xen-crypto', 'xeno-token', 'xfinance', 'xfit', 'xfund', 'xi-token', 'xido-finance', 'xio', 'xmax', 'xmon', 'xtoken', 'xyo-network', 'yel-finance', 'yfdai-finance', 'yfii-finance', 'yflink', 'youcash', 'youwho', 'yuna', 'yvs-finance', 'zap', 'zeedex', 'zenfuse', 'zeon', 'zero-exchange', 'zeroswap', 'zik-token', 'zipmex-token', 'zkspace', 'zoo-token', 'zyx']\n",
      "Eth coins pumps 1080\n",
      "anchor-protocol (2, 6)\n",
      "2022-05-15\n",
      "2022-05-24\n"
     ]
    }
   ],
   "source": [
    "# Filter out only ETH  pumps\n",
    "\n",
    "def get_address_and_decimals(coin_id: str) -> (str, int):\n",
    "    try: \n",
    "        coin = read_json_file('data/coin/' + coin_id + '.json')\n",
    "    except:\n",
    "        return None, None\n",
    "    detail_platforms = coin.get('detail_platforms')\n",
    "    if detail_platforms is None:\n",
    "        return None, None\n",
    "    ethereum = detail_platforms.get('ethereum')\n",
    "    if ethereum is None:\n",
    "        return None, None\n",
    "    return ethereum.get('contract_address'), ethereum.get('decimal_place')\n",
    "\n",
    "\n",
    "eth_df_candles_pumps = dict()\n",
    "\n",
    "for key, df in chart_pumps_df.items():\n",
    "    address, decimals = get_address_and_decimals(key)\n",
    "    if address is None or decimals is None or len(df) == 0:\n",
    "        continue    \n",
    "    eth_df_candles_pumps[key] = df\n",
    "        \n",
    "print(sorted(eth_df_candles_pumps.keys()))\n",
    "print(\"Eth coins pumps\", len(eth_df_candles_pumps.keys()))\n",
    "\n",
    "tmp_id = 'anchor-protocol'\n",
    "tmp_df = eth_df_candles_pumps[tmp_id]\n",
    "print(tmp_id, tmp_df.shape)\n",
    "for i in range(len(tmp_df.index)):\n",
    "    print(year_month_day_str(tmp_df.index[i]))"
   ],
   "metadata": {
    "collapsed": false,
    "ExecuteTime": {
     "end_time": "2023-12-27T22:42:41.837752317Z",
     "start_time": "2023-12-27T22:42:37.864177963Z"
    }
   },
   "id": "5ebd7ad72fd66c20"
  },
  {
   "cell_type": "markdown",
   "source": [],
   "metadata": {
    "collapsed": false
   },
   "id": "d8f9b9790d6a834c"
  },
  {
   "cell_type": "code",
   "execution_count": 10,
   "outputs": [
    {
     "name": "stdout",
     "output_type": "stream",
     "text": [
      "(2, 6)\n",
      "2022-05-24\n",
      " anchor-protocol 14852563 14853563 idx: 669000 / 648000, 103.2%       "
     ]
    }
   ],
   "source": [
    "from web3_utils import format_decimals, get_block_near\n",
    "from utils import read_str_file, year_month_day_str\n",
    "from web3 import Web3, AsyncWeb3\n",
    "import web3\n",
    "import datetime\n",
    "\n",
    "provider = Web3(Web3.HTTPProvider('http://127.0.0.1:8545'))\n",
    "\n",
    "# Create two data frames for analyses\n",
    "# Ymd from to val timestamp, block, tx_hash\n",
    "\n",
    "def block_num_for_timestamp(timestamp: int, provider: web3.Web3) -> int:\n",
    "    return get_block_near(timestamp, provider)\n",
    "    \n",
    "\n",
    "def log_to_list(log: any, decimals: int, provider: web3.Web3) -> List[any]:\n",
    "    val_int = log.args['value']\n",
    "    timestamp = provider.eth.get_block(log['blockNumber'])['timestamp']\n",
    "    return [\n",
    "        provider.to_hex(log['transactionHash']), # tx_hash\n",
    "        log['transactionIndex'],                 # tx_idx       \n",
    "        int(log['blockNumber']),                 # block_num\n",
    "        log['blockHash'],                        # block_hash\n",
    "        timestamp,                               # timestamp\n",
    "        log.args['from'],                        # frm\n",
    "        log.args['to'],                          # to\n",
    "        val_int,                                 # val_int\n",
    "        format_decimals(val_int, str(decimals)), # val_dec\n",
    "        year_month_day_str(timestamp),           # Ymd\n",
    "    ]\n",
    "\n",
    "\n",
    "# tx_hash block_num timestamp frm to val_int val_dec Ymd\n",
    "def get_logs_df(\n",
    "    coin_id: str, \n",
    "    pump_timestamp: int,\n",
    "    days: int,\n",
    "    provider: web3.Web3\n",
    ") -> pd.DataFrame:\n",
    "    # if not ETH return None\n",
    "    address, decimals = get_address_and_decimals(coin_id)\n",
    "    if address is None or decimals is None:\n",
    "        return None\n",
    "    pump_block_num = block_num_for_timestamp(pump_timestamp, provider)\n",
    "    st_block = pump_block_num - days * 24 * 60 * 5\n",
    "    \n",
    "    # crawl all transfer logs\n",
    "    cols = ['tx_hash', 'tx_idx', 'block_num', 'block_hash', 'timestamp', 'frm', 'to', 'val_int', 'val_dec', 'Ymd']\n",
    "    df = pd.DataFrame(columns=cols)\n",
    "    abi = read_str_file('IERC20.json')\n",
    "    address, decimals = get_address_and_decimals(coin_id)\n",
    "    address = Web3.to_checksum_address(address)\n",
    "    contract = provider.eth.contract(address=address,abi=abi)\n",
    "    batch_size = 1000\n",
    "    to = st_block + batch_size\n",
    "    prog_total = pump_block_num - st_block\n",
    "    while to < pump_block_num + (3 * 24 * 60 * 5):\n",
    "        frm = to - batch_size\n",
    "        msg = \"{} {} {}\".format(coin_id, frm, to)\n",
    "        print_progress(msg, to - st_block, prog_total, True)\n",
    "        batch_logs = contract.events.Transfer().get_logs(fromBlock=frm, toBlock=to)\n",
    "        for log in batch_logs:\n",
    "            df.loc[len(df.index)] = log_to_list(log, decimals, provider)\n",
    "        to += batch_size\n",
    "    return df\n",
    "\n",
    "\n",
    "coin_id = \"anchor-protocol\"\n",
    "# 0x7da2641000cbb407c329310c461b2cb9c70c3046\n",
    "df = eth_df_candles_pumps[coin_id]\n",
    "print(df.shape)\n",
    "timestamp = df.index[1]\n",
    "print(year_month_day_str(timestamp))\n",
    "df_logs = get_logs_df(coin_id, timestamp, 90, provider)\n",
    "# tx_hash block_num timestamp frm to val_int val_dec Ymd "
   ],
   "metadata": {
    "collapsed": false,
    "ExecuteTime": {
     "end_time": "2023-12-27T23:00:18.900494821Z",
     "start_time": "2023-12-27T22:42:41.847181436Z"
    }
   },
   "id": "139f036e2100b04c"
  },
  {
   "cell_type": "code",
   "execution_count": 11,
   "outputs": [
    {
     "name": "stdout",
     "output_type": "stream",
     "text": [
      "(2097, 10)\n",
      " Fetching 0x3d093c3c20cff497aa9f83220cfa1f440195765878689584a03e7ac34d8714d4 idx: 2096 / 2097, 100.0%       "
     ]
    }
   ],
   "source": [
    "def flatten_logs_to_tx(coin_id: str, df: pd.DataFrame, provider: web3.Web3) -> pd.DataFrame:\n",
    "    df = df.copy()\n",
    "    df.drop_duplicates('tx_hash', inplace = True)\n",
    "    print(df.shape)\n",
    "    df.insert(df.shape[1], 'method', np.arange(0, df.shape[0]))\n",
    "    for i in range(len(df.index)):\n",
    "        idx = df.index[i]\n",
    "        tx_hash = df.loc[idx, 'tx_hash']\n",
    "        tx_idx = df.loc[idx, 'tx_idx']\n",
    "        block_num = df.loc[idx, 'block_num']\n",
    "        print_progress('Fetching {}'.format(tx_hash), i, df.shape[0], True)\n",
    "        tx = provider.eth.get_transaction_by_block(int(block_num), int(tx_idx))\n",
    "        input = provider.to_hex(tx.input) \n",
    "        method = input[:10] \n",
    "        df.loc[idx, 'frm'] = tx['from']\n",
    "        if method == '0xa9059cbb':\n",
    "            df.loc[idx, 'method'] = 'transfer'\n",
    "            df.loc[idx, 'to'] = \"0x\" + input[34:74] \n",
    "        else:\n",
    "            df.loc[idx, 'method'] = 'unknown'\n",
    "    \n",
    "    return df\n",
    "\n",
    "\n",
    "df_tx = flatten_logs_to_tx(coin_id, df_logs, provider)"
   ],
   "metadata": {
    "collapsed": false,
    "ExecuteTime": {
     "end_time": "2023-12-27T23:00:32.227067129Z",
     "start_time": "2023-12-27T23:00:18.905281086Z"
    }
   },
   "id": "fd35443fca84f933"
  },
  {
   "cell_type": "code",
   "execution_count": 13,
   "outputs": [
    {
     "name": "stdout",
     "output_type": "stream",
     "text": [
      "groups 102\n",
      "            Ymd  txs_cnt  txs_val  eoa_txs_cnt  eoa_txs_val  tx_cnt_pct  tx_val_pct  high_swap\n",
      "0    2022-02-11        3     8265            2         6190    0.666667    0.748941      False\n",
      "1    2022-02-12       13    64721           13        64721    1.000000    1.000000      False\n",
      "2    2022-02-13       13    27861           12        27631    0.923077    0.991745      False\n",
      "3    2022-02-14       13   210341           10       108188    0.769231    0.514346      False\n",
      "4    2022-02-15       21    73054           21        73054    1.000000    1.000000      False\n",
      "5    2022-02-16       11    32579            8        27710    0.727273    0.850548      False\n",
      "6    2022-02-17        5    82242            4        52384    0.800000    0.636949      False\n",
      "7    2022-02-18        3    64641            2        34794    0.666667    0.538265      False\n",
      "8    2022-02-19       22    80964           20        80073    0.909091    0.988995      False\n",
      "9    2022-02-20        6    44016            6        44016    1.000000    1.000000      False\n",
      "10   2022-02-21        7     7332            6         7088    0.857143    0.966721      False\n",
      "11   2022-02-22       18    66081           16        65331    0.888889    0.988650      False\n",
      "12   2022-02-23       13    53594           11        49961    0.846154    0.932213      False\n",
      "13   2022-02-24       21    60907           20        60691    0.952381    0.996454      False\n",
      "14   2022-02-25       15    90217           13        60344    0.866667    0.668876      False\n",
      "15   2022-02-26       24    60817           22        60414    0.916667    0.993374      False\n",
      "16   2022-02-27        3     4518            1         2260    0.333333    0.500221      False\n",
      "17   2022-02-28       13    25279           11        25199    0.846154    0.996835      False\n",
      "18   2022-03-01       32  2541098           28       507083    0.875000    0.199553       True\n",
      "19   2022-03-02       25    79308           24        74241    0.960000    0.936110      False\n",
      "20   2022-03-03       37    51499           33        50435    0.891892    0.979339      False\n",
      "21   2022-03-04       54   467288           46       464093    0.851852    0.993163      False\n",
      "22   2022-03-05       47   425542           43       415400    0.914894    0.976167      False\n",
      "23   2022-03-06       66   197311           56       194064    0.848485    0.983544      False\n",
      "24   2022-03-07       33    75351           27        68299    0.818182    0.906411      False\n",
      "25   2022-03-08       19    64035           15        60533    0.789474    0.945311      False\n",
      "26   2022-03-09       15    46554           12        40138    0.800000    0.862182      False\n",
      "27   2022-03-10       10    13872            6        11744    0.600000    0.846597      False\n",
      "28   2022-03-11        6    13490            5        12069    0.833333    0.894663      False\n",
      "29   2022-03-12       15    21016           14        20708    0.933333    0.985344      False\n",
      "30   2022-03-13       16     9241           13         8353    0.812500    0.903907      False\n",
      "31   2022-03-14       12    17638           12        17638    1.000000    1.000000      False\n",
      "32   2022-03-15       25   137790           21       107417    0.840000    0.779570      False\n",
      "33   2022-03-16       40   218119           36       214712    0.900000    0.984380      False\n",
      "34   2022-03-17        3      131            3          131    1.000000    1.000000      False\n",
      "35   2022-03-18        3    12363            2         6368    0.666667    0.515085      False\n",
      "36   2022-03-19       14    28518           12        28180    0.857143    0.988148      False\n",
      "37   2022-03-20       18    16746           11        15143    0.611111    0.904276      False\n",
      "38   2022-03-21       11   311295            4       301596    0.363636    0.968843      False\n",
      "39   2022-03-22       10  1515718            6        14667    0.600000    0.009677       True\n",
      "40   2022-03-23        8     5032            6         4723    0.750000    0.938593      False\n",
      "41   2022-03-24       12    56733            6        49973    0.500000    0.880845      False\n",
      "42   2022-03-25       12    48892            7        41077    0.583333    0.840158      False\n",
      "43   2022-03-26        3     3009            2         2736    0.666667    0.909272      False\n",
      "44   2022-03-27        5      914            3          113    0.600000    0.123632       True\n",
      "45   2022-03-28       10    15725            7         9179    0.700000    0.583720      False\n",
      "46   2022-03-29        4    23965            2        23431    0.500000    0.977718      False\n",
      "47   2022-03-30       10    20463           10        20463    1.000000    1.000000      False\n",
      "48   2022-03-31       15    39816           11        38939    0.733333    0.977974      False\n",
      "49   2022-04-01        6    20496            3        17191    0.500000    0.838749      False\n",
      "50   2022-04-02        8    45189            5        37270    0.625000    0.824758      False\n",
      "51   2022-04-03       11    18754           11        18754    1.000000    1.000000      False\n",
      "52   2022-04-04        1     1386            1         1386    1.000000    1.000000      False\n",
      "53   2022-04-05        5     2994            2         1994    0.400000    0.665999      False\n",
      "54   2022-04-06       15    44509            9        28821    0.600000    0.647532      False\n",
      "55   2022-04-07       12    42698            9        35991    0.750000    0.842920      False\n",
      "56   2022-04-08       19    40539           11        21384    0.578947    0.527492      False\n",
      "57   2022-04-09       11    40697            6        38831    0.545455    0.954149      False\n",
      "58   2022-04-10       11   114243            7        34740    0.636364    0.304089       True\n",
      "59   2022-04-11       29    57934           19        50688    0.655172    0.874927      False\n",
      "60   2022-04-12       19   278165           13       273629    0.684211    0.983693      False\n",
      "61   2022-04-13        4     9149            2         8140    0.500000    0.889715      False\n",
      "62   2022-04-14       11    41090           11        41090    1.000000    1.000000      False\n",
      "63   2022-04-15        9    22273            4        14378    0.444444    0.645535      False\n",
      "64   2022-04-16        9    33263            4        18752    0.444444    0.563750      False\n",
      "65   2022-04-17        5     2646            2         1440    0.400000    0.544218      False\n",
      "66   2022-04-18        5     8354            2         6978    0.400000    0.835288      False\n",
      "67   2022-04-19        5   439526            2       419332    0.400000    0.954055      False\n",
      "68   2022-04-20        4    23054            3        22583    0.750000    0.979570      False\n",
      "69   2022-04-21        3    40620            3        40620    1.000000    1.000000      False\n",
      "70   2022-04-22        1      380            1          380    1.000000    1.000000      False\n",
      "71   2022-04-25        3     2567            3         2567    1.000000    1.000000      False\n",
      "72   2022-04-26        3      661            3          661    1.000000    1.000000      False\n",
      "73   2022-04-27        2     3012            1         2690    0.500000    0.893094      False\n",
      "74   2022-04-28        2     2160            1         1998    0.500000    0.925000      False\n",
      "75   2022-04-29        9     4337            1         1998    0.111111    0.460687       True\n",
      "76   2022-04-30        4     3681            1         1452    0.250000    0.394458       True\n",
      "77   2022-05-01        2      687            0            0    0.000000    0.000000       True\n",
      "78   2022-05-02        6    38289            4        25511    0.666667    0.666275      False\n",
      "79   2022-05-04        2     1833            0            0    0.000000    0.000000       True\n",
      "80   2022-05-05        5    24613            5        24613    1.000000    1.000000      False\n",
      "81   2022-05-06        5     2721            5         2721    1.000000    1.000000      False\n",
      "82   2022-05-07        4   116422            3        95352    0.750000    0.819020      False\n",
      "83   2022-05-09        4    75064            3        40312    0.750000    0.537035      False\n",
      "84   2022-05-10       47  1616396           35      1055590    0.744681    0.653052      False\n",
      "85   2022-05-11      140  1503155          110      1120692    0.785714    0.745560      False\n",
      "86   2022-05-12      143  2101816          119      1748840    0.832168    0.832061      False\n",
      "87   2022-05-13      140  1766636          115      1242368    0.821429    0.703239      False\n",
      "88   2022-05-14       99  1926729           56      1236361    0.565657    0.641689      False\n",
      "89   2022-05-15       51   522039           10       226467    0.196078    0.433812       True\n",
      "90   2022-05-16       57   993825           44       905841    0.771930    0.911469      False\n",
      "91   2022-05-17       16   177073           13       162150    0.812500    0.915724      False\n",
      "92   2022-05-18        9   119658            8       119581    0.888889    0.999356      False\n",
      "93   2022-05-19       10   135363            4       104240    0.400000    0.770077      False\n",
      "94   2022-05-20       18    82599           12        55838    0.666667    0.676013      False\n",
      "95   2022-05-21       13   126248            7        70580    0.538462    0.559058      False\n",
      "96   2022-05-22       18   191345           16       187120    0.888889    0.977919      False\n",
      "97   2022-05-23       96  1417545           87      1197213    0.906250    0.844568      False\n",
      "98   2022-05-24       32  2615670           25      2064332    0.781250    0.789217      False\n",
      "99   2022-05-25       25   403131           18       349219    0.720000    0.866267      False\n",
      "100  2022-05-26       37   899697           36       899047    0.972973    0.999278      False\n",
      "101  2022-05-27       78  2441094           68      2296596    0.871795    0.940806      False\n"
     ]
    }
   ],
   "source": [
    "from math import ceil\n",
    "\n",
    "\n",
    "# Ymd tx_cnt, tx_val_total, eoa_tx_cnt, eoa_val_total\n",
    "def grouped_by_day(df: pd.DataFrame) -> pd.DataFrame:\n",
    "    df = df.copy()\n",
    "    grouped = df.groupby('Ymd')\n",
    "    res_df = pd.DataFrame(columns=['Ymd', 'txs_cnt', 'txs_val', 'eoa_txs_cnt', 'eoa_txs_val'])\n",
    "    print(\"groups\", len(grouped))\n",
    "    for key, group in grouped:\n",
    "        eoa_txs = group[group['method'] == 'transfer']\n",
    "        eoa_txs_cnt = len(eoa_txs)\n",
    "        eoa_txs_val = ceil(eoa_txs['val_dec'].sum())\n",
    "        row = [key, len(group), ceil(group['val_dec'].sum()), eoa_txs_cnt, eoa_txs_val]\n",
    "        res_df.loc[len(res_df.index)] = row\n",
    "    \n",
    "    res_df['tx_cnt_pct'] =  res_df['eoa_txs_cnt'] / res_df['txs_cnt']\n",
    "    res_df['tx_val_pct'] =  res_df['eoa_txs_val'] / res_df['txs_val']\n",
    "    res_df['high_swap'] =  res_df['tx_val_pct'] < 0.5 # res_df['eoa_txs_val'] / res_df['txs_val']\n",
    "    return res_df\n",
    "\n",
    "\n",
    "pd.set_option('display.width', 256)\n",
    "pd.set_option('display.max_colwidth', 24)\n",
    "\n",
    "# Ymd tx_cnt, tx_val_total, eoa_tx_cnt, eoa_val_total\n",
    "res_df = grouped_by_day(df_tx)\n",
    "print(res_df.to_string())\n",
    "\n",
    "pd.reset_option('display.width')\n",
    "pd.reset_option('display.max_colwidth')"
   ],
   "metadata": {
    "collapsed": false,
    "ExecuteTime": {
     "end_time": "2023-12-27T23:02:59.614837144Z",
     "start_time": "2023-12-27T23:02:59.430738426Z"
    }
   },
   "id": "f0237f8fd14f7557"
  },
  {
   "cell_type": "code",
   "execution_count": null,
   "outputs": [],
   "source": [],
   "metadata": {
    "collapsed": false
   },
   "id": "50d69b7765bf77a"
  }
 ],
 "metadata": {
  "kernelspec": {
   "display_name": "Python 3",
   "language": "python",
   "name": "python3"
  },
  "language_info": {
   "codemirror_mode": {
    "name": "ipython",
    "version": 2
   },
   "file_extension": ".py",
   "mimetype": "text/x-python",
   "name": "python",
   "nbconvert_exporter": "python",
   "pygments_lexer": "ipython2",
   "version": "2.7.6"
  }
 },
 "nbformat": 4,
 "nbformat_minor": 5
}
