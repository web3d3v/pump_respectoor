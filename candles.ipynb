{
 "cells": [
  {
   "cell_type": "code",
   "execution_count": 4,
   "outputs": [
    {
     "data": {
      "text/plain": "True"
     },
     "execution_count": 4,
     "metadata": {},
     "output_type": "execute_result"
    }
   ],
   "source": [
    "# Imports\n",
    "from utils import read_json_file, write_json_file\n",
    "from dotenv import load_dotenv\n",
    "from typing import  List, Dict\n",
    "from utils import print_progress\n",
    "import pandas as pd\n",
    "import numpy as np\n",
    "import matplotlib.pyplot as plt\n",
    "import  math\n",
    "\n",
    "load_dotenv()"
   ],
   "metadata": {
    "collapsed": false,
    "ExecuteTime": {
     "end_time": "2023-10-16T11:46:54.457281610Z",
     "start_time": "2023-10-16T11:46:54.410097468Z"
    }
   },
   "id": "8c36a810af648008"
  },
  {
   "cell_type": "markdown",
   "source": [],
   "metadata": {
    "collapsed": false
   },
   "id": "1a8e2ac3794623e"
  },
  {
   "cell_type": "code",
   "execution_count": 6,
   "outputs": [
    {
     "name": "stdout",
     "output_type": "stream",
     "text": [
      " Loading candles_daily idx: 10425 / 10426, 100.0%       \n",
      "Daily candles count: 9796\n",
      " Loading chart_full idx: 10424 / 10425, 100.0%       \n",
      "Charts count: 9887\n"
     ]
    }
   ],
   "source": [
    "# Load AUTO charts and convert them to daily \n",
    "from download_chart_data import ChartInterval\n",
    "from download_chart_data import load_chart_by_interval, chart_data_to_df\n",
    "from download_candles import load_candles_by_interval, CandleInterval\n",
    "\n",
    "\n",
    "daily_candles = load_candles_by_interval(CandleInterval.DAILY)\n",
    "print(\"\\nDaily candles count: {}\".format(len(daily_candles)))\n",
    "charts = load_chart_by_interval(ChartInterval.FULL)\n",
    "print(\"\\nCharts count: {}\".format(len(charts)))"
   ],
   "metadata": {
    "collapsed": false,
    "ExecuteTime": {
     "end_time": "2023-10-16T11:47:41.786119403Z",
     "start_time": "2023-10-16T11:47:28.514481233Z"
    }
   },
   "id": "4536f1c477f8f3c3"
  },
  {
   "cell_type": "code",
   "execution_count": 7,
   "outputs": [
    {
     "name": "stdout",
     "output_type": "stream",
     "text": [
      " Transforming charts to dataframe  idx: 9886 / 9887, 100.0%       "
     ]
    }
   ],
   "source": [
    "# Transform charts to data frame\n",
    "df_charts: Dict[str, pd.DataFrame] = dict()\n",
    "total = len(charts)\n",
    "\n",
    "for idx, key in enumerate(charts):\n",
    "    chart = charts[key]\n",
    "    df_charts[key] = chart_data_to_df(chart)\n",
    "    print_progress(\"Transforming charts to dataframe \", idx, total, True)"
   ],
   "metadata": {
    "collapsed": false,
    "ExecuteTime": {
     "end_time": "2023-10-16T11:48:46.006599844Z",
     "start_time": "2023-10-16T11:48:22.210653025Z"
    }
   },
   "id": "ede4345d387baf61"
  },
  {
   "cell_type": "code",
   "execution_count": 26,
   "outputs": [
    {
     "name": "stdout",
     "output_type": "stream",
     "text": [
      " Searching for pumps idx: 9795 / 9796, 100.0%       "
     ]
    }
   ],
   "source": [
    "from download_candles import daily_candle_data_to_df\n",
    "# Find pumps for candles\n",
    "from download_chart_data import chart_data_to_df\n",
    "from utils import print_progress, year_month_str\n",
    "import pandas as pd\n",
    "import  math\n",
    "\n",
    "\n",
    "def is_pump(\n",
    "    open: float, \n",
    "    high: float, \n",
    "    pump_ratio: float,\n",
    "    min_volume: float,\n",
    "    volume: float\n",
    ") -> bool:\n",
    "    if math.isnan(open) or math.isnan(high) or math.isnan(volume):\n",
    "        return False\n",
    "    return high >= open * pump_ratio and volume >= min_volume\n",
    "\n",
    "\n",
    "def daily_candle_pumps_info(\n",
    "    candle_data: List[List[any]], \n",
    "    pump_ratio: float,\n",
    "    min_volume: float,\n",
    "    chart_df: pd.DataFrame,\n",
    "    shift_volume: bool = False\n",
    ") -> pd.DataFrame:\n",
    "    # add create df timestamp, price, volume, marketcap\n",
    "    df = daily_candle_data_to_df(candle_data)\n",
    "    \n",
    "    # Add volume from chart dataframe\n",
    "    if shift_volume:\n",
    "        chart_df = chart_df.shift(1, axis = 0)\n",
    "    df = df.join(chart_df)\n",
    "\n",
    "    df = df.drop('price', axis=1)\n",
    "    df = df.drop('market_cap', axis=1)\n",
    "    \n",
    "    # add month/year column\n",
    "    df['Ym'] = list(map(lambda x: year_month_str(x), df.index))\n",
    "\n",
    "    df['pump'] = df.apply(\n",
    "        lambda x: is_pump(x['open'], x['high'], pump_ratio, min_volume, x['total_volume']),\n",
    "        axis=1\n",
    "    )\n",
    "\n",
    "    # select pump rows\n",
    "    return df.loc[df['pump'] == True]\n",
    "\n",
    "\n",
    "pump_ratio = 1.5\n",
    "min_volume = 500000\n",
    "candle_pump_dfs: Dict[str, pd.DataFrame] = dict()\n",
    "candle_pump_dfs_shifted: Dict[str, pd.DataFrame] = dict()\n",
    "\n",
    "# for each chart\n",
    "for idx, key in enumerate(daily_candles):\n",
    "    candles = daily_candles[key]\n",
    "    print_progress(\"Searching for pumps\", idx, len(daily_candles), True)\n",
    "    if key not in df_auto_charts: \n",
    "        continue    \n",
    "    df_auto_chart = df_auto_charts[key]\n",
    "    candle_pump_dfs[key] = daily_candle_pumps_info(candles, pump_ratio, min_volume, df_auto_chart)\n",
    "    candle_pump_dfs_shifted[key] = daily_candle_pumps_info(candles, pump_ratio, min_volume, df_auto_chart, True)\n",
    "\n",
    "# pd.set_option('display.width', 128)\n",
    "# pd.set_option('display.max_colwidth', 24)\n",
    "# \n",
    "# candles = daily_candles['bitcoin']\n",
    "# df_auto_chart = df_auto_charts['bitcoin']\n",
    "# result = daily_candle_pumps_info(candles, pump_ratio, min_volume, df_auto_chart, True)\n",
    "# \n",
    "# pd.reset_option('display.width')\n",
    "# pd.reset_option('display.max_colwidth')"
   ],
   "metadata": {
    "collapsed": false,
    "ExecuteTime": {
     "end_time": "2023-10-16T10:09:42.819682105Z",
     "start_time": "2023-10-16T10:08:26.363818932Z"
    }
   },
   "id": "b3f304e6cbd9d194"
  },
  {
   "cell_type": "code",
   "execution_count": 27,
   "outputs": [
    {
     "name": "stdout",
     "output_type": "stream",
     "text": [
      " Counting for pumps idx: 6 / 7, 85.7%       \n",
      "  year/month  pumps                  markets\n",
      "2    2023-06    0.0                         \n",
      "3    2023-07  173.0  psyop, sign, bobo-co...\n",
      "4    2023-08  269.0  socol, psyop, pepeco...\n",
      "5    2023-09  194.0  bobo-coin, hifi-fina...\n",
      "6    2023-10   90.0  barnbridge, ooki, ad...\n"
     ]
    }
   ],
   "source": [
    "# Counting pumps per month\n",
    "from utils import year_month_keys\n",
    "\n",
    "pumps_df = candle_pump_dfs\n",
    "\n",
    "keys = year_month_keys(list(range(2023, 2024)), list(range(4, 11)))\n",
    "zeros = np.zeros(len(keys))\n",
    "empty_strs = map(lambda x: \"\", zeros)\n",
    "result_df = pd.DataFrame(\n",
    "    data={'year/month': keys, \"pumps\": zeros, \"markets\": empty_strs}\n",
    ")\n",
    "\n",
    "for idx, key in enumerate(keys):\n",
    "    for df_key in pumps_df:\n",
    "        df = pumps_df[df_key]\n",
    "        pump_cnt = df.loc[df['Ym'] == key].shape[0]\n",
    "        if pump_cnt > 0:\n",
    "            result_df.loc[result_df['year/month'] == key, 'pumps'] += pump_cnt\n",
    "            result_df.loc[result_df['year/month'] == key, 'markets'] += \"{}, \".format(df_key)\n",
    "\n",
    "    print_progress(\"Counting for pumps\", idx, len(keys), True)\n",
    "\n",
    "print(\"\")\n",
    "pd.set_option('display.max_colwidth', 24)\n",
    "print(result_df.tail())\n",
    "pd.reset_option('display.width')\n",
    "pd.reset_option('display.max_colwidth')"
   ],
   "metadata": {
    "collapsed": false,
    "ExecuteTime": {
     "end_time": "2023-10-16T10:10:00.740785749Z",
     "start_time": "2023-10-16T10:09:43.126756921Z"
    }
   },
   "id": "c2c91df74dceb744"
  },
  {
   "cell_type": "code",
   "execution_count": 28,
   "outputs": [
    {
     "name": "stdout",
     "output_type": "stream",
     "text": [
      "  year/month  pumps                                            markets legend\n",
      "0    2023-04    0.0                                                     23-04\n",
      "1    2023-05    0.0                                                     23-05\n",
      "2    2023-06    0.0                                                     23-06\n",
      "3    2023-07  173.0  psyop, sign, bobo-coin, dede, maya-preferred-2...  23-07\n",
      "4    2023-08  269.0  socol, psyop, pepecoin-2, aniverse, alexgo, qr...  23-08\n",
      "5    2023-09  194.0  bobo-coin, hifi-finance, klaycity-orb, solarx,...  23-09\n",
      "6    2023-10   90.0  barnbridge, ooki, adappter-token, cashtree-tok...  23-10\n"
     ]
    },
    {
     "data": {
      "text/plain": "<Figure size 640x480 with 1 Axes>",
      "image/png": "[encoded data removed]"
     },
     "metadata": {},
     "output_type": "display_data"
    }
   ],
   "source": [
    "# Display pumps in last 6 months\n",
    "df = result_df\n",
    "df['legend'] = df.apply(lambda x: x['year/month'][2:], axis=1)\n",
    "print(df.tail(12))\n",
    "\n",
    "fig, ax = plt.subplots()\n",
    "ax.bar(df['legend'], df['pumps'])\n",
    "\n",
    "plt.tight_layout() \n",
    "plt.show()\n",
    "# 42 56 41 18"
   ],
   "metadata": {
    "collapsed": false,
    "ExecuteTime": {
     "end_time": "2023-10-16T10:10:00.847510559Z",
     "start_time": "2023-10-16T10:10:00.735983858Z"
    }
   },
   "id": "6cbb79ad7521b101"
  },
  {
   "cell_type": "markdown",
   "source": [],
   "metadata": {
    "collapsed": false
   },
   "id": "d8f9b9790d6a834c"
  }
 ],
 "metadata": {
  "kernelspec": {
   "display_name": "Python 3",
   "language": "python",
   "name": "python3"
  },
  "language_info": {
   "codemirror_mode": {
    "name": "ipython",
    "version": 2
   },
   "file_extension": ".py",
   "mimetype": "text/x-python",
   "name": "python",
   "nbconvert_exporter": "python",
   "pygments_lexer": "ipython2",
   "version": "2.7.6"
  }
 },
 "nbformat": 4,
 "nbformat_minor": 5
}
