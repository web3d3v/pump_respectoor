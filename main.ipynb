{
 "cells": [
  {
   "cell_type": "code",
   "execution_count": 1,
   "outputs": [
    {
     "data": {
      "text/plain": "True"
     },
     "execution_count": 1,
     "metadata": {},
     "output_type": "execute_result"
    }
   ],
   "source": [
    "# Imports\n",
    "from utils import read_json_file\n",
    "from dotenv import load_dotenv\n",
    "from typing import  List, Dict\n",
    "from utils import print_progress\n",
    "import os\n",
    "\n",
    "load_dotenv()"
   ],
   "metadata": {
    "collapsed": false,
    "ExecuteTime": {
     "end_time": "2023-10-13T14:23:41.294225485Z",
     "start_time": "2023-10-13T14:23:41.285748253Z"
    }
   },
   "id": "4f6174abe5096364"
  },
  {
   "cell_type": "code",
   "execution_count": 2,
   "outputs": [
    {
     "name": "stdout",
     "output_type": "stream",
     "text": [
      "Coins: 10391, Markets: 10391\n"
     ]
    }
   ],
   "source": [
    "# Load coins and markets\n",
    "\n",
    "coins: List[Dict[str, any]] = read_json_file(\"data/coins.json\")\n",
    "markets: List[Dict[str, any]] = read_json_file(\"data/markets.json\")\n",
    "\n",
    "print(\"Coins: {}, Markets: {}\".format(len(coins), len(markets)))"
   ],
   "metadata": {
    "collapsed": false,
    "ExecuteTime": {
     "end_time": "2023-10-13T14:23:42.419333416Z",
     "start_time": "2023-10-13T14:23:42.257088233Z"
    }
   },
   "id": "4465fd73f9d19355"
  },
  {
   "cell_type": "code",
   "execution_count": 3,
   "outputs": [
    {
     "name": "stdout",
     "output_type": "stream",
     "text": [
      " Loading charts idx: 7338 / 7339, 100.0%       \n",
      "Charts with price data count 6523\n"
     ]
    }
   ],
   "source": [
    "# Load charts\n",
    "\n",
    "files = os.listdir(\"data/chart\")\n",
    "charts: Dict[str, any] = dict()\n",
    "\n",
    "for idx, file in enumerate(files):\n",
    "    coingecko_id = file.replace(\"_usd_chart_data.json\", \"\") \n",
    "    chart = read_json_file(\"data/chart/\" + file)\n",
    "    if len(chart['prices']) > 0:\n",
    "        charts[coingecko_id] = chart\n",
    "    print_progress(\"Loading charts\", idx, len(files), True)\n",
    "\n",
    "print(\"\\nCharts with price data count\", len(charts))"
   ],
   "metadata": {
    "collapsed": false,
    "ExecuteTime": {
     "end_time": "2023-10-13T14:23:55.751383064Z",
     "start_time": "2023-10-13T14:23:43.906111134Z"
    }
   },
   "id": "b85af0a9ffcdd47f"
  },
  {
   "cell_type": "markdown",
   "source": [],
   "metadata": {
    "collapsed": false
   },
   "id": "1a8e2ac3794623e"
  },
  {
   "cell_type": "code",
   "execution_count": 4,
   "outputs": [
    {
     "name": "stdout",
     "output_type": "stream",
     "text": [
      " Searching for pumps idx: 6522 / 6523, 100.0%       "
     ]
    }
   ],
   "source": [
    "# Find pump from charts\n",
    "from download_chart_data import chart_data_to_df\n",
    "from utils import print_progress, year_month_str\n",
    "import pandas as pd\n",
    "import numpy as np\n",
    "import matplotlib.pyplot as plt\n",
    "import  math\n",
    "\n",
    "\n",
    "def is_pump(\n",
    "    price: float, \n",
    "    prev_price: float, \n",
    "    pump_ratio: float,\n",
    "    volume: float,\n",
    "    min_volume: float\n",
    ") -> bool:\n",
    "    if math.isnan(prev_price) or math.isnan(price):\n",
    "        return False\n",
    "    return price >= prev_price * pump_ratio and volume > min_volume\n",
    "\n",
    "def pumps_info(\n",
    "    chart_data: List[Dict[str, any]], \n",
    "    pump_ratio: float,\n",
    "    min_volume: float\n",
    ") -> pd.DataFrame:\n",
    "    # add create df timestamp, price, volume, marketcap\n",
    "    df = chart_data_to_df(chart_data)\n",
    "\n",
    "    # add month/year column\n",
    "    tss = list(map(lambda  x: int(x[0] / 1000), chart_data[\"prices\"]))\n",
    "    df['Ym'] = list(map(lambda x: year_month_str(x), tss))\n",
    "\n",
    "    # shift price and add pump bool\n",
    "    df.insert(1, 'prev_price', df['price'].shift(1))\n",
    "    df['pump'] = df.apply(\n",
    "        lambda x: is_pump(x['price'], x['prev_price'], pump_ratio, x['total_volume'], min_volume),\n",
    "        axis=1\n",
    "    )\n",
    "\n",
    "    # select pump rows\n",
    "    return df.loc[df['pump'] == True]\n",
    "\n",
    "\n",
    "pump_ratio = 2.0\n",
    "min_volume = 500000\n",
    "pump_dfs = list()\n",
    "\n",
    "# for each chart\n",
    "for idx, key in enumerate(charts):\n",
    "    chart = charts[key]\n",
    "    print_progress(\"Searching for pumps\", idx, len(charts), True)\n",
    "    pump_dfs.append(pumps_info(chart, pump_ratio, min_volume))"
   ],
   "metadata": {
    "collapsed": false,
    "ExecuteTime": {
     "end_time": "2023-10-13T14:25:08.089167853Z",
     "start_time": "2023-10-13T14:23:55.752993152Z"
    }
   },
   "id": "a750d49fb02cd49c"
  },
  {
   "cell_type": "code",
   "execution_count": null,
   "outputs": [
    {
     "name": "stdout",
     "output_type": "stream",
     "text": [
      " Counting for pumps idx: 48 / 132, 36.4%       "
     ]
    }
   ],
   "source": [
    "# Counting pumps per month\n",
    "from utils import year_month_keys\n",
    "\n",
    "keys = year_month_keys(list(range(2013, 2024)), list(range(1, 13)))\n",
    "result_df = pd.DataFrame(data={'year/month': keys, \"pumps\": np.zeros(len(keys))})\n",
    "\n",
    "for idx, key in enumerate(keys):\n",
    "    for df in pump_dfs:\n",
    "        pump_cnt = df.loc[df['Ym'] == key].shape[0]\n",
    "        if pump_cnt > 0:\n",
    "            result_df.loc[result_df['year/month'] == key, 'pumps'] += pump_cnt\n",
    "\n",
    "    print_progress(\"Counting for pumps\", idx, len(keys), True)\n",
    "\n",
    "print(\"\")\n",
    "print(result_df.tail())"
   ],
   "metadata": {
    "collapsed": false,
    "is_executing": true,
    "ExecuteTime": {
     "start_time": "2023-10-13T14:25:08.649597294Z"
    }
   },
   "id": "993c0300660e0b77"
  },
  {
   "cell_type": "code",
   "execution_count": null,
   "outputs": [],
   "source": [
    "df = result_df\n",
    "df = df.head(df.shape[1] - 8)\n",
    "df = df.tail(100)\n",
    "df['legend'] = df.apply(lambda x: x['year/month'][2:], axis=1)\n",
    "print(df.tail())\n",
    "\n",
    "fig, ax = plt.subplots(figsize=(12, 6))\n",
    "ax.bar(df['legend'], df['pumps'])\n",
    "\n",
    "for i, t in enumerate(ax.get_xticklabels()):\n",
    "    if (i % 6) != 0:\n",
    "        t.set_visible(False)\n",
    "\n",
    "plt.tight_layout() \n",
    "plt.show()"
   ],
   "metadata": {
    "collapsed": false,
    "is_executing": true
   },
   "id": "58381ff76bffd8f5"
  },
  {
   "cell_type": "code",
   "execution_count": 9,
   "outputs": [
    {
     "name": "stdout",
     "output_type": "stream",
     "text": [
      " Searching for pumps idx: 6522 / 6523, 100.0%       "
     ]
    }
   ],
   "source": [
    "# \n",
    "# download the candles (close vs high)\n",
    "# more sanity checking on pumps. Inspect random 20 pumps\n",
    "# where are the pumps happening. (Pumps by chain)"
   ],
   "metadata": {
    "collapsed": false,
    "ExecuteTime": {
     "end_time": "2023-10-13T14:21:49.172653131Z",
     "start_time": "2023-10-13T14:20:38.187485382Z"
    }
   },
   "id": "b3f304e6cbd9d194"
  },
  {
   "cell_type": "code",
   "execution_count": null,
   "outputs": [],
   "source": [],
   "metadata": {
    "collapsed": false,
    "ExecuteTime": {
     "start_time": "2023-10-13T14:23:37.279593811Z"
    }
   },
   "id": "51ac4f15c2138a45"
  },
  {
   "cell_type": "code",
   "execution_count": null,
   "outputs": [],
   "source": [],
   "metadata": {
    "collapsed": false
   },
   "id": "2e3f898dc3087742"
  },
  {
   "cell_type": "markdown",
   "source": [],
   "metadata": {
    "collapsed": false
   },
   "id": "d8f9b9790d6a834c"
  }
 ],
 "metadata": {
  "kernelspec": {
   "display_name": "Python 3",
   "language": "python",
   "name": "python3"
  },
  "language_info": {
   "codemirror_mode": {
    "name": "ipython",
    "version": 2
   },
   "file_extension": ".py",
   "mimetype": "text/x-python",
   "name": "python",
   "nbconvert_exporter": "python",
   "pygments_lexer": "ipython2",
   "version": "2.7.6"
  }
 },
 "nbformat": 4,
 "nbformat_minor": 5
}
