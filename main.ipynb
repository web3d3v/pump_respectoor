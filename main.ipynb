{
 "cells": [
  {
   "cell_type": "code",
   "execution_count": 26,
   "outputs": [
    {
     "data": {
      "text/plain": "True"
     },
     "execution_count": 26,
     "metadata": {},
     "output_type": "execute_result"
    }
   ],
   "source": [
    "# Imports\n",
    "from utils import read_json_file\n",
    "from dotenv import load_dotenv\n",
    "from typing import  List, Dict\n",
    "from utils import print_progress\n",
    "import os\n",
    "\n",
    "load_dotenv()"
   ],
   "metadata": {
    "collapsed": false,
    "ExecuteTime": {
     "end_time": "2023-10-13T18:53:45.743253590Z",
     "start_time": "2023-10-13T18:53:45.475947558Z"
    }
   },
   "id": "4f6174abe5096364"
  },
  {
   "cell_type": "code",
   "execution_count": 27,
   "outputs": [
    {
     "name": "stdout",
     "output_type": "stream",
     "text": [
      "Coins: 10391, Markets: 10391\n"
     ]
    }
   ],
   "source": [
    "# Load coins and markets\n",
    "\n",
    "coins: List[Dict[str, any]] = read_json_file(\"data/coins.json\")\n",
    "markets: List[Dict[str, any]] = read_json_file(\"data/markets.json\")\n",
    "\n",
    "print(\"Coins: {}, Markets: {}\".format(len(coins), len(markets)))"
   ],
   "metadata": {
    "collapsed": false,
    "ExecuteTime": {
     "end_time": "2023-10-13T18:53:46.055126195Z",
     "start_time": "2023-10-13T18:53:45.520766471Z"
    }
   },
   "id": "4465fd73f9d19355"
  },
  {
   "cell_type": "code",
   "execution_count": 28,
   "outputs": [
    {
     "name": "stdout",
     "output_type": "stream",
     "text": [
      " Loading charts idx: 7982 / 7983, 100.0%       \n",
      "Charts with price data count 6722\n"
     ]
    }
   ],
   "source": [
    "# Load charts\n",
    "\n",
    "files = os.listdir(\"data/chart\")\n",
    "charts: Dict[str, any] = dict()\n",
    "\n",
    "for idx, file in enumerate(files):\n",
    "    coingecko_id = file.replace(\"_usd_chart_data.json\", \"\") \n",
    "    chart = read_json_file(\"data/chart/\" + file)\n",
    "    if len(chart['prices']) > 0:\n",
    "        charts[coingecko_id] = chart\n",
    "    print_progress(\"Loading charts\", idx, len(files), True)\n",
    "\n",
    "print(\"\\nCharts with price data count\", len(charts))"
   ],
   "metadata": {
    "collapsed": false,
    "ExecuteTime": {
     "end_time": "2023-10-13T18:53:56.418517084Z",
     "start_time": "2023-10-13T18:53:45.624322759Z"
    }
   },
   "id": "b85af0a9ffcdd47f"
  },
  {
   "cell_type": "markdown",
   "source": [],
   "metadata": {
    "collapsed": false
   },
   "id": "1a8e2ac3794623e"
  },
  {
   "cell_type": "code",
   "execution_count": 57,
   "outputs": [
    {
     "name": "stdout",
     "output_type": "stream",
     "text": [
      " Searching for pumps idx: 6721 / 6722, 100.0%       "
     ]
    }
   ],
   "source": [
    "# Find pump from charts\n",
    "from download_chart_data import chart_data_to_df\n",
    "from utils import print_progress, year_month_str\n",
    "import pandas as pd\n",
    "import numpy as np\n",
    "import matplotlib.pyplot as plt\n",
    "import  math\n",
    "\n",
    "\n",
    "def is_pump(\n",
    "    price: float, \n",
    "    prev_price: float, \n",
    "    pump_ratio: float,\n",
    "    volume: float,\n",
    "    min_volume: float\n",
    ") -> bool:\n",
    "    if math.isnan(prev_price) or math.isnan(price):\n",
    "        return False\n",
    "    return price >= prev_price * pump_ratio and volume > min_volume\n",
    "\n",
    "def pumps_info(\n",
    "    chart_data: List[Dict[str, any]], \n",
    "    pump_ratio: float,\n",
    "    min_volume: float\n",
    ") -> pd.DataFrame:\n",
    "    # add create df timestamp, price, volume, marketcap\n",
    "    df = chart_data_to_df(chart_data)\n",
    "\n",
    "    # add month/year column\n",
    "    tss = list(map(lambda  x: int(x[0] / 1000), chart_data[\"prices\"]))\n",
    "    df['Ym'] = list(map(lambda x: year_month_str(x), tss))\n",
    "\n",
    "    # shift price and add pump bool\n",
    "    df.insert(1, 'prev_price', df['price'].shift(1))\n",
    "    df['pump'] = df.apply(\n",
    "        lambda x: is_pump(x['price'], x['prev_price'], pump_ratio, x['total_volume'], min_volume),\n",
    "        axis=1\n",
    "    )\n",
    "\n",
    "    # select pump rows\n",
    "    return df.loc[df['pump'] == True]\n",
    "\n",
    "\n",
    "pump_ratio = 1.5\n",
    "min_volume = 500000\n",
    "pump_dfs: Dict[str, pd.DataFrame] = dict()\n",
    "\n",
    "# for each chart\n",
    "for idx, key in enumerate(charts):\n",
    "    chart = charts[key]\n",
    "    print_progress(\"Searching for pumps\", idx, len(charts), True)\n",
    "    pump_dfs[key] = pumps_info(chart, pump_ratio, min_volume)"
   ],
   "metadata": {
    "collapsed": false,
    "ExecuteTime": {
     "end_time": "2023-10-14T07:42:22.021334323Z",
     "start_time": "2023-10-14T07:41:17.957270003Z"
    }
   },
   "id": "a750d49fb02cd49c"
  },
  {
   "cell_type": "code",
   "execution_count": 58,
   "outputs": [
    {
     "name": "stdout",
     "output_type": "stream",
     "text": [
      " Counting for pumps idx: 83 / 84, 98.8%       \n",
      "   year/month  pumps markets\n",
      "79    2023-08    0.0        \n",
      "80    2023-09    0.0        \n",
      "81    2023-10    0.0        \n",
      "82    2023-11    0.0        \n",
      "83    2023-12    0.0        \n"
     ]
    }
   ],
   "source": [
    "# Counting pumps per month\n",
    "from utils import year_month_keys\n",
    "\n",
    "keys = year_month_keys(list(range(2017, 2024)), list(range(1, 13)))\n",
    "zeros = np.zeros(len(keys))\n",
    "empty_strs = map(lambda x: \"\", zeros)\n",
    "result_df = pd.DataFrame(\n",
    "    data={'year/month': keys, \"pumps\": zeros, \"markets\": empty_strs}\n",
    ")\n",
    "\n",
    "for idx, key in enumerate(keys):\n",
    "    for df_key in pump_dfs:\n",
    "        df = pump_dfs[df_key]\n",
    "        pump_cnt = df.loc[df['Ym'] == key].shape[0]\n",
    "        if pump_cnt > 0:\n",
    "            result_df.loc[result_df['year/month'] == key, 'pumps'] += pump_cnt\n",
    "            result_df.loc[result_df['year/month'] == key, 'markets'] += \"{}, \".format(df_key)\n",
    "\n",
    "    print_progress(\"Counting for pumps\", idx, len(keys), True)\n",
    "\n",
    "print(\"\")\n",
    "pd.set_option('display.max_colwidth', 24)\n",
    "print(result_df.tail())"
   ],
   "metadata": {
    "collapsed": false,
    "ExecuteTime": {
     "end_time": "2023-10-14T07:44:41.082073470Z",
     "start_time": "2023-10-14T07:42:22.334970113Z"
    }
   },
   "id": "993c0300660e0b77"
  },
  {
   "cell_type": "code",
   "execution_count": 59,
   "outputs": [
    {
     "name": "stdout",
     "output_type": "stream",
     "text": [
      "   year/month  pumps                  markets legend\n",
      "67    2022-08  140.0  enq-enecuum, sperax,...  22-08\n",
      "68    2022-09  122.0  enq-enecuum, fame-mm...  22-09\n",
      "69    2022-10   98.0  enq-enecuum, fame-mm...  22-10\n",
      "70    2022-11  126.0  nkn, kromatika, coco...  22-11\n",
      "71    2022-12  105.0  higazers, sandwich-n...  22-12\n",
      "72    2023-01  153.0  tortuga-staked-aptos...  23-01\n",
      "73    2023-02  244.0  higazers, polydoge, ...  23-02\n",
      "74    2023-03  116.0  fanc, hiens4, tortug...  23-03\n",
      "75    2023-04  128.0  project-xeno, epillo...  23-04\n",
      "76    2023-05  222.0  dinger-token, fanc, ...  23-05\n",
      "77    2023-06   97.0  ribbit-meme, cocos-b...  23-06\n",
      "78    2023-07   39.0  inedible-coin, borin...  23-07\n"
     ]
    },
    {
     "data": {
      "text/plain": "<Figure size 1200x600 with 1 Axes>",
      "image/png": "[encoded data removed]"
     },
     "metadata": {},
     "output_type": "display_data"
    }
   ],
   "source": [
    "df = result_df\n",
    "df = df.head(df.shape[1] - 8)\n",
    "df = df.tail(100)\n",
    "df['legend'] = df.apply(lambda x: x['year/month'][2:], axis=1)\n",
    "print(df.tail(12))\n",
    "\n",
    "fig, ax = plt.subplots(figsize=(12, 6))\n",
    "ax.bar(df['legend'], df['pumps'])\n",
    "\n",
    "for i, t in enumerate(ax.get_xticklabels()):\n",
    "    if (i % 6) != 0:\n",
    "        t.set_visible(False)\n",
    "\n",
    "plt.tight_layout() \n",
    "plt.show()"
   ],
   "metadata": {
    "collapsed": false,
    "ExecuteTime": {
     "end_time": "2023-10-14T07:44:41.453210877Z",
     "start_time": "2023-10-14T07:44:41.111266600Z"
    }
   },
   "id": "58381ff76bffd8f5"
  },
  {
   "cell_type": "code",
   "execution_count": 53,
   "outputs": [
    {
     "name": "stdout",
     "output_type": "stream",
     "text": [
      "osl-ai\n",
      "furucombo\n",
      "hiseals\n",
      "dream-machine-token\n",
      "marinade\n",
      "sakura\n",
      "pastel\n",
      "adreward\n",
      "iguverse-igu\n",
      "lumerin\n",
      "bedlingtonterriertoken\n",
      "neon-coin\n",
      "diamond-launch\n",
      "harrypotterobamasonic10in\n",
      "hifriends\n",
      "wassie\n"
     ]
    }
   ],
   "source": [
    "key = '2023-06'\n",
    "pd.set_option('display.max_colwidth', None)\n",
    "row = result_df.loc[result_df['year/month'] == key]\n",
    "\n",
    "markets = row['markets'].values[0].split(', ')[:-1]\n",
    "for market in markets:\n",
    "    print(market)\n",
    "    \n",
    "# uniswap cnt 8\n",
    "# non uniswap cnt 8"
   ],
   "metadata": {
    "collapsed": false,
    "ExecuteTime": {
     "end_time": "2023-10-14T07:01:05.241742072Z",
     "start_time": "2023-10-14T07:01:05.232897289Z"
    }
   },
   "id": "a6a78bce9d0bd45d"
  },
  {
   "cell_type": "code",
   "execution_count": 32,
   "outputs": [],
   "source": [
    "# \n",
    "# download the candles (close vs high)\n",
    "# more sanity checking on pumps. Inspect random 20 pumps\n",
    "# where are the pumps happening. (Pumps by chain)\n",
    "\n",
    "# "
   ],
   "metadata": {
    "collapsed": false,
    "ExecuteTime": {
     "end_time": "2023-10-13T18:57:04.083068102Z",
     "start_time": "2023-10-13T18:57:04.078745808Z"
    }
   },
   "id": "b3f304e6cbd9d194"
  },
  {
   "cell_type": "markdown",
   "source": [],
   "metadata": {
    "collapsed": false
   },
   "id": "d8f9b9790d6a834c"
  }
 ],
 "metadata": {
  "kernelspec": {
   "display_name": "Python 3",
   "language": "python",
   "name": "python3"
  },
  "language_info": {
   "codemirror_mode": {
    "name": "ipython",
    "version": 2
   },
   "file_extension": ".py",
   "mimetype": "text/x-python",
   "name": "python",
   "nbconvert_exporter": "python",
   "pygments_lexer": "ipython2",
   "version": "2.7.6"
  }
 },
 "nbformat": 4,
 "nbformat_minor": 5
}
