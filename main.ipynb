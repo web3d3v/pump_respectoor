{
 "cells": [
  {
   "cell_type": "code",
   "execution_count": 1,
   "outputs": [
    {
     "data": {
      "text/plain": "True"
     },
     "execution_count": 1,
     "metadata": {},
     "output_type": "execute_result"
    }
   ],
   "source": [
    "# Imports\n",
    "from utils import read_json_file, write_json_file, read_json_file_or_empty_list\n",
    "from utils import large_num_short_format\n",
    "from dotenv import load_dotenv\n",
    "from typing import  List, Dict\n",
    "from utils import print_progress\n",
    "import pandas as pd\n",
    "import numpy as np\n",
    "import matplotlib.pyplot as plt\n",
    "import  math\n",
    "\n",
    "load_dotenv()"
   ],
   "metadata": {
    "collapsed": false,
    "ExecuteTime": {
     "end_time": "2023-10-16T18:05:12.177105818Z",
     "start_time": "2023-10-16T18:05:11.497049520Z"
    }
   },
   "id": "4f6174abe5096364"
  },
  {
   "cell_type": "code",
   "execution_count": 2,
   "outputs": [
    {
     "name": "stdout",
     "output_type": "stream",
     "text": [
      "\n",
      "Coins: 10431, Markets: 10431\n",
      " Loading chart_full idx: 10424 / 10425, 100.0%       \n",
      "Charts with price data count: 9887\n"
     ]
    }
   ],
   "source": [
    "# Load coins and markets\n",
    "from download_chart_data import ChartInterval\n",
    "from download_chart_data import load_chart_by_interval\n",
    "\n",
    "coins: List[Dict[str, any]] = read_json_file(\"data/coins.json\")\n",
    "markets: List[Dict[str, any]] = read_json_file(\"data/markets.json\")\n",
    "print(\"\\nCoins: {}, Markets: {}\".format(len(coins), len(markets)))\n",
    "\n",
    "# Load daily charts and convert them to daily \n",
    "charts = load_chart_by_interval(ChartInterval.FULL)\n",
    "print(\"\\nCharts with price data count: {}\".format(len(charts)))"
   ],
   "metadata": {
    "collapsed": false,
    "ExecuteTime": {
     "end_time": "2023-10-16T18:05:29.616226674Z",
     "start_time": "2023-10-16T18:05:12.170962445Z"
    }
   },
   "id": "4465fd73f9d19355"
  },
  {
   "cell_type": "markdown",
   "source": [],
   "metadata": {
    "collapsed": false
   },
   "id": "1a8e2ac3794623e"
  },
  {
   "cell_type": "code",
   "execution_count": 3,
   "outputs": [
    {
     "name": "stdout",
     "output_type": "stream",
     "text": [
      " Searching for pumps idx: 9886 / 9887, 100.0%       "
     ]
    }
   ],
   "source": [
    "# Find chart pumps\n",
    "from download_chart_data import chart_data_to_df\n",
    "from utils import year_month_str\n",
    "\n",
    "def is_pump(\n",
    "    price: float, prev_price: float, pump_ratio: float, volume: float, \n",
    "    min_volume: float\n",
    ") -> bool:\n",
    "    if math.isnan(prev_price) or math.isnan(price):\n",
    "        return False\n",
    "    return price >= prev_price * pump_ratio and volume > min_volume\n",
    "\n",
    "\n",
    "def pumps_info(\n",
    "    chart_data: List[Dict[str, any]], pump_ratio: float, min_volume: float\n",
    ") -> pd.DataFrame:\n",
    "    df = chart_data_to_df(chart_data)\n",
    "    df['Ym'] = list(map(lambda x: year_month_str(x), df.index))\n",
    "    # shift price and add pump bool\n",
    "    df.insert(1, 'prev_price', df['price'].shift(1))\n",
    "    df['pump'] = df.apply(\n",
    "        lambda x: is_pump(x['price'], x['prev_price'], pump_ratio, x['volume'], min_volume),\n",
    "        axis=1\n",
    "    )\n",
    "    # select pump rows\n",
    "    return df.loc[df['pump'] == True]\n",
    "\n",
    "\n",
    "pump_ratio = 1.5\n",
    "min_volume = 500000\n",
    "chart_pumps_df: Dict[str, pd.DataFrame] = dict()\n",
    "\n",
    "# for each chart\n",
    "for idx, key in enumerate(charts):\n",
    "    chart = charts[key]\n",
    "    print_progress(\"Searching for pumps\", idx, len(charts), True)\n",
    "    chart_pumps_df[key] = pumps_info(chart, pump_ratio, min_volume)"
   ],
   "metadata": {
    "collapsed": false,
    "ExecuteTime": {
     "end_time": "2023-10-16T18:07:21.237884513Z",
     "start_time": "2023-10-16T18:05:29.662170589Z"
    }
   },
   "id": "a750d49fb02cd49c"
  },
  {
   "cell_type": "code",
   "execution_count": 4,
   "outputs": [
    {
     "name": "stdout",
     "output_type": "stream",
     "text": [
      " Counting for pumps idx: 83 / 84, 98.8%       "
     ]
    }
   ],
   "source": [
    "# Counting pumps per month\n",
    "from utils import year_month_keys\n",
    "\n",
    "keys = year_month_keys(list(range(2017, 2024)), list(range(1, 13)))\n",
    "df = pd.DataFrame(data={\n",
    "    'year/month': keys, \n",
    "    \"pumps\": np.zeros(len(keys)), \n",
    "    \"markets\": map(lambda x: \"\", np.zeros(len(keys)))\n",
    "})\n",
    "\n",
    "for idx, key in enumerate(keys):\n",
    "    for df_key in chart_pumps_df:\n",
    "        chart_pump_df = chart_pumps_df[df_key]\n",
    "        pump_cnt = chart_pump_df.loc[chart_pump_df['Ym'] == key].shape[0]\n",
    "        if pump_cnt > 0:\n",
    "            df.loc[df['year/month'] == key, 'pumps'] += pump_cnt\n",
    "            df.loc[df['year/month'] == key, 'markets'] += \"{}, \".format(df_key)\n",
    "\n",
    "    print_progress(\"Counting for pumps\", idx, len(keys), True)\n",
    "    \n",
    "chart_pumps_plot_df = df"
   ],
   "metadata": {
    "collapsed": false,
    "ExecuteTime": {
     "end_time": "2023-10-16T18:11:13.365271771Z",
     "start_time": "2023-10-16T18:07:21.491895834Z"
    }
   },
   "id": "993c0300660e0b77"
  },
  {
   "cell_type": "code",
   "execution_count": 5,
   "outputs": [
    {
     "name": "stdout",
     "output_type": "stream",
     "text": [
      "   year/month  pumps                                                                          markets legend\n",
      "70    2022-11  153.0  memecoin, opx-finance, kava-swap, klaycity-orb, dejitaru-tsuka, local-trader...  22-11\n",
      "71    2022-12  121.0  wallet-defi, tnc-coin, metanept, pixelverse, btrips, ethereumfair, maya-pref...  22-12\n",
      "72    2023-01  173.0  cope-token, fusotao, morpheus-labs, 1sol, klaycity-orb, frutti-dino, fronk, ...  23-01\n",
      "73    2023-02  285.0  velo, alexgo, opx-finance, poseidon-2, gamium, rare-fnd, camelot-token, cryp...  23-02\n",
      "74    2023-03  150.0  zktsunami, fintoken, arb-protocol, gamium, all-in, microchains-gov-token, de...  23-03\n",
      "75    2023-04  167.0  bob-token, dehealth, nasdex-token, sign, koinos, dgnapp-ai, floki-ceo, maya-...  23-04\n",
      "76    2023-05  276.0  memecoin, psyop, legends-token, bob-token, pdx-coin, pepesol, guacamole, wed...  23-05\n",
      "77    2023-06  127.0  psyop, wassie, neon-coin, metanept, bobo-coin, bscex, relevant, biaocoin, ha...  23-06\n",
      "78    2023-07  164.0  psyop, sign, bobo-coin, rook, microchains-gov-token, maya-preferred-223, dog...  23-07\n",
      "79    2023-08  134.0  alexgo, qrolli, grimace, test-2, bullet-game, maya-preferred-223, og-fan-tok...  23-08\n",
      "80    2023-09  107.0  solarx, guacamole, ethereumfair, on-chain-dynamics, pirichain, loom-network-...  23-09\n",
      "81    2023-10   55.0  barnbridge, ooki, adappter-token, gold-fever-native-gold, stratis, only-poss...  23-10\n"
     ]
    },
    {
     "data": {
      "text/plain": "<Figure size 1200x600 with 1 Axes>",
      "image/png": "[encoded data removed]"
     },
     "metadata": {},
     "output_type": "display_data"
    }
   ],
   "source": [
    "df = chart_pumps_plot_df.copy().head(chart_pumps_plot_df.shape[0] - 2).tail(100)\n",
    "df['legend'] = df.apply(lambda x: x['year/month'][2:], axis=1)\n",
    "pd.set_option('display.width', 256)\n",
    "pd.set_option('display.max_colwidth', 80)\n",
    "print(df.tail(12))\n",
    "pd.reset_option('display.width')\n",
    "pd.reset_option('display.max_colwidth')\n",
    "\n",
    "fig, ax = plt.subplots(figsize=(12, 6))\n",
    "ax.bar(df['legend'], df['pumps'])\n",
    "\n",
    "for i, t in enumerate(ax.get_xticklabels()):\n",
    "    if (i % 6) != 0:\n",
    "        t.set_visible(False)\n",
    "\n",
    "plt.tight_layout() \n",
    "plt.show()"
   ],
   "metadata": {
    "collapsed": false,
    "ExecuteTime": {
     "end_time": "2023-10-16T18:11:13.712751305Z",
     "start_time": "2023-10-16T18:11:13.372853486Z"
    }
   },
   "id": "58381ff76bffd8f5"
  },
  {
   "cell_type": "code",
   "execution_count": 6,
   "outputs": [
    {
     "name": "stdout",
     "output_type": "stream",
     "text": [
      "barnbridge\n",
      "ooki\n",
      "adappter-token\n",
      "gold-fever-native-gold\n",
      "stratis\n",
      "only-possible-on-ethereum\n",
      "evadore\n",
      "swingby\n",
      "yocoinyoco\n",
      "roaland-core\n",
      "decubate\n",
      "polaris-share\n",
      "delysium\n",
      "pepe-token\n",
      "amber-phantom-butterfly\n",
      "quiztok\n",
      "payment-swap-utility-board\n",
      "octofi\n",
      "sora\n",
      "deesse\n",
      "cryptopawcoin\n",
      "spx6900\n",
      "zuzuai\n",
      "turbo\n",
      "jesus-coin\n",
      "pay-coin\n",
      "blackpearl-chain\n",
      "long\n",
      "request-network\n",
      "equitypay\n",
      "seiren-games-network\n",
      "bitica-coin\n",
      "captain-tsubasa\n",
      "mind-matrix\n",
      "basepal\n",
      "wazirx\n",
      "gomoney2\n",
      "lunchdao\n",
      "spotted-turtle\n",
      "gameai\n",
      "apes-go-bananas\n",
      "big-time\n",
      "barbiecrashbandicootrfk88\n",
      "dex-game\n",
      "dark-queen-duck\n"
     ]
    }
   ],
   "source": [
    "# Display pump for month\n",
    "key = '2023-10'\n",
    "row = chart_pumps_plot_df.loc[chart_pumps_plot_df['year/month'] == key]\n",
    "\n",
    "markets = row['markets'].values[0].split(', ')[:-1]\n",
    "for market in markets:\n",
    "    print(market)"
   ],
   "metadata": {
    "collapsed": false,
    "ExecuteTime": {
     "end_time": "2023-10-16T18:11:13.722670110Z",
     "start_time": "2023-10-16T18:11:13.721750214Z"
    }
   },
   "id": "a6a78bce9d0bd45d"
  },
  {
   "cell_type": "code",
   "execution_count": null,
   "outputs": [
    {
     "name": "stdout",
     "output_type": "stream",
     "text": [
      "Pump ratio: 1.5, Min Volume: 100000\n",
      " Counting for pumps idx: 36 / 82, 43.9%             "
     ]
    }
   ],
   "source": [
    "# Generate files and charts for variety of configs\n",
    "\n",
    "def get_chart_pumps_df(\n",
    "    charts: Dict[str, Dict[str, any]], pump_ratio: float, min_volume: float\n",
    ") -> Dict[str, pd.DataFrame]:\n",
    "    chart_pumps_df: Dict[str, pd.DataFrame] = dict()\n",
    "    for idx, key in enumerate(charts):\n",
    "        chart = charts[key]\n",
    "        print_progress(\"Searching for pumps\", idx, len(charts), True)\n",
    "        chart_pumps_df[key] = pumps_info(chart, pump_ratio, min_volume)\n",
    "    return chart_pumps_df\n",
    "\n",
    "\n",
    "def get_chart_pumps_plot_df(\n",
    "    keys: List[str], chart_pumps_df: Dict[str, pd.DataFrame]\n",
    ") -> pd.DataFrame:\n",
    "    df = pd.DataFrame(data={\n",
    "        'year/month': keys, \n",
    "        \"pumps\": np.zeros(len(keys)), \n",
    "        \"markets\": map(lambda x: \"\", np.zeros(len(keys)))\n",
    "    })\n",
    "    for idx, key in enumerate(keys):\n",
    "        for df_key in chart_pumps_df:\n",
    "            chart_pump_df = chart_pumps_df[df_key]\n",
    "            pump_cnt = chart_pump_df.loc[chart_pump_df['Ym'] == key].shape[0]\n",
    "            if pump_cnt > 0:\n",
    "                df.loc[df['year/month'] == key, 'pumps'] += pump_cnt\n",
    "                df.loc[df['year/month'] == key, 'markets'] += \"{}, \".format(df_key)\n",
    "    \n",
    "        print_progress(\"Counting for pumps\", idx, len(keys), True)\n",
    "    return df\n",
    "\n",
    "\n",
    "def plot_df(chart_pumps_plot_df: pd.DataFrame):\n",
    "    df = chart_pumps_plot_df.copy().head(chart_pumps_plot_df.shape[0] - 2).tail(100)\n",
    "    df['legend'] = df.apply(lambda x: x['year/month'][2:], axis=1)\n",
    "    print(df.tail(12))\n",
    "    fig, ax = plt.subplots(figsize=(12, 6))\n",
    "    ax.bar(df['legend'], df['pumps'])\n",
    "    for i, t in enumerate(ax.get_xticklabels()):\n",
    "        if (i % 6) != 0:\n",
    "            t.set_visible(False)\n",
    "    plt.tight_layout() \n",
    "    plt.show()\n",
    "\n",
    "\n",
    "def write_pump_to_file(df: pd.DataFrame, pump_ratio: float, min_volume: float):\n",
    "    results = read_json_file_or_empty_list('results/chart_info.json')\n",
    "    info = dict()\n",
    "    pump_count_for_month = dict()\n",
    "    pump_coins_for_month = dict()\n",
    "    for key in df['year/month'].values:\n",
    "        row = df.loc[df['year/month'] == key]\n",
    "        pump_count_for_month[key] = row['pumps'].values[0]\n",
    "        pump_coins_for_month[key] = row['markets'].values[0].split(', ')[:-1]    \n",
    "    info['pump_ratio'] = pump_ratio \n",
    "    info['min_volume'] = min_volume\n",
    "    info['pump_count_for_month'] = pump_count_for_month\n",
    "    info['pump_coins_for_month'] = pump_coins_for_month\n",
    "    results.append(info)\n",
    "    write_json_file('results/chart_info.json', results)\n",
    "\n",
    "\n",
    "pd.set_option('display.width', 256)\n",
    "pd.set_option('display.max_colwidth', 80)\n",
    "\n",
    "pump_ratios = [1.5, 2.0, 4.0, 8.0]\n",
    "min_volumes = [100000, 500000, 1000000, 10000000]\n",
    "keys = year_month_keys(list(range(2017, 2024)), list(range(1, 13)))[-102:-2]\n",
    "ratio_results = dict()\n",
    "\n",
    "for pump_ratio in pump_ratios:\n",
    "    volume_results = dict()\n",
    "    for min_volume in min_volumes:\n",
    "        print(\"Pump ratio: {}, Min Volume: {}\".format(pump_ratio, min_volume))\n",
    "        chart_pumps_df = get_chart_pumps_df(charts, pump_ratio, min_volume)\n",
    "        chart_pumps_plot_df = get_chart_pumps_plot_df(keys, chart_pumps_df)\n",
    "        # plot_df(chart_pumps_plot_df)\n",
    "        write_pump_to_file(chart_pumps_plot_df, pump_ratio, min_volume)\n",
    "        volume_results[min_volume] = chart_pumps_plot_df\n",
    "    ratio_results[pump_ratio] = volume_results\n",
    "\n",
    "pd.reset_option('display.width')\n",
    "pd.reset_option('display.max_colwidth')"
   ],
   "metadata": {
    "collapsed": false,
    "is_executing": true,
    "ExecuteTime": {
     "start_time": "2023-10-16T21:16:03.683706334Z"
    }
   },
   "id": "3be129791c0c2d77"
  },
  {
   "cell_type": "code",
   "execution_count": null,
   "outputs": [],
   "source": [
    "def plot_ratio(ratio: float, volume: Dict[int, pd.DataFrame]):\n",
    "    fig, ax = plt.subplots()\n",
    "    for volume_key in volume_results:\n",
    "        df = volume_results[volume_key]\n",
    "        df['legend'] = df.apply(lambda x: x['year/month'][2:], axis=1)\n",
    "        ax.bar(df['legend'], df['pumps'])\n",
    "        for i, t in enumerate(ax.get_xticklabels()):\n",
    "            if (i % 6) != 0:\n",
    "                t.set_visible(False)\n",
    "    plt.tight_layout() \n",
    "    plt.show()\n",
    "\n",
    "\n",
    "def print_data(ratio: float, volume_results: Dict[int, pd.DataFrame], keep_market: bool = False):\n",
    "    merged_df = None\n",
    "    for volume_key in volume_results:\n",
    "        df = volume_results[volume_key]\n",
    "        df['legend'] = df.apply(lambda x: x['year/month'][2:], axis=1)\n",
    "        df = df.set_index('year/month')\n",
    "        row = pd.DataFrame(data={\n",
    "            'year/month': ['MEAN', 'MEDIAN'], \n",
    "            'pumps': [df.loc[:, 'pumps'].mean(), df.loc[:, 'pumps'].median()]\n",
    "        })\n",
    "        row = row.set_index('year/month')\n",
    "        df = pd.concat([df, row])\n",
    "        df = df.rename(columns={'pumps': large_num_short_format(volume_key)})\n",
    "        if keep_market:\n",
    "            df = df.rename(columns={'markets': large_num_short_format(volume_key)})\n",
    "            df = df.drop(['legend'], axis=1)\n",
    "        else:\n",
    "            df = df.drop(['markets', 'legend'], axis=1)\n",
    "        if merged_df is None:\n",
    "            merged_df = df\n",
    "        else:\n",
    "            merged_df = merged_df.join(df)\n",
    "    extra = '_mrk' if keep_market else '' \n",
    "    merged_df.to_csv('results/chart_ratio_' + str(ratio) + extra + '.csv', index=True)    \n",
    "    print(merged_df.tail(8))\n",
    "    \n",
    "    \n",
    "for ratio_key in ratio_results:\n",
    "    print(\"Pump ratio {}x\".format(ratio_key))\n",
    "    volume_results = ratio_results[ratio_key]\n",
    "    print_data(ratio_key, volume_results)\n",
    "    plot_ratio(ratio_key, volume_results)   "
   ],
   "metadata": {
    "collapsed": false,
    "is_executing": true
   },
   "id": "a77aa9a3a746ddfc"
  },
  {
   "cell_type": "markdown",
   "source": [],
   "metadata": {
    "collapsed": false
   },
   "id": "d8f9b9790d6a834c"
  }
 ],
 "metadata": {
  "kernelspec": {
   "display_name": "Python 3",
   "language": "python",
   "name": "python3"
  },
  "language_info": {
   "codemirror_mode": {
    "name": "ipython",
    "version": 2
   },
   "file_extension": ".py",
   "mimetype": "text/x-python",
   "name": "python",
   "nbconvert_exporter": "python",
   "pygments_lexer": "ipython2",
   "version": "2.7.6"
  }
 },
 "nbformat": 4,
 "nbformat_minor": 5
}
