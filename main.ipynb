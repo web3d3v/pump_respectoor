{
 "cells": [
  {
   "cell_type": "code",
   "execution_count": 1,
   "outputs": [
    {
     "data": {
      "text/plain": "True"
     },
     "execution_count": 1,
     "metadata": {},
     "output_type": "execute_result"
    }
   ],
   "source": [
    "# Imports\n",
    "from utils import read_json_file, write_json_file, read_json_file_or_empty_list\n",
    "from dotenv import load_dotenv\n",
    "from typing import  List, Dict\n",
    "from utils import print_progress\n",
    "import pandas as pd\n",
    "import numpy as np\n",
    "import matplotlib.pyplot as plt\n",
    "import  math\n",
    "\n",
    "load_dotenv()"
   ],
   "metadata": {
    "collapsed": false,
    "ExecuteTime": {
     "end_time": "2023-10-16T12:05:29.945924685Z",
     "start_time": "2023-10-16T12:05:29.319329081Z"
    }
   },
   "id": "4f6174abe5096364"
  },
  {
   "cell_type": "code",
   "execution_count": 2,
   "outputs": [
    {
     "name": "stdout",
     "output_type": "stream",
     "text": [
      "\n",
      "Coins: 10431, Markets: 10431\n",
      " Loading chart_full idx: 10424 / 10425, 100.0%       \n",
      "Charts with price data count: 9887\n"
     ]
    }
   ],
   "source": [
    "# Load coins and markets\n",
    "from download_chart_data import ChartInterval\n",
    "from download_chart_data import load_chart_by_interval\n",
    "\n",
    "coins: List[Dict[str, any]] = read_json_file(\"data/coins.json\")\n",
    "markets: List[Dict[str, any]] = read_json_file(\"data/markets.json\")\n",
    "print(\"\\nCoins: {}, Markets: {}\".format(len(coins), len(markets)))\n",
    "\n",
    "# Load daily charts and convert them to daily \n",
    "charts = load_chart_by_interval(ChartInterval.FULL)\n",
    "print(\"\\nCharts with price data count: {}\".format(len(charts)))"
   ],
   "metadata": {
    "collapsed": false,
    "ExecuteTime": {
     "end_time": "2023-10-16T12:05:43.780064507Z",
     "start_time": "2023-10-16T12:05:29.943268598Z"
    }
   },
   "id": "4465fd73f9d19355"
  },
  {
   "cell_type": "markdown",
   "source": [],
   "metadata": {
    "collapsed": false
   },
   "id": "1a8e2ac3794623e"
  },
  {
   "cell_type": "code",
   "execution_count": null,
   "outputs": [
    {
     "name": "stdout",
     "output_type": "stream",
     "text": [
      " Searching for pumps idx: 3915 / 9887, 39.6%       "
     ]
    }
   ],
   "source": [
    "# Find chart pumps\n",
    "from download_chart_data import chart_data_to_df\n",
    "from utils import year_month_str\n",
    "\n",
    "def is_pump(\n",
    "    price: float, prev_price: float, pump_ratio: float, volume: float, \n",
    "    min_volume: float\n",
    ") -> bool:\n",
    "    if math.isnan(prev_price) or math.isnan(price):\n",
    "        return False\n",
    "    return price >= prev_price * pump_ratio and volume > min_volume\n",
    "\n",
    "\n",
    "def pumps_info(\n",
    "    chart_data: List[Dict[str, any]], pump_ratio: float, min_volume: float\n",
    ") -> pd.DataFrame:\n",
    "    df = chart_data_to_df(chart_data)\n",
    "    df['Ym'] = list(map(lambda x: year_month_str(x), df.index))\n",
    "    # shift price and add pump bool\n",
    "    df.insert(1, 'prev_price', df['price'].shift(1))\n",
    "    df['pump'] = df.apply(\n",
    "        lambda x: is_pump(x['price'], x['prev_price'], pump_ratio, x['volume'], min_volume),\n",
    "        axis=1\n",
    "    )\n",
    "    # select pump rows\n",
    "    return df.loc[df['pump'] == True]\n",
    "\n",
    "\n",
    "pump_ratio = 1.5\n",
    "min_volume = 500000\n",
    "chart_pumps_df: Dict[str, pd.DataFrame] = dict()\n",
    "\n",
    "# for each chart\n",
    "for idx, key in enumerate(charts):\n",
    "    chart = charts[key]\n",
    "    print_progress(\"Searching for pumps\", idx, len(charts), True)\n",
    "    chart_pumps_df[key] = pumps_info(chart, pump_ratio, min_volume)"
   ],
   "metadata": {
    "collapsed": false,
    "is_executing": true,
    "ExecuteTime": {
     "start_time": "2023-10-16T12:05:43.838393844Z"
    }
   },
   "id": "a750d49fb02cd49c"
  },
  {
   "cell_type": "code",
   "execution_count": null,
   "outputs": [],
   "source": [
    "# Counting pumps per month\n",
    "from utils import year_month_keys\n",
    "\n",
    "keys = year_month_keys(list(range(2017, 2024)), list(range(1, 13)))\n",
    "df = pd.DataFrame(data={\n",
    "    'year/month': keys, \n",
    "    \"pumps\": np.zeros(len(keys)), \n",
    "    \"markets\": map(lambda x: \"\", np.zeros(len(keys)))\n",
    "})\n",
    "\n",
    "for idx, key in enumerate(keys):\n",
    "    for df_key in chart_pumps_df:\n",
    "        chart_pump_df = chart_pumps_df[df_key]\n",
    "        pump_cnt = chart_pump_df.loc[chart_pump_df['Ym'] == key].shape[0]\n",
    "        if pump_cnt > 0:\n",
    "            df.loc[df['year/month'] == key, 'pumps'] += pump_cnt\n",
    "            df.loc[df['year/month'] == key, 'markets'] += \"{}, \".format(df_key)\n",
    "\n",
    "    print_progress(\"Counting for pumps\", idx, len(keys), True)\n",
    "    \n",
    "chart_pumps_plot_df = df"
   ],
   "metadata": {
    "collapsed": false,
    "is_executing": true
   },
   "id": "993c0300660e0b77"
  },
  {
   "cell_type": "code",
   "execution_count": null,
   "outputs": [],
   "source": [
    "df = chart_pumps_plot_df.copy().head(chart_pumps_plot_df.shape[0] - 2).tail(100)\n",
    "df['legend'] = df.apply(lambda x: x['year/month'][2:], axis=1)\n",
    "pd.set_option('display.width', 256)\n",
    "pd.set_option('display.max_colwidth', 80)\n",
    "print(df.tail(12))\n",
    "pd.reset_option('display.width')\n",
    "pd.reset_option('display.max_colwidth')\n",
    "\n",
    "fig, ax = plt.subplots(figsize=(12, 6))\n",
    "ax.bar(df['legend'], df['pumps'])\n",
    "\n",
    "for i, t in enumerate(ax.get_xticklabels()):\n",
    "    if (i % 6) != 0:\n",
    "        t.set_visible(False)\n",
    "\n",
    "plt.tight_layout() \n",
    "plt.show()"
   ],
   "metadata": {
    "collapsed": false,
    "is_executing": true
   },
   "id": "58381ff76bffd8f5"
  },
  {
   "cell_type": "code",
   "execution_count": null,
   "outputs": [],
   "source": [
    "# Display pump for month\n",
    "key = '2023-10'\n",
    "row = chart_pumps_plot_df.loc[chart_pumps_plot_df['year/month'] == key]\n",
    "\n",
    "markets = row['markets'].values[0].split(', ')[:-1]\n",
    "for market in markets:\n",
    "    print(market)"
   ],
   "metadata": {
    "collapsed": false,
    "is_executing": true
   },
   "id": "a6a78bce9d0bd45d"
  },
  {
   "cell_type": "code",
   "execution_count": null,
   "outputs": [],
   "source": [
    "# Generate files and charts for variety of configs\n",
    "\n",
    "def get_chart_pumps_df(\n",
    "    charts: Dict[str, Dict[str, any]], pump_ratio: float, min_volume: float\n",
    ") -> Dict[str, pd.DataFrame]:\n",
    "    chart_pumps_df: Dict[str, pd.DataFrame] = dict()\n",
    "    for idx, key in enumerate(charts):\n",
    "        chart = charts[key]\n",
    "        print_progress(\"Searching for pumps\", idx, len(charts), True)\n",
    "        chart_pumps_df[key] = pumps_info(chart, pump_ratio, min_volume)\n",
    "    return chart_pumps_df\n",
    "\n",
    "\n",
    "def get_chart_pumps_plot_df(\n",
    "    keys: List[str], chart_pumps_df: Dict[str, pd.DataFrame]\n",
    ") -> pd.DataFrame:\n",
    "    df = pd.DataFrame(data={\n",
    "        'year/month': keys, \n",
    "        \"pumps\": np.zeros(len(keys)), \n",
    "        \"markets\": map(lambda x: \"\", np.zeros(len(keys)))\n",
    "    })\n",
    "    for idx, key in enumerate(keys):\n",
    "        for df_key in chart_pumps_df:\n",
    "            chart_pump_df = chart_pumps_df[df_key]\n",
    "            pump_cnt = chart_pump_df.loc[chart_pump_df['Ym'] == key].shape[0]\n",
    "            if pump_cnt > 0:\n",
    "                df.loc[df['year/month'] == key, 'pumps'] += pump_cnt\n",
    "                df.loc[df['year/month'] == key, 'markets'] += \"{}, \".format(df_key)\n",
    "    \n",
    "        print_progress(\"Counting for pumps\", idx, len(keys), True)\n",
    "    return df\n",
    "\n",
    "\n",
    "def plot_df(chart_pumps_plot_df: pd.DataFrame):\n",
    "    df = chart_pumps_plot_df.copy().head(chart_pumps_plot_df.shape[0] - 2).tail(100)\n",
    "    df['legend'] = df.apply(lambda x: x['year/month'][2:], axis=1)\n",
    "    print(df.tail(12))\n",
    "    fig, ax = plt.subplots(figsize=(12, 6))\n",
    "    ax.bar(df['legend'], df['pumps'])\n",
    "    for i, t in enumerate(ax.get_xticklabels()):\n",
    "        if (i % 6) != 0:\n",
    "            t.set_visible(False)\n",
    "    plt.tight_layout() \n",
    "    plt.show()\n",
    "\n",
    "\n",
    "def write_pump_to_file(df: pd.DataFrame, pump_ratio: float, min_volume: float):\n",
    "    results = read_json_file_or_empty_list('results/chart_info.json')\n",
    "    info = dict()\n",
    "    pump_count_for_month = dict()\n",
    "    pump_coins_for_month = dict()\n",
    "    for key in df['year/month'].values:\n",
    "        row = chart_pumps_plot_df.loc[chart_pumps_plot_df['year/month'] == key]\n",
    "        pump_count_for_month[key] = row['pumps'].values[0]\n",
    "        pump_coins_for_month[key] = row['markets'].values[0].split(', ')[:-1]    \n",
    "    info['pump_ratio'] = pump_ratio \n",
    "    info['min_volume'] = min_volume\n",
    "    info['pump_count_for_month'] = pump_count_for_month\n",
    "    info['pump_coins_for_month'] = pump_coins_for_month\n",
    "    results.append(info)\n",
    "    write_json_file('results/chart_info.json', results)\n",
    "\n",
    "\n",
    "pd.set_option('display.width', 256)\n",
    "pd.set_option('display.max_colwidth', 80)\n",
    "\n",
    "pump_ratios = [1.5, 2.0, 4.0, 8.0]\n",
    "min_volumes = [100000, 500000, 1000000, 10000000]\n",
    "keys = year_month_keys(list(range(2017, 2024)), list(range(1, 13)))\n",
    "\n",
    "for pump_ratio in pump_ratios:\n",
    "    for min_volume in min_volumes:\n",
    "        print(\"Pump ratio: {}, Min Volume: {}\".format(pump_ratio, min_volume))\n",
    "        print(\"==============================================================\")\n",
    "        chart_pumps_df = get_chart_pumps_df(charts, pump_ratio, min_volume)\n",
    "        chart_pumps_plot_df = get_chart_pumps_plot_df(keys, chart_pumps_df)\n",
    "        plot_df(chart_pumps_plot_df)\n",
    "        read_json_file_or_empty_list(chart_pumps_plot_df, pump_ratio, min_volume)\n",
    "\n",
    "pd.reset_option('display.width')\n",
    "pd.reset_option('display.max_colwidth')"
   ],
   "metadata": {
    "collapsed": false,
    "is_executing": true
   },
   "id": "3be129791c0c2d77"
  },
  {
   "cell_type": "markdown",
   "source": [],
   "metadata": {
    "collapsed": false
   },
   "id": "d8f9b9790d6a834c"
  }
 ],
 "metadata": {
  "kernelspec": {
   "display_name": "Python 3",
   "language": "python",
   "name": "python3"
  },
  "language_info": {
   "codemirror_mode": {
    "name": "ipython",
    "version": 2
   },
   "file_extension": ".py",
   "mimetype": "text/x-python",
   "name": "python",
   "nbconvert_exporter": "python",
   "pygments_lexer": "ipython2",
   "version": "2.7.6"
  }
 },
 "nbformat": 4,
 "nbformat_minor": 5
}
