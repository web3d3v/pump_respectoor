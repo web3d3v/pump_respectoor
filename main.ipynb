{
 "cells": [
  {
   "cell_type": "code",
   "execution_count": 1,
   "outputs": [],
   "source": [
    "# Setup db connection\n",
    "from dotenv import load_dotenv\n",
    "import mysql.connector\n",
    "import os\n",
    "import pathlib\n",
    "\n",
    "load_dotenv()\n",
    "\n",
    "db = mysql.connector.connect(\n",
    "    host=os.environ.get(\"DB_HOST\"),\n",
    "    user=os.environ.get(\"DB_USER\"),\n",
    "    passwd=os.environ.get(\"DB_PASS\"),\n",
    "    database=os.environ.get(\"DB_NAME\"),\n",
    ")\n",
    "cursor = db.cursor()"
   ],
   "metadata": {
    "collapsed": false,
    "ExecuteTime": {
     "end_time": "2023-10-12T14:33:00.058539956Z",
     "start_time": "2023-10-12T14:33:00.058249716Z"
    }
   },
   "id": "4f6174abe5096364"
  },
  {
   "cell_type": "code",
   "execution_count": 3,
   "outputs": [
    {
     "name": "stdout",
     "output_type": "stream",
     "text": [
      "hello world\n"
     ]
    }
   ],
   "source": [],
   "metadata": {
    "collapsed": false,
    "ExecuteTime": {
     "end_time": "2023-10-12T17:45:29.456936382Z",
     "start_time": "2023-10-12T17:45:29.410856030Z"
    }
   },
   "id": "4465fd73f9d19355"
  },
  {
   "cell_type": "code",
   "execution_count": 102,
   "outputs": [
    {
     "name": "stdout",
     "output_type": "stream",
     "text": [
      " writing 6499 / 6500 plvglp plvGLP                ing Corp                      KEN                                                   "
     ]
    }
   ],
   "source": [
    "sql = \"INSERT INTO markets (coingecko_id, symbol, name, market_cap, market_cap_rank) \"\n",
    "sql += \"VALUES (%s, %s, %s, %s, %s)\"\n",
    "\n",
    "i = 1\n",
    "for market in markets:\n",
    "    print('\\r', 'writing', i, '/', len(markets), market['id'], market['name'], '               ', end='')\n",
    "    i += 1\n",
    "    val = (\n",
    "        market[\"id\"][:24], \n",
    "        market[\"symbol\"][:24], \n",
    "        market[\"name\"][:64], \n",
    "        market[\"market_cap\"], \n",
    "        market[\"market_cap_rank\"],\n",
    "     )\n",
    "    cursor.execute(sql, val)\n",
    "db.commit()\n"
   ],
   "metadata": {
    "collapsed": false,
    "ExecuteTime": {
     "end_time": "2023-10-12T07:34:14.206046413Z",
     "start_time": "2023-10-12T07:34:05.994007142Z"
    }
   },
   "id": "b85af0a9ffcdd47f"
  },
  {
   "cell_type": "markdown",
   "source": [],
   "metadata": {
    "collapsed": false
   },
   "id": "d8f9b9790d6a834c"
  }
 ],
 "metadata": {
  "kernelspec": {
   "display_name": "Python 3",
   "language": "python",
   "name": "python3"
  },
  "language_info": {
   "codemirror_mode": {
    "name": "ipython",
    "version": 2
   },
   "file_extension": ".py",
   "mimetype": "text/x-python",
   "name": "python",
   "nbconvert_exporter": "python",
   "pygments_lexer": "ipython2",
   "version": "2.7.6"
  }
 },
 "nbformat": 4,
 "nbformat_minor": 5
}
