{
 "cells": [
  {
   "cell_type": "code",
   "execution_count": 1,
   "outputs": [
    {
     "data": {
      "text/plain": "True"
     },
     "execution_count": 1,
     "metadata": {},
     "output_type": "execute_result"
    }
   ],
   "source": [
    "import json\n",
    "from dotenv import load_dotenv\n",
    "\n",
    "from coin_checko_api import CoinGeckoAPI, ExecPolicy\n",
    "from utils import write_json_file, read_json_file\n",
    "\n",
    "load_dotenv() "
   ],
   "metadata": {
    "collapsed": false,
    "ExecuteTime": {
     "end_time": "2023-12-16T20:53:53.516140405Z",
     "start_time": "2023-12-16T20:53:53.505447086Z"
    }
   },
   "id": "4f6174abe5096364"
  },
  {
   "cell_type": "code",
   "execution_count": 2,
   "outputs": [
    {
     "name": "stdout",
     "output_type": "stream",
     "text": [
      "Downloaded coins  11482\n",
      "Downloaded markets  11482\n"
     ]
    }
   ],
   "source": [
    "from w3w import eth_native_and_erc20, change_id_to_coingecko\n",
    "from w3w import transform_to_markets_dict, img_metas, sort_by_rank, ranked_only_coins\n",
    "\n",
    "coins = read_json_file('data/coins.json')\n",
    "print('Downloaded coins ', len(coins))\n",
    "\n",
    "markets = read_json_file('data/markets.json')\n",
    "print('Downloaded markets ', len(markets))"
   ],
   "metadata": {
    "collapsed": false,
    "ExecuteTime": {
     "end_time": "2023-12-16T20:53:54.382600285Z",
     "start_time": "2023-12-16T20:53:53.517064352Z"
    }
   },
   "id": "26d1a0d374e78bf4"
  },
  {
   "cell_type": "code",
   "execution_count": 3,
   "outputs": [
    {
     "name": "stdout",
     "output_type": "stream",
     "text": [
      "Filtered out unsupported, remaining count 4778\n",
      "Ranked only count 2077\n"
     ]
    }
   ],
   "source": [
    "# Include only native or ethereum ERC20s\n",
    "\n",
    "coins = eth_native_and_erc20(coins)\n",
    "coins = change_id_to_coingecko(coins)\n",
    "markets_dict = transform_to_markets_dict(markets)\n",
    "\n",
    "coins = sort_by_rank(coins, markets_dict)\n",
    "coins_ranked_only = ranked_only_coins(coins, markets_dict)\n",
    "img_meta = img_metas(coins, markets_dict)\n",
    "img_meta_ranked_only = img_metas(coins_ranked_only, markets_dict)\n",
    "\n",
    "print('Filtered out unsupported, remaining count', len(coins))\n",
    "print('Ranked only count', len(coins_ranked_only))"
   ],
   "metadata": {
    "collapsed": false,
    "ExecuteTime": {
     "end_time": "2023-12-16T20:53:54.453049773Z",
     "start_time": "2023-12-16T20:53:54.448136021Z"
    }
   },
   "id": "17225b3a7e5bf06"
  },
  {
   "cell_type": "code",
   "execution_count": 4,
   "outputs": [
    {
     "name": "stdout",
     "output_type": "stream",
     "text": [
      "cache_currencies.json\n",
      "Coins:  4778\n",
      "cache_markets.json\n"
     ]
    }
   ],
   "source": [
    "from w3w import create_cache_markets, sort_by_rank, create_cache_currencies, cache_currencies_arrs, create_cache_markets_arr\n",
    "\n",
    "print('cache_currencies.json')\n",
    "coins = sort_by_rank(coins, markets_dict)\n",
    "coins = create_cache_currencies(coins)\n",
    "coins_arrs = cache_currencies_arrs(coins)\n",
    "#write_json_file('data/cache_currencies_1.json', coins)\n",
    "write_json_file('data/cache_currencies_1_arr.json', coins_arrs)\n",
    "print(\"Coins: \", len(coins))\n",
    "\n",
    "print('cache_markets.json')\n",
    "min_markets_dict = create_cache_markets(coins, markets_dict)\n",
    "min_markets_dict_arr = create_cache_markets_arr(coins, markets_dict)\n",
    "#write_json_file('data/cache_markets.json', min_markets_dict)\n",
    "write_json_file('data/cache_markets_arr.json', min_markets_dict_arr)"
   ],
   "metadata": {
    "collapsed": false,
    "ExecuteTime": {
     "end_time": "2023-12-16T20:53:56.716782966Z",
     "start_time": "2023-12-16T20:53:54.452971231Z"
    }
   },
   "id": "a503bec9a6632c0c"
  },
  {
   "cell_type": "code",
   "execution_count": 5,
   "outputs": [
    {
     "name": "stdout",
     "output_type": "stream",
     "text": [
      "Resizing\n",
      " Resizing image thecash.png idx: 6520 / 6521, 100.0%       x: 6519 / 6521, 100.0%                               \n",
      "Failed load count 0\n",
      "Failed resize count 0\n",
      "cache_metadatas.json\n",
      " Colors zurrency idx: 4777 / 4778, 100.0%            2aa3 idx: 4756 / 4778, 99.5%           %          \n",
      "metadata count 4778\n"
     ]
    }
   ],
   "source": [
    "from w3w import create_cache_metadatas, rename_known_bad_img_names\n",
    "from w3w import apply_override_images, resize_images, create_cache_metadatas_arrs\n",
    "\n",
    "print(\"Resizing\")\n",
    "rename_known_bad_img_names()\n",
    "apply_override_images()\n",
    "resize_images()\n",
    "\n",
    "print('cache_metadatas.json')\n",
    "# cache_metadatas = create_cache_metadatas(coins)\n",
    "# cache_metadatas_arr = create_cache_metadatas_arrs(\n",
    "#     create_cache_metadatas(coins)\n",
    "# )\n",
    "# cache_metadatas_sml = create_cache_metadatas(coins, True)\n",
    "cache_metadatas_sml_arr = create_cache_metadatas_arrs(\n",
    "    create_cache_metadatas(coins, True),\n",
    "    True\n",
    ")\n",
    "# write_json_file('data/cache_metadatas.json', cache_metadatas)\n",
    "# write_json_file('data/cache_metadatas_arr.json', cache_metadatas_arr)\n",
    "# write_json_file('data/cache_metadatas_sml.json', cache_metadatas_sml)\n",
    "write_json_file('data/cache_metadatas_arr.json', cache_metadatas_sml_arr)\n",
    "print(\"\\nmetadata count\", len(cache_metadatas_sml_arr))"
   ],
   "metadata": {
    "collapsed": false,
    "ExecuteTime": {
     "end_time": "2023-12-16T21:10:22.261678374Z",
     "start_time": "2023-12-16T20:53:56.718714359Z"
    }
   },
   "id": "ddc22c6c6fba9ee2"
  },
  {
   "cell_type": "markdown",
   "source": [],
   "metadata": {
    "collapsed": false
   },
   "id": "62bc9ee646756a"
  },
  {
   "cell_type": "code",
   "execution_count": 6,
   "outputs": [],
   "source": [
    "from w3w import copy_imgs_to_3x\n",
    "copy_imgs_to_3x(img_meta_ranked_only)"
   ],
   "metadata": {
    "collapsed": false,
    "ExecuteTime": {
     "end_time": "2023-12-16T21:10:22.499821972Z",
     "start_time": "2023-12-16T21:10:22.259878088Z"
    }
   },
   "id": "85eac70b86a1027e"
  }
 ],
 "metadata": {
  "kernelspec": {
   "display_name": "Python 3",
   "language": "python",
   "name": "python3"
  },
  "language_info": {
   "codemirror_mode": {
    "name": "ipython",
    "version": 2
   },
   "file_extension": ".py",
   "mimetype": "text/x-python",
   "name": "python",
   "nbconvert_exporter": "python",
   "pygments_lexer": "ipython2",
   "version": "2.7.6"
  }
 },
 "nbformat": 4,
 "nbformat_minor": 5
}
